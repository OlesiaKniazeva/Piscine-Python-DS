{
 "cells": [
  {
   "cell_type": "code",
   "execution_count": 2,
   "metadata": {
    "collapsed": true
   },
   "outputs": [],
   "source": [
    "import pandas as pd\n",
    "import sqlite3"
   ]
  },
  {
   "cell_type": "markdown",
   "source": [
    "## • create a connection to the database using the library sqlite3"
   ],
   "metadata": {
    "collapsed": false
   },
   "outputs": []
  },
  {
   "cell_type": "code",
   "execution_count": 3,
   "outputs": [],
   "source": [
    "con = sqlite3.connect('../data/checking-logs.sqlite.sqlite')"
   ],
   "metadata": {
    "collapsed": false
   }
  },
  {
   "cell_type": "markdown",
   "source": [
    "## • get the schema of the table test"
   ],
   "metadata": {
    "collapsed": false
   },
   "outputs": []
  },
  {
   "cell_type": "code",
   "execution_count": 4,
   "outputs": [
    {
     "data": {
      "text/plain": "   cid             name       type  notnull dflt_value  pk\n0    0            index    INTEGER        0       None   0\n1    1              uid       TEXT        0       None   0\n2    2          labname       TEXT        0       None   0\n3    3  first_commit_ts  TIMESTAMP        0       None   0\n4    4    first_view_ts  TIMESTAMP        0       None   0",
      "text/html": "<div>\n<style scoped>\n    .dataframe tbody tr th:only-of-type {\n        vertical-align: middle;\n    }\n\n    .dataframe tbody tr th {\n        vertical-align: top;\n    }\n\n    .dataframe thead th {\n        text-align: right;\n    }\n</style>\n<table border=\"1\" class=\"dataframe\">\n  <thead>\n    <tr style=\"text-align: right;\">\n      <th></th>\n      <th>cid</th>\n      <th>name</th>\n      <th>type</th>\n      <th>notnull</th>\n      <th>dflt_value</th>\n      <th>pk</th>\n    </tr>\n  </thead>\n  <tbody>\n    <tr>\n      <th>0</th>\n      <td>0</td>\n      <td>index</td>\n      <td>INTEGER</td>\n      <td>0</td>\n      <td>None</td>\n      <td>0</td>\n    </tr>\n    <tr>\n      <th>1</th>\n      <td>1</td>\n      <td>uid</td>\n      <td>TEXT</td>\n      <td>0</td>\n      <td>None</td>\n      <td>0</td>\n    </tr>\n    <tr>\n      <th>2</th>\n      <td>2</td>\n      <td>labname</td>\n      <td>TEXT</td>\n      <td>0</td>\n      <td>None</td>\n      <td>0</td>\n    </tr>\n    <tr>\n      <th>3</th>\n      <td>3</td>\n      <td>first_commit_ts</td>\n      <td>TIMESTAMP</td>\n      <td>0</td>\n      <td>None</td>\n      <td>0</td>\n    </tr>\n    <tr>\n      <th>4</th>\n      <td>4</td>\n      <td>first_view_ts</td>\n      <td>TIMESTAMP</td>\n      <td>0</td>\n      <td>None</td>\n      <td>0</td>\n    </tr>\n  </tbody>\n</table>\n</div>"
     },
     "execution_count": 4,
     "metadata": {},
     "output_type": "execute_result"
    }
   ],
   "source": [
    "pd.io.sql.read_sql(\"PRAGMA table_info(test);\", con)"
   ],
   "metadata": {
    "collapsed": false
   }
  },
  {
   "cell_type": "markdown",
   "source": [
    "## • get only the first 10 rows of the table test to check what the table looks like"
   ],
   "metadata": {
    "collapsed": false
   },
   "outputs": []
  },
  {
   "cell_type": "code",
   "execution_count": 5,
   "outputs": [
    {
     "data": {
      "text/plain": "   index      uid   labname             first_commit_ts  \\\n0      3  user_17  project1  2020-04-18 07:56:45.408648   \n1      4  user_30    laba04  2020-04-18 13:36:53.971502   \n2      7  user_30   laba04s  2020-04-18 14:51:37.498399   \n3      8  user_14    laba04  2020-04-18 15:14:00.312338   \n4     11  user_14   laba04s  2020-04-18 22:30:30.247628   \n5     18  user_19    laba04  2020-04-20 19:05:01.297780   \n6     19  user_25    laba04  2020-04-20 19:16:50.673054   \n7     20  user_21    laba04  2020-04-21 17:48:00.487806   \n8     21  user_30  project1  2020-04-22 12:36:24.053518   \n9     23  user_21   laba04s  2020-04-22 20:09:21.857747   \n\n                first_view_ts  \n0  2020-04-18 10:56:55.833899  \n1  2020-04-17 22:46:26.785035  \n2  2020-04-17 22:46:26.785035  \n3  2020-04-18 10:53:52.623447  \n4  2020-04-18 10:53:52.623447  \n5  2020-04-21 20:30:38.034966  \n6  2020-05-09 23:54:54.260791  \n7  2020-04-22 22:40:36.824081  \n8  2020-04-17 22:46:26.785035  \n9  2020-04-22 22:40:36.824081  ",
      "text/html": "<div>\n<style scoped>\n    .dataframe tbody tr th:only-of-type {\n        vertical-align: middle;\n    }\n\n    .dataframe tbody tr th {\n        vertical-align: top;\n    }\n\n    .dataframe thead th {\n        text-align: right;\n    }\n</style>\n<table border=\"1\" class=\"dataframe\">\n  <thead>\n    <tr style=\"text-align: right;\">\n      <th></th>\n      <th>index</th>\n      <th>uid</th>\n      <th>labname</th>\n      <th>first_commit_ts</th>\n      <th>first_view_ts</th>\n    </tr>\n  </thead>\n  <tbody>\n    <tr>\n      <th>0</th>\n      <td>3</td>\n      <td>user_17</td>\n      <td>project1</td>\n      <td>2020-04-18 07:56:45.408648</td>\n      <td>2020-04-18 10:56:55.833899</td>\n    </tr>\n    <tr>\n      <th>1</th>\n      <td>4</td>\n      <td>user_30</td>\n      <td>laba04</td>\n      <td>2020-04-18 13:36:53.971502</td>\n      <td>2020-04-17 22:46:26.785035</td>\n    </tr>\n    <tr>\n      <th>2</th>\n      <td>7</td>\n      <td>user_30</td>\n      <td>laba04s</td>\n      <td>2020-04-18 14:51:37.498399</td>\n      <td>2020-04-17 22:46:26.785035</td>\n    </tr>\n    <tr>\n      <th>3</th>\n      <td>8</td>\n      <td>user_14</td>\n      <td>laba04</td>\n      <td>2020-04-18 15:14:00.312338</td>\n      <td>2020-04-18 10:53:52.623447</td>\n    </tr>\n    <tr>\n      <th>4</th>\n      <td>11</td>\n      <td>user_14</td>\n      <td>laba04s</td>\n      <td>2020-04-18 22:30:30.247628</td>\n      <td>2020-04-18 10:53:52.623447</td>\n    </tr>\n    <tr>\n      <th>5</th>\n      <td>18</td>\n      <td>user_19</td>\n      <td>laba04</td>\n      <td>2020-04-20 19:05:01.297780</td>\n      <td>2020-04-21 20:30:38.034966</td>\n    </tr>\n    <tr>\n      <th>6</th>\n      <td>19</td>\n      <td>user_25</td>\n      <td>laba04</td>\n      <td>2020-04-20 19:16:50.673054</td>\n      <td>2020-05-09 23:54:54.260791</td>\n    </tr>\n    <tr>\n      <th>7</th>\n      <td>20</td>\n      <td>user_21</td>\n      <td>laba04</td>\n      <td>2020-04-21 17:48:00.487806</td>\n      <td>2020-04-22 22:40:36.824081</td>\n    </tr>\n    <tr>\n      <th>8</th>\n      <td>21</td>\n      <td>user_30</td>\n      <td>project1</td>\n      <td>2020-04-22 12:36:24.053518</td>\n      <td>2020-04-17 22:46:26.785035</td>\n    </tr>\n    <tr>\n      <th>9</th>\n      <td>23</td>\n      <td>user_21</td>\n      <td>laba04s</td>\n      <td>2020-04-22 20:09:21.857747</td>\n      <td>2020-04-22 22:40:36.824081</td>\n    </tr>\n  </tbody>\n</table>\n</div>"
     },
     "execution_count": 5,
     "metadata": {},
     "output_type": "execute_result"
    }
   ],
   "source": [
    "pd.io.sql.read_sql(\"SELECT * FROM test LIMIT 10;\", con)"
   ],
   "metadata": {
    "collapsed": false
   }
  },
  {
   "cell_type": "markdown",
   "source": [
    "## • find among all the users the minimum value of the delta between the first commit of the user and the deadline of the corresponding lab using only one query\n",
    "◦ do this by joining the table with the table deadlines\n",
    "◦ the difference should be displayed in hours\n",
    "◦ do not take the lab ’project1’ into account, it has longer deadlines and will be an outlier\n",
    "◦ the value should be stored in the dataframe df_min with the corresponding uid"
   ],
   "metadata": {
    "collapsed": false
   },
   "outputs": []
  },
  {
   "cell_type": "code",
   "execution_count": 6,
   "outputs": [
    {
     "data": {
      "text/plain": "       uid  delta\n0  user_30   -202",
      "text/html": "<div>\n<style scoped>\n    .dataframe tbody tr th:only-of-type {\n        vertical-align: middle;\n    }\n\n    .dataframe tbody tr th {\n        vertical-align: top;\n    }\n\n    .dataframe thead th {\n        text-align: right;\n    }\n</style>\n<table border=\"1\" class=\"dataframe\">\n  <thead>\n    <tr style=\"text-align: right;\">\n      <th></th>\n      <th>uid</th>\n      <th>delta</th>\n    </tr>\n  </thead>\n  <tbody>\n    <tr>\n      <th>0</th>\n      <td>user_30</td>\n      <td>-202</td>\n    </tr>\n  </tbody>\n</table>\n</div>"
     },
     "execution_count": 6,
     "metadata": {},
     "output_type": "execute_result"
    }
   ],
   "source": [
    "query = \"\"\"\n",
    "        SELECT uid, (strftime('%s', first_commit_ts) - deadlines) / 3600 AS delta\n",
    "        FROM test JOIN deadlines ON test.labname = deadlines.labs\n",
    "        WHERE labname IS NOT 'project1' AND delta = (SELECT MIN(strftime('%s', first_commit_ts) - deadlines) / 3600 AS delta\n",
    "                                                        FROM test JOIN deadlines\n",
    "                                                        ON test.labname = deadlines.labs\n",
    "                                                        WHERE labname IS NOT 'project1'\n",
    "                                                     )\n",
    "\"\"\"\n",
    "\n",
    "df_min = pd.io.sql.read_sql(query, con)\n",
    "df_min"
   ],
   "metadata": {
    "collapsed": false
   }
  },
  {
   "cell_type": "markdown",
   "source": [
    "## • do the same thing, but for the maximum, using only one query, the dataframe name is df_max"
   ],
   "metadata": {
    "collapsed": false
   },
   "outputs": []
  },
  {
   "cell_type": "code",
   "execution_count": 7,
   "outputs": [
    {
     "data": {
      "text/plain": "       uid  delta\n0  user_25     -2",
      "text/html": "<div>\n<style scoped>\n    .dataframe tbody tr th:only-of-type {\n        vertical-align: middle;\n    }\n\n    .dataframe tbody tr th {\n        vertical-align: top;\n    }\n\n    .dataframe thead th {\n        text-align: right;\n    }\n</style>\n<table border=\"1\" class=\"dataframe\">\n  <thead>\n    <tr style=\"text-align: right;\">\n      <th></th>\n      <th>uid</th>\n      <th>delta</th>\n    </tr>\n  </thead>\n  <tbody>\n    <tr>\n      <th>0</th>\n      <td>user_25</td>\n      <td>-2</td>\n    </tr>\n  </tbody>\n</table>\n</div>"
     },
     "execution_count": 7,
     "metadata": {},
     "output_type": "execute_result"
    }
   ],
   "source": [
    "query = \"\"\"\n",
    "        SELECT uid, (strftime('%s', first_commit_ts) - deadlines) / 3600 AS delta\n",
    "        FROM test JOIN deadlines ON test.labname = deadlines.labs\n",
    "        WHERE labname IS NOT 'project1' AND delta = (SELECT MAX(strftime('%s', first_commit_ts) - deadlines) / 3600 AS delta\n",
    "                                                        FROM test JOIN deadlines\n",
    "                                                        ON test.labname = deadlines.labs\n",
    "                                                        WHERE labname IS NOT 'project1'\n",
    "                                                     )\n",
    "\"\"\"\n",
    "\n",
    "df_max = pd.io.sql.read_sql(query, con)\n",
    "df_max"
   ],
   "metadata": {
    "collapsed": false
   }
  },
  {
   "cell_type": "markdown",
   "source": [
    "## • do the same thing but for the average, using only one query, this time your dataframe should not include the uid column, and the dataframe name is df_avg"
   ],
   "metadata": {
    "collapsed": false
   },
   "outputs": []
  },
  {
   "cell_type": "code",
   "execution_count": 8,
   "outputs": [
    {
     "data": {
      "text/plain": "      avg\n0 -89.125",
      "text/html": "<div>\n<style scoped>\n    .dataframe tbody tr th:only-of-type {\n        vertical-align: middle;\n    }\n\n    .dataframe tbody tr th {\n        vertical-align: top;\n    }\n\n    .dataframe thead th {\n        text-align: right;\n    }\n</style>\n<table border=\"1\" class=\"dataframe\">\n  <thead>\n    <tr style=\"text-align: right;\">\n      <th></th>\n      <th>avg</th>\n    </tr>\n  </thead>\n  <tbody>\n    <tr>\n      <th>0</th>\n      <td>-89.125</td>\n    </tr>\n  </tbody>\n</table>\n</div>"
     },
     "execution_count": 8,
     "metadata": {},
     "output_type": "execute_result"
    }
   ],
   "source": [
    "query = \"\"\"\n",
    "        SELECT AVG((strftime('%s', first_commit_ts) - deadlines) / 3600) AS avg\n",
    "        FROM test JOIN deadlines ON test.labname = deadlines.labs\n",
    "        WHERE labname IS NOT 'project1'\n",
    "\"\"\"\n",
    "\n",
    "df_avg = pd.io.sql.read_sql(query, con)\n",
    "df_avg"
   ],
   "metadata": {
    "collapsed": false
   }
  },
  {
   "cell_type": "markdown",
   "source": [
    "## • we want to test the hypothesis that the users who visited the newsfeed just a few times have the lower delta between the first commit and the deadline. To do this, you need to calculate the correlation coefficient between the number of pageviews and the difference\n",
    "◦ using only one query, create a table with the columns: uid, avg_diff, pageviews\n",
    "◦ uid is the uids that exist in the test\n",
    "◦ avg_diff is the average delta between the first commit and the lab deadline per user\n",
    "◦ pageviews is the number of Newsfeed visits per user\n",
    "◦ do not take the lab ’project1’ into account\n",
    "◦ store it to the dataframe views_diff\n",
    "◦ use the Pandas method corr() to calculate the correlation coefficient between the number of pageviews and the difference"
   ],
   "metadata": {
    "collapsed": false
   },
   "outputs": []
  },
  {
   "cell_type": "code",
   "execution_count": 9,
   "outputs": [
    {
     "data": {
      "text/plain": "        uid    avg_diff  pageviews\n0    user_1  -64.400000         28\n1   user_10  -74.800000         89\n2   user_14 -159.000000        143\n3   user_17  -61.600000         47\n4   user_18   -5.666667          3\n5   user_19  -98.750000         16\n6   user_21  -95.500000         10\n7   user_25  -92.600000        179\n8   user_28  -86.400000        149\n9    user_3 -105.400000        317\n10  user_30 -145.250000          3",
      "text/html": "<div>\n<style scoped>\n    .dataframe tbody tr th:only-of-type {\n        vertical-align: middle;\n    }\n\n    .dataframe tbody tr th {\n        vertical-align: top;\n    }\n\n    .dataframe thead th {\n        text-align: right;\n    }\n</style>\n<table border=\"1\" class=\"dataframe\">\n  <thead>\n    <tr style=\"text-align: right;\">\n      <th></th>\n      <th>uid</th>\n      <th>avg_diff</th>\n      <th>pageviews</th>\n    </tr>\n  </thead>\n  <tbody>\n    <tr>\n      <th>0</th>\n      <td>user_1</td>\n      <td>-64.400000</td>\n      <td>28</td>\n    </tr>\n    <tr>\n      <th>1</th>\n      <td>user_10</td>\n      <td>-74.800000</td>\n      <td>89</td>\n    </tr>\n    <tr>\n      <th>2</th>\n      <td>user_14</td>\n      <td>-159.000000</td>\n      <td>143</td>\n    </tr>\n    <tr>\n      <th>3</th>\n      <td>user_17</td>\n      <td>-61.600000</td>\n      <td>47</td>\n    </tr>\n    <tr>\n      <th>4</th>\n      <td>user_18</td>\n      <td>-5.666667</td>\n      <td>3</td>\n    </tr>\n    <tr>\n      <th>5</th>\n      <td>user_19</td>\n      <td>-98.750000</td>\n      <td>16</td>\n    </tr>\n    <tr>\n      <th>6</th>\n      <td>user_21</td>\n      <td>-95.500000</td>\n      <td>10</td>\n    </tr>\n    <tr>\n      <th>7</th>\n      <td>user_25</td>\n      <td>-92.600000</td>\n      <td>179</td>\n    </tr>\n    <tr>\n      <th>8</th>\n      <td>user_28</td>\n      <td>-86.400000</td>\n      <td>149</td>\n    </tr>\n    <tr>\n      <th>9</th>\n      <td>user_3</td>\n      <td>-105.400000</td>\n      <td>317</td>\n    </tr>\n    <tr>\n      <th>10</th>\n      <td>user_30</td>\n      <td>-145.250000</td>\n      <td>3</td>\n    </tr>\n  </tbody>\n</table>\n</div>"
     },
     "execution_count": 9,
     "metadata": {},
     "output_type": "execute_result"
    }
   ],
   "source": [
    "query = \"\"\" SELECT test.uid, AVG((strftime('%s', first_commit_ts) - deadlines) / 3600) AS avg_diff, pageviews\n",
    "            FROM test JOIN (SELECT uid, COUNT(datetime) AS pageviews\n",
    "                            FROM pageviews\n",
    "                            GROUP BY pageviews.uid) AS pageview_count_table ON test.uid = pageview_count_table.uid\n",
    "                      JOIN deadlines ON test.labname = deadlines.labs\n",
    "            WHERE labname IS NOT 'project1'\n",
    "            GROUP BY test.uid\n",
    "        \"\"\"\n",
    "\n",
    "views_diff = pd.io.sql.read_sql(query, con)\n",
    "views_diff"
   ],
   "metadata": {
    "collapsed": false
   }
  },
  {
   "cell_type": "code",
   "execution_count": 10,
   "outputs": [
    {
     "data": {
      "text/plain": "           avg_diff  pageviews\navg_diff   1.000000  -0.279736\npageviews -0.279736   1.000000",
      "text/html": "<div>\n<style scoped>\n    .dataframe tbody tr th:only-of-type {\n        vertical-align: middle;\n    }\n\n    .dataframe tbody tr th {\n        vertical-align: top;\n    }\n\n    .dataframe thead th {\n        text-align: right;\n    }\n</style>\n<table border=\"1\" class=\"dataframe\">\n  <thead>\n    <tr style=\"text-align: right;\">\n      <th></th>\n      <th>avg_diff</th>\n      <th>pageviews</th>\n    </tr>\n  </thead>\n  <tbody>\n    <tr>\n      <th>avg_diff</th>\n      <td>1.000000</td>\n      <td>-0.279736</td>\n    </tr>\n    <tr>\n      <th>pageviews</th>\n      <td>-0.279736</td>\n      <td>1.000000</td>\n    </tr>\n  </tbody>\n</table>\n</div>"
     },
     "execution_count": 10,
     "metadata": {},
     "output_type": "execute_result"
    }
   ],
   "source": [
    "views_diff.corr()"
   ],
   "metadata": {
    "collapsed": false
   }
  },
  {
   "cell_type": "markdown",
   "source": [
    "## • close the connection"
   ],
   "metadata": {
    "collapsed": false
   }
  },
  {
   "cell_type": "code",
   "execution_count": 11,
   "outputs": [],
   "source": [
    "con.close()"
   ],
   "metadata": {
    "collapsed": false
   }
  }
 ],
 "metadata": {
  "kernelspec": {
   "display_name": "Python 3",
   "language": "python",
   "name": "python3"
  },
  "language_info": {
   "codemirror_mode": {
    "name": "ipython",
    "version": 2
   },
   "file_extension": ".py",
   "mimetype": "text/x-python",
   "name": "python",
   "nbconvert_exporter": "python",
   "pygments_lexer": "ipython2",
   "version": "2.7.6"
  }
 },
 "nbformat": 4,
 "nbformat_minor": 0
}
