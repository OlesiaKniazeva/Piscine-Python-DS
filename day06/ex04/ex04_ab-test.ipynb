{
 "cells": [
  {
   "cell_type": "code",
   "execution_count": 11,
   "metadata": {
    "collapsed": true
   },
   "outputs": [],
   "source": [
    "import pandas as pd\n",
    "import sqlite3"
   ]
  },
  {
   "cell_type": "markdown",
   "source": [
    "## • create a connection to the database using the library sqlite3"
   ],
   "metadata": {
    "collapsed": false
   },
   "outputs": []
  },
  {
   "cell_type": "code",
   "execution_count": 12,
   "outputs": [],
   "source": [
    "con = sqlite3.connect('../data/checking-logs.sqlite.sqlite')\n"
   ],
   "metadata": {
    "collapsed": false
   }
  },
  {
   "cell_type": "markdown",
   "source": [
    "## • using only one query for each of the groups, create two dataframes: test_results and control_results with the columns time and avg_diff and only two rows\n",
    "◦ time should have the values: after and before\n",
    "◦ avg_diff contains the average delta among all the users for the time period before each of them made their first visit to the page and afterward\n",
    "◦ only take into account the users that have observations before and after\n",
    "## • we still are not using the lab ’project1’"
   ],
   "metadata": {
    "collapsed": false
   },
   "outputs": []
  },
  {
   "cell_type": "code",
   "execution_count": 13,
   "outputs": [
    {
     "data": {
      "text/plain": "     Time  avg_diff\n0   after -104.6000\n1  before  -60.5625",
      "text/html": "<div>\n<style scoped>\n    .dataframe tbody tr th:only-of-type {\n        vertical-align: middle;\n    }\n\n    .dataframe tbody tr th {\n        vertical-align: top;\n    }\n\n    .dataframe thead th {\n        text-align: right;\n    }\n</style>\n<table border=\"1\" class=\"dataframe\">\n  <thead>\n    <tr style=\"text-align: right;\">\n      <th></th>\n      <th>Time</th>\n      <th>avg_diff</th>\n    </tr>\n  </thead>\n  <tbody>\n    <tr>\n      <th>0</th>\n      <td>after</td>\n      <td>-104.6000</td>\n    </tr>\n    <tr>\n      <th>1</th>\n      <td>before</td>\n      <td>-60.5625</td>\n    </tr>\n  </tbody>\n</table>\n</div>"
     },
     "execution_count": 13,
     "metadata": {},
     "output_type": "execute_result"
    }
   ],
   "source": [
    "query = \"\"\"\n",
    "        SELECT 'before' AS 'Time',\n",
    "            AVG((strftime('%s', first_commit_ts) - deadlines) / 3600) AS avg_diff\n",
    "        FROM\n",
    "        (SELECT * FROM\n",
    "        test\n",
    "        WHERE labname IS NOT 'project1'\n",
    "        AND uid IN (SELECT uid FROM test\n",
    "        WHERE uid IN (SELECT uid FROM test\n",
    "                       WHERE first_view_ts < first_commit_ts AND labname IS NOT 'project1')\n",
    "        AND uid IN (SELECT uid FROM test\n",
    "                       WHERE first_view_ts > first_commit_ts AND labname IS NOT 'project1')\n",
    "         )) AS q1\n",
    "         JOIN deadlines ON q1.labname = deadlines.labs\n",
    "         WHERE first_view_ts > first_commit_ts\n",
    "         UNION\n",
    "         SELECT 'after' AS 'Time',\n",
    "            AVG((strftime('%s', first_commit_ts) - deadlines) / 3600) AS avg_diff\n",
    "        FROM\n",
    "        (SELECT * FROM\n",
    "        test\n",
    "        WHERE labname IS NOT 'project1'\n",
    "        AND uid IN (SELECT uid FROM test\n",
    "        WHERE uid IN (SELECT uid FROM test\n",
    "                       WHERE first_view_ts < first_commit_ts AND labname IS NOT 'project1')\n",
    "        AND uid IN (SELECT uid FROM test\n",
    "                       WHERE first_view_ts > first_commit_ts AND labname IS NOT 'project1')\n",
    "         )) AS q1\n",
    "         JOIN deadlines ON q1.labname = deadlines.labs\n",
    "         WHERE first_view_ts < first_commit_ts\n",
    "\n",
    "        \"\"\"\n",
    "test_results = pd.io.sql.read_sql(query, con)\n",
    "test_results"
   ],
   "metadata": {
    "collapsed": false
   }
  },
  {
   "cell_type": "code",
   "execution_count": 14,
   "outputs": [
    {
     "data": {
      "text/plain": "     Time    avg_diff\n0   after -117.636364\n1  before  -99.464286",
      "text/html": "<div>\n<style scoped>\n    .dataframe tbody tr th:only-of-type {\n        vertical-align: middle;\n    }\n\n    .dataframe tbody tr th {\n        vertical-align: top;\n    }\n\n    .dataframe thead th {\n        text-align: right;\n    }\n</style>\n<table border=\"1\" class=\"dataframe\">\n  <thead>\n    <tr style=\"text-align: right;\">\n      <th></th>\n      <th>Time</th>\n      <th>avg_diff</th>\n    </tr>\n  </thead>\n  <tbody>\n    <tr>\n      <th>0</th>\n      <td>after</td>\n      <td>-117.636364</td>\n    </tr>\n    <tr>\n      <th>1</th>\n      <td>before</td>\n      <td>-99.464286</td>\n    </tr>\n  </tbody>\n</table>\n</div>"
     },
     "execution_count": 14,
     "metadata": {},
     "output_type": "execute_result"
    }
   ],
   "source": [
    "query = \"\"\"\n",
    "        SELECT 'before' AS 'Time',\n",
    "            AVG((strftime('%s', first_commit_ts) - deadlines) / 3600) AS avg_diff\n",
    "        FROM\n",
    "        (SELECT * FROM\n",
    "        control\n",
    "        WHERE labname IS NOT 'project1'\n",
    "        AND uid IN (SELECT uid FROM control\n",
    "        WHERE uid IN (SELECT uid FROM control\n",
    "                       WHERE first_view_ts < first_commit_ts AND labname IS NOT 'project1')\n",
    "        AND uid IN (SELECT uid FROM control\n",
    "                       WHERE first_view_ts > first_commit_ts AND labname IS NOT 'project1')\n",
    "         )) AS q1\n",
    "         JOIN deadlines ON q1.labname = deadlines.labs\n",
    "         WHERE first_view_ts > first_commit_ts\n",
    "         UNION\n",
    "         SELECT 'after' AS 'Time',\n",
    "            AVG((strftime('%s', first_commit_ts) - deadlines) / 3600) AS avg_diff\n",
    "        FROM\n",
    "        (SELECT * FROM\n",
    "        control\n",
    "        WHERE labname IS NOT 'project1'\n",
    "        AND uid IN (SELECT uid FROM control\n",
    "        WHERE uid IN (SELECT uid FROM control\n",
    "                       WHERE first_view_ts < first_commit_ts AND labname IS NOT 'project1')\n",
    "        AND uid IN (SELECT uid FROM control\n",
    "                       WHERE first_view_ts > first_commit_ts AND labname IS NOT 'project1')\n",
    "         )) AS q1\n",
    "         JOIN deadlines ON q1.labname = deadlines.labs\n",
    "         WHERE first_view_ts < first_commit_ts\n",
    "\n",
    "        \"\"\"\n",
    "\n",
    "test_results = pd.io.sql.read_sql(query, con)\n",
    "test_results"
   ],
   "metadata": {
    "collapsed": false
   }
  },
  {
   "cell_type": "markdown",
   "source": [
    "## • close the connection"
   ],
   "metadata": {
    "collapsed": false
   },
   "outputs": []
  },
  {
   "cell_type": "code",
   "execution_count": 15,
   "outputs": [],
   "source": [
    "con.close()"
   ],
   "metadata": {
    "collapsed": false
   }
  },
  {
   "cell_type": "markdown",
   "source": [
    "## • have the answer: did the hypothesis turn out to be true and the page does affect the students’ behavior?"
   ],
   "metadata": {
    "collapsed": false
   }
  },
  {
   "cell_type": "markdown",
   "source": [
    "In first group delta is changing more strongly then in test group"
   ],
   "metadata": {
    "collapsed": false
   }
  }
 ],
 "metadata": {
  "kernelspec": {
   "display_name": "Python 3",
   "language": "python",
   "name": "python3"
  },
  "language_info": {
   "codemirror_mode": {
    "name": "ipython",
    "version": 2
   },
   "file_extension": ".py",
   "mimetype": "text/x-python",
   "name": "python",
   "nbconvert_exporter": "python",
   "pygments_lexer": "ipython2",
   "version": "2.7.6"
  }
 },
 "nbformat": 4,
 "nbformat_minor": 0
}
