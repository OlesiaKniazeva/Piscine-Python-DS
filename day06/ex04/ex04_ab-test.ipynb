{
 "cells": [
  {
   "cell_type": "code",
   "execution_count": 349,
   "metadata": {
    "collapsed": true,
    "pycharm": {
     "name": "#%%\n"
    }
   },
   "outputs": [],
   "source": [
    "import pandas as pd\n",
    "import sqlite3"
   ]
  },
  {
   "cell_type": "markdown",
   "source": [
    "## • create a connection to the database using the library sqlite3"
   ],
   "metadata": {
    "collapsed": false,
    "pycharm": {
     "name": "#%% md\n"
    }
   },
   "outputs": []
  },
  {
   "cell_type": "code",
   "execution_count": 350,
   "outputs": [],
   "source": [
    "con = sqlite3.connect('../data/checking-logs.sqlite.sqlite')\n"
   ],
   "metadata": {
    "collapsed": false,
    "pycharm": {
     "name": "#%%\n"
    }
   }
  },
  {
   "cell_type": "markdown",
   "source": [
    "## • using only one query for each of the groups, create two dataframes: test_results and control_results with the columns time and avg_diff and only two rows\n",
    "◦ time should have the values: after and before\n",
    "◦ avg_diff contains the average delta among all the users for the time period before each of them made their first visit to the page and afterward\n",
    "◦ only take into account the users that have observations before and after\n",
    "## • we still are not using the lab ’project1’"
   ],
   "metadata": {
    "collapsed": false,
    "pycharm": {
     "name": "#%% md\n"
    }
   },
   "outputs": []
  },
  {
   "cell_type": "code",
   "execution_count": 351,
   "outputs": [
    {
     "data": {
      "text/plain": "    avg_diff\n0 -77.277778",
      "text/html": "<div>\n<style scoped>\n    .dataframe tbody tr th:only-of-type {\n        vertical-align: middle;\n    }\n\n    .dataframe tbody tr th {\n        vertical-align: top;\n    }\n\n    .dataframe thead th {\n        text-align: right;\n    }\n</style>\n<table border=\"1\" class=\"dataframe\">\n  <thead>\n    <tr style=\"text-align: right;\">\n      <th></th>\n      <th>avg_diff</th>\n    </tr>\n  </thead>\n  <tbody>\n    <tr>\n      <th>0</th>\n      <td>-77.277778</td>\n    </tr>\n  </tbody>\n</table>\n</div>"
     },
     "execution_count": 351,
     "metadata": {},
     "output_type": "execute_result"
    }
   ],
   "source": [
    "# query = \"\"\" SELECT AVG((strftime('%s', first_commit_ts) - deadlines) / 3600) AS avg_diff\n",
    "#             FROM test JOIN deadlines ON test.labname = deadlines.labs\n",
    "#                       JOIN (SELECT uid, COUNT(datetime) AS amount\n",
    "#                             FROM pageviews\n",
    "#                             WHERE datetime IN (SELECT DISTINCT datetime FROM pageviews)\n",
    "#                             GROUP BY uid) AS counter ON test.uid = counter.uid\n",
    "#             WHERE labname IS NOT 'project1' AND amount > 1\n",
    "#         \"\"\"\n",
    "\n",
    "# query = \"\"\"\n",
    "#         SELECT AVG((strftime('%s', first_commit_ts) - deadlines) / 3600) AS avg_diff\n",
    "#         FROM test JOIN deadlines ON test.labname = deadlines.labs\n",
    "#         WHERE labname IS NOT 'project1' AND uid IN (SELECT uid\n",
    "#                     FROM pageviews\n",
    "#                     GROUP BY uid\n",
    "#                     HAVING COUNT(DISTINCT datetime) > 1\n",
    "#                         )\n",
    "#          AND first_commit_ts > first_view_ts\n",
    "#         \"\"\"\n",
    "\n",
    "# query = \"\"\"\n",
    "#         SELECT\n",
    "#         CASE\n",
    "#         WHEN test.first_commit_ts < test.first_view_ts THEN 'before' ELSE 'after' END\n",
    "#         AS time,\n",
    "#         AVG((strftime('%s', first_commit_ts) - deadlines) / 3600) AS avg_diff\n",
    "#         FROM control JOIN deadlines ON control.labname = deadlines.labs\n",
    "#         WHERE labname IS NOT 'project1'\n",
    "#          AND first_commit_ts > first_view_ts\n",
    "#         \"\"\"\n",
    "\n",
    "# query = \"\"\"\n",
    "#         SELECT AVG((strftime('%s', first_commit_ts) - deadlines) / 3600) AS avg_diff\n",
    "#         FROM control JOIN deadlines ON control.labname = deadlines.labs\n",
    "#         WHERE labname IS NOT 'project1'\n",
    "#         AND first_commit_ts < first_view_ts\n",
    "#         AND (SELECT COUNT(DISTINCT datetime)\n",
    "#                      FROM pageviews\n",
    "#                      GROUP BY uid) > 1\n",
    "#         \"\"\"\n",
    "\n",
    "# query = \"\"\"\n",
    "#         SELECT AVG((strftime('%s', first_commit_ts) - deadlines) / 3600) AS avg_diff\n",
    "#         FROM control JOIN deadlines ON control.labname = deadlines.labs\n",
    "#         WHERE first_commit_ts > first_view_ts AND\n",
    "#         uid IN (SELECT DISTINCT uid FROM test\n",
    "#         WHERE uid IN (SELECT DISTINCT uid FROM test\n",
    "#                       WHERE first_view_ts < first_commit_ts AND uid IS NOT 'project1')\n",
    "#           AND uid IN (SELECT DISTINCT uid FROM test\n",
    "#                       WHERE first_view_ts > first_commit_ts AND uid IS NOT 'project1')\n",
    "#                 )\n",
    "#         \"\"\"\n",
    "\n",
    "query = \"\"\"\n",
    "        SELECT AVG((strftime('%s', first_commit_ts) - deadlines) / 3600) AS avg_diff\n",
    "        FROM test JOIN deadlines ON test.labname = deadlines.labs\n",
    "        WHERE first_commit_ts < first_view_ts AND\n",
    "        uid IN (SELECT DISTINCT uid FROM test\n",
    "        WHERE uid IN (SELECT DISTINCT uid FROM test\n",
    "                       WHERE first_view_ts < first_commit_ts AND labname IS NOT 'project1')\n",
    "        AND uid IN (SELECT DISTINCT uid FROM test\n",
    "                       WHERE first_view_ts > first_commit_ts AND labname IS NOT 'project1')\n",
    "         )\n",
    "        \"\"\"\n",
    "\n",
    "\n",
    "# query = \"\"\"\n",
    "#         SELECT uid, datetime\n",
    "#         FROM pageviews\n",
    "#         GROUP BY uid\n",
    "#\n",
    "#         \"\"\"\n",
    "# query = \"\"\"\n",
    "#         SELECT DISTINCT uid FROM test\n",
    "#         WHERE uid IN (SELECT DISTINCT uid FROM test\n",
    "#                       WHERE first_view_ts < first_commit_ts AND uid IS NOT 'project1'\n",
    "#                       )\n",
    "#               AND uid IN (SELECT DISTINCT uid FROM test\n",
    "#                       WHERE first_view_ts > first_commit_ts AND uid IS NOT 'project1'\n",
    "#                       )\n",
    "#         \"\"\"\n",
    "test_results = pd.io.sql.read_sql(query, con)\n",
    "# test_results = pd.io.sql.read_sql(\"SELECT * FROM pageviews\", con)\n",
    "test_results"
   ],
   "metadata": {
    "collapsed": false,
    "pycharm": {
     "name": "#%%\n"
    }
   }
  },
  {
   "cell_type": "markdown",
   "source": [
    "## • close the connection"
   ],
   "metadata": {
    "collapsed": false,
    "pycharm": {
     "name": "#%% md\n"
    }
   },
   "outputs": []
  },
  {
   "cell_type": "markdown",
   "source": [
    "## • have the answer: did the hypothesis turn out to be true and the page does affect the students’ behavior?"
   ],
   "metadata": {
    "collapsed": false,
    "pycharm": {
     "name": "#%% md\n"
    }
   }
  }
 ],
 "metadata": {
  "kernelspec": {
   "display_name": "Python 3",
   "language": "python",
   "name": "python3"
  },
  "language_info": {
   "codemirror_mode": {
    "name": "ipython",
    "version": 2
   },
   "file_extension": ".py",
   "mimetype": "text/x-python",
   "name": "python",
   "nbconvert_exporter": "python",
   "pygments_lexer": "ipython2",
   "version": "2.7.6"
  }
 },
 "nbformat": 4,
 "nbformat_minor": 0
}