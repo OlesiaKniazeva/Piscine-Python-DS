{
 "cells": [
  {
   "cell_type": "code",
   "execution_count": 1,
   "metadata": {
    "collapsed": true
   },
   "outputs": [],
   "source": [
    "import pandas as pd\n",
    "import sqlite3"
   ]
  },
  {
   "cell_type": "markdown",
   "source": [
    "## • create a connection to the database using the library sqlite3"
   ],
   "metadata": {
    "collapsed": false
   },
   "outputs": []
  },
  {
   "cell_type": "code",
   "execution_count": 2,
   "outputs": [],
   "source": [
    "con = sqlite3.connect('../data/checking-logs.sqlite.sqlite')"
   ],
   "metadata": {
    "collapsed": false
   }
  },
  {
   "cell_type": "markdown",
   "source": [
    "## • create a new table datamart in the database by joining the tables pageviews and checker using only one query\n",
    "◦ the table should have the following columns: uid, labname, first_commit_ts, first_view_ts\n",
    "◦ first_commit_ts is just a new name of the column timestamp from the checker table, it shows the first commit from a particular lab and from a particular user\n",
    "◦ first_view_ts is the first visit of a user to the table pageviews, timestamp when a user visited the newsfeed\n",
    "◦ status = ’ready’ should still be a filter\n",
    "◦ numTrials = 1 should still be a filter\n",
    "◦ labnames should still be from the list: ’laba04’, ’laba04s’, ’laba05’, ’laba06’, ’laba06s’, ’project1’\n",
    "◦ the table should contain only the users (uids with user_*) and not the admins\n",
    "◦ first_commit_ts and first_view_ts should be parsed as datetime64[ns]"
   ],
   "metadata": {
    "collapsed": false
   },
   "outputs": []
  },
  {
   "cell_type": "code",
   "execution_count": 3,
   "outputs": [
    {
     "data": {
      "text/plain": "         uid   labname            first_commit_ts              first_view_ts\n0     user_4  project1 2020-04-17 05:19:02.744528                        NaT\n1     user_4    laba04 2020-04-17 11:33:17.366400                        NaT\n2     user_4   laba04s 2020-04-17 11:48:41.992466                        NaT\n3    user_17  project1 2020-04-18 07:56:45.408648 2020-04-18 10:56:55.833899\n4    user_30    laba04 2020-04-18 13:36:53.971502 2020-04-17 22:46:26.785035\n..       ...       ...                        ...                        ...\n135  user_23    laba06 2020-05-21 08:34:10.517205                        NaT\n136  user_19   laba06s 2020-05-21 13:27:06.705881 2020-04-21 20:30:38.034966\n137  user_23   laba06s 2020-05-21 14:29:15.709568                        NaT\n138  user_17    laba06 2020-05-21 15:21:31.567615 2020-04-18 10:56:55.833899\n139  user_17   laba06s 2020-05-21 17:39:17.783615 2020-04-18 10:56:55.833899\n\n[140 rows x 4 columns]",
      "text/html": "<div>\n<style scoped>\n    .dataframe tbody tr th:only-of-type {\n        vertical-align: middle;\n    }\n\n    .dataframe tbody tr th {\n        vertical-align: top;\n    }\n\n    .dataframe thead th {\n        text-align: right;\n    }\n</style>\n<table border=\"1\" class=\"dataframe\">\n  <thead>\n    <tr style=\"text-align: right;\">\n      <th></th>\n      <th>uid</th>\n      <th>labname</th>\n      <th>first_commit_ts</th>\n      <th>first_view_ts</th>\n    </tr>\n  </thead>\n  <tbody>\n    <tr>\n      <th>0</th>\n      <td>user_4</td>\n      <td>project1</td>\n      <td>2020-04-17 05:19:02.744528</td>\n      <td>NaT</td>\n    </tr>\n    <tr>\n      <th>1</th>\n      <td>user_4</td>\n      <td>laba04</td>\n      <td>2020-04-17 11:33:17.366400</td>\n      <td>NaT</td>\n    </tr>\n    <tr>\n      <th>2</th>\n      <td>user_4</td>\n      <td>laba04s</td>\n      <td>2020-04-17 11:48:41.992466</td>\n      <td>NaT</td>\n    </tr>\n    <tr>\n      <th>3</th>\n      <td>user_17</td>\n      <td>project1</td>\n      <td>2020-04-18 07:56:45.408648</td>\n      <td>2020-04-18 10:56:55.833899</td>\n    </tr>\n    <tr>\n      <th>4</th>\n      <td>user_30</td>\n      <td>laba04</td>\n      <td>2020-04-18 13:36:53.971502</td>\n      <td>2020-04-17 22:46:26.785035</td>\n    </tr>\n    <tr>\n      <th>...</th>\n      <td>...</td>\n      <td>...</td>\n      <td>...</td>\n      <td>...</td>\n    </tr>\n    <tr>\n      <th>135</th>\n      <td>user_23</td>\n      <td>laba06</td>\n      <td>2020-05-21 08:34:10.517205</td>\n      <td>NaT</td>\n    </tr>\n    <tr>\n      <th>136</th>\n      <td>user_19</td>\n      <td>laba06s</td>\n      <td>2020-05-21 13:27:06.705881</td>\n      <td>2020-04-21 20:30:38.034966</td>\n    </tr>\n    <tr>\n      <th>137</th>\n      <td>user_23</td>\n      <td>laba06s</td>\n      <td>2020-05-21 14:29:15.709568</td>\n      <td>NaT</td>\n    </tr>\n    <tr>\n      <th>138</th>\n      <td>user_17</td>\n      <td>laba06</td>\n      <td>2020-05-21 15:21:31.567615</td>\n      <td>2020-04-18 10:56:55.833899</td>\n    </tr>\n    <tr>\n      <th>139</th>\n      <td>user_17</td>\n      <td>laba06s</td>\n      <td>2020-05-21 17:39:17.783615</td>\n      <td>2020-04-18 10:56:55.833899</td>\n    </tr>\n  </tbody>\n</table>\n<p>140 rows × 4 columns</p>\n</div>"
     },
     "execution_count": 3,
     "metadata": {},
     "output_type": "execute_result"
    }
   ],
   "source": [
    "query = \"\"\"\n",
    "        SELECT checker.uid, labname, timestamp AS first_commit_ts,\n",
    "        datetime AS 'first_view_ts'\n",
    "        FROM checker LEFT JOIN pageviews ON pageviews.uid = checker.uid\n",
    "        WHERE status='ready'\n",
    "               AND numTrials=1\n",
    "               AND labname IN ('laba04', 'laba04s', 'laba05', 'laba06', 'laba06s', 'project1')\n",
    "               AND checker.uid LIKE 'user_%'\n",
    "               AND (datetime is NULL OR\n",
    "                    datetime IN (SELECT MIN(datetime)\n",
    "                                 FROM pageviews\n",
    "                                 GROUP BY uid\n",
    "                                 )\n",
    "        )\n",
    "        \"\"\"\n",
    "datamart = pd.io.sql.read_sql(query, con, parse_dates=['first_commit_ts', 'first_view_ts'])\n",
    "datamart"
   ],
   "metadata": {
    "collapsed": false
   }
  },
  {
   "cell_type": "markdown",
   "source": [
    "## • using Pandas methods, create two dataframes: test and control"
   ],
   "metadata": {
    "collapsed": false
   },
   "outputs": []
  },
  {
   "cell_type": "markdown",
   "source": [
    "◦ test should have the users that have the values in first_view_ts"
   ],
   "metadata": {
    "collapsed": false
   },
   "outputs": []
  },
  {
   "cell_type": "code",
   "execution_count": 4,
   "outputs": [
    {
     "name": "stdout",
     "output_type": "stream",
     "text": [
      "<class 'pandas.core.frame.DataFrame'>\n",
      "Int64Index: 59 entries, 3 to 139\n",
      "Data columns (total 4 columns):\n",
      " #   Column           Non-Null Count  Dtype         \n",
      "---  ------           --------------  -----         \n",
      " 0   uid              59 non-null     object        \n",
      " 1   labname          59 non-null     object        \n",
      " 2   first_commit_ts  59 non-null     datetime64[ns]\n",
      " 3   first_view_ts    59 non-null     datetime64[ns]\n",
      "dtypes: datetime64[ns](2), object(2)\n",
      "memory usage: 2.3+ KB\n"
     ]
    }
   ],
   "source": [
    "test = datamart.loc[datamart['first_view_ts'].notnull()].copy()\n",
    "test"
   ],
   "metadata": {
    "collapsed": false
   }
  },
  {
   "cell_type": "markdown",
   "source": [
    "◦ control should have the users that have missing values in first_view_ts"
   ],
   "metadata": {
    "collapsed": false
   },
   "outputs": []
  },
  {
   "cell_type": "code",
   "execution_count": 5,
   "outputs": [
    {
     "data": {
      "text/plain": "         uid   labname            first_commit_ts first_view_ts\n0     user_4  project1 2020-04-17 05:19:02.744528           NaT\n1     user_4    laba04 2020-04-17 11:33:17.366400           NaT\n2     user_4   laba04s 2020-04-17 11:48:41.992466           NaT\n5     user_2    laba04 2020-04-18 13:42:35.482008           NaT\n6     user_2   laba04s 2020-04-18 13:51:22.291271           NaT\n..       ...       ...                        ...           ...\n126   user_2   laba06s 2020-05-19 14:45:03.908268           NaT\n132   user_6   laba06s 2020-05-20 14:50:07.609937           NaT\n134   user_7   laba06s 2020-05-20 23:05:37.742597           NaT\n135  user_23    laba06 2020-05-21 08:34:10.517205           NaT\n137  user_23   laba06s 2020-05-21 14:29:15.709568           NaT\n\n[81 rows x 4 columns]",
      "text/html": "<div>\n<style scoped>\n    .dataframe tbody tr th:only-of-type {\n        vertical-align: middle;\n    }\n\n    .dataframe tbody tr th {\n        vertical-align: top;\n    }\n\n    .dataframe thead th {\n        text-align: right;\n    }\n</style>\n<table border=\"1\" class=\"dataframe\">\n  <thead>\n    <tr style=\"text-align: right;\">\n      <th></th>\n      <th>uid</th>\n      <th>labname</th>\n      <th>first_commit_ts</th>\n      <th>first_view_ts</th>\n    </tr>\n  </thead>\n  <tbody>\n    <tr>\n      <th>0</th>\n      <td>user_4</td>\n      <td>project1</td>\n      <td>2020-04-17 05:19:02.744528</td>\n      <td>NaT</td>\n    </tr>\n    <tr>\n      <th>1</th>\n      <td>user_4</td>\n      <td>laba04</td>\n      <td>2020-04-17 11:33:17.366400</td>\n      <td>NaT</td>\n    </tr>\n    <tr>\n      <th>2</th>\n      <td>user_4</td>\n      <td>laba04s</td>\n      <td>2020-04-17 11:48:41.992466</td>\n      <td>NaT</td>\n    </tr>\n    <tr>\n      <th>5</th>\n      <td>user_2</td>\n      <td>laba04</td>\n      <td>2020-04-18 13:42:35.482008</td>\n      <td>NaT</td>\n    </tr>\n    <tr>\n      <th>6</th>\n      <td>user_2</td>\n      <td>laba04s</td>\n      <td>2020-04-18 13:51:22.291271</td>\n      <td>NaT</td>\n    </tr>\n    <tr>\n      <th>...</th>\n      <td>...</td>\n      <td>...</td>\n      <td>...</td>\n      <td>...</td>\n    </tr>\n    <tr>\n      <th>126</th>\n      <td>user_2</td>\n      <td>laba06s</td>\n      <td>2020-05-19 14:45:03.908268</td>\n      <td>NaT</td>\n    </tr>\n    <tr>\n      <th>132</th>\n      <td>user_6</td>\n      <td>laba06s</td>\n      <td>2020-05-20 14:50:07.609937</td>\n      <td>NaT</td>\n    </tr>\n    <tr>\n      <th>134</th>\n      <td>user_7</td>\n      <td>laba06s</td>\n      <td>2020-05-20 23:05:37.742597</td>\n      <td>NaT</td>\n    </tr>\n    <tr>\n      <th>135</th>\n      <td>user_23</td>\n      <td>laba06</td>\n      <td>2020-05-21 08:34:10.517205</td>\n      <td>NaT</td>\n    </tr>\n    <tr>\n      <th>137</th>\n      <td>user_23</td>\n      <td>laba06s</td>\n      <td>2020-05-21 14:29:15.709568</td>\n      <td>NaT</td>\n    </tr>\n  </tbody>\n</table>\n<p>81 rows × 4 columns</p>\n</div>"
     },
     "execution_count": 5,
     "metadata": {},
     "output_type": "execute_result"
    }
   ],
   "source": [
    "control = datamart.loc[datamart['first_view_ts'].isnull()].copy()\n",
    "control"
   ],
   "metadata": {
    "collapsed": false
   }
  },
  {
   "cell_type": "markdown",
   "source": [
    "◦ replace the missing values in the control with the average first_view_ts of the test users, we will use this value for the future analysis"
   ],
   "metadata": {
    "collapsed": false
   },
   "outputs": []
  },
  {
   "cell_type": "code",
   "execution_count": 6,
   "outputs": [
    {
     "data": {
      "text/plain": "         uid   labname            first_commit_ts  \\\n0     user_4  project1 2020-04-17 05:19:02.744528   \n1     user_4    laba04 2020-04-17 11:33:17.366400   \n2     user_4   laba04s 2020-04-17 11:48:41.992466   \n5     user_2    laba04 2020-04-18 13:42:35.482008   \n6     user_2   laba04s 2020-04-18 13:51:22.291271   \n..       ...       ...                        ...   \n126   user_2   laba06s 2020-05-19 14:45:03.908268   \n132   user_6   laba06s 2020-05-20 14:50:07.609937   \n134   user_7   laba06s 2020-05-20 23:05:37.742597   \n135  user_23    laba06 2020-05-21 08:34:10.517205   \n137  user_23   laba06s 2020-05-21 14:29:15.709568   \n\n                    first_view_ts  \n0   2020-04-27 00:40:05.761783552  \n1   2020-04-27 00:40:05.761783552  \n2   2020-04-27 00:40:05.761783552  \n5   2020-04-27 00:40:05.761783552  \n6   2020-04-27 00:40:05.761783552  \n..                            ...  \n126 2020-04-27 00:40:05.761783552  \n132 2020-04-27 00:40:05.761783552  \n134 2020-04-27 00:40:05.761783552  \n135 2020-04-27 00:40:05.761783552  \n137 2020-04-27 00:40:05.761783552  \n\n[81 rows x 4 columns]",
      "text/html": "<div>\n<style scoped>\n    .dataframe tbody tr th:only-of-type {\n        vertical-align: middle;\n    }\n\n    .dataframe tbody tr th {\n        vertical-align: top;\n    }\n\n    .dataframe thead th {\n        text-align: right;\n    }\n</style>\n<table border=\"1\" class=\"dataframe\">\n  <thead>\n    <tr style=\"text-align: right;\">\n      <th></th>\n      <th>uid</th>\n      <th>labname</th>\n      <th>first_commit_ts</th>\n      <th>first_view_ts</th>\n    </tr>\n  </thead>\n  <tbody>\n    <tr>\n      <th>0</th>\n      <td>user_4</td>\n      <td>project1</td>\n      <td>2020-04-17 05:19:02.744528</td>\n      <td>2020-04-27 00:40:05.761783552</td>\n    </tr>\n    <tr>\n      <th>1</th>\n      <td>user_4</td>\n      <td>laba04</td>\n      <td>2020-04-17 11:33:17.366400</td>\n      <td>2020-04-27 00:40:05.761783552</td>\n    </tr>\n    <tr>\n      <th>2</th>\n      <td>user_4</td>\n      <td>laba04s</td>\n      <td>2020-04-17 11:48:41.992466</td>\n      <td>2020-04-27 00:40:05.761783552</td>\n    </tr>\n    <tr>\n      <th>5</th>\n      <td>user_2</td>\n      <td>laba04</td>\n      <td>2020-04-18 13:42:35.482008</td>\n      <td>2020-04-27 00:40:05.761783552</td>\n    </tr>\n    <tr>\n      <th>6</th>\n      <td>user_2</td>\n      <td>laba04s</td>\n      <td>2020-04-18 13:51:22.291271</td>\n      <td>2020-04-27 00:40:05.761783552</td>\n    </tr>\n    <tr>\n      <th>...</th>\n      <td>...</td>\n      <td>...</td>\n      <td>...</td>\n      <td>...</td>\n    </tr>\n    <tr>\n      <th>126</th>\n      <td>user_2</td>\n      <td>laba06s</td>\n      <td>2020-05-19 14:45:03.908268</td>\n      <td>2020-04-27 00:40:05.761783552</td>\n    </tr>\n    <tr>\n      <th>132</th>\n      <td>user_6</td>\n      <td>laba06s</td>\n      <td>2020-05-20 14:50:07.609937</td>\n      <td>2020-04-27 00:40:05.761783552</td>\n    </tr>\n    <tr>\n      <th>134</th>\n      <td>user_7</td>\n      <td>laba06s</td>\n      <td>2020-05-20 23:05:37.742597</td>\n      <td>2020-04-27 00:40:05.761783552</td>\n    </tr>\n    <tr>\n      <th>135</th>\n      <td>user_23</td>\n      <td>laba06</td>\n      <td>2020-05-21 08:34:10.517205</td>\n      <td>2020-04-27 00:40:05.761783552</td>\n    </tr>\n    <tr>\n      <th>137</th>\n      <td>user_23</td>\n      <td>laba06s</td>\n      <td>2020-05-21 14:29:15.709568</td>\n      <td>2020-04-27 00:40:05.761783552</td>\n    </tr>\n  </tbody>\n</table>\n<p>81 rows × 4 columns</p>\n</div>"
     },
     "execution_count": 6,
     "metadata": {},
     "output_type": "execute_result"
    }
   ],
   "source": [
    "control['first_view_ts'] = test['first_view_ts'].mean()\n",
    "control"
   ],
   "metadata": {
    "collapsed": false
   }
  },
  {
   "cell_type": "markdown",
   "source": [
    "◦ save both tables into the database, you will use them in the next exercises"
   ],
   "metadata": {
    "collapsed": false
   }
  },
  {
   "cell_type": "code",
   "execution_count": 7,
   "outputs": [
    {
     "data": {
      "text/plain": "81"
     },
     "execution_count": 7,
     "metadata": {},
     "output_type": "execute_result"
    }
   ],
   "source": [
    "test.to_sql(name='test', con=con, if_exists='replace')\n",
    "control.to_sql(name='control', con=con, if_exists='replace')"
   ],
   "metadata": {
    "collapsed": false
   }
  },
  {
   "cell_type": "markdown",
   "source": [
    "## • close the connection"
   ],
   "metadata": {
    "collapsed": false
   }
  },
  {
   "cell_type": "code",
   "execution_count": 8,
   "outputs": [],
   "source": [
    "con.close()"
   ],
   "metadata": {
    "collapsed": false
   }
  }
 ],
 "metadata": {
  "kernelspec": {
   "display_name": "Python 3",
   "language": "python",
   "name": "python3"
  },
  "language_info": {
   "codemirror_mode": {
    "name": "ipython",
    "version": 2
   },
   "file_extension": ".py",
   "mimetype": "text/x-python",
   "name": "python",
   "nbconvert_exporter": "python",
   "pygments_lexer": "ipython2",
   "version": "2.7.6"
  }
 },
 "nbformat": 4,
 "nbformat_minor": 0
}
