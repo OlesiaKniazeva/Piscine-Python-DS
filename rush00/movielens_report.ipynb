{
 "cells": [
  {
   "cell_type": "code",
   "execution_count": 3,
   "metadata": {
    "collapsed": true
   },
   "outputs": [],
   "source": [
    "from movielens_analysis import Movies"
   ]
  },
  {
   "cell_type": "markdown",
   "source": [
    "Firstly, we need to create a movie class"
   ],
   "metadata": {
    "collapsed": false
   }
  },
  {
   "cell_type": "code",
   "execution_count": 4,
   "outputs": [],
   "source": [
    "m = Movies('ml-latest-small/movies.csv')"
   ],
   "metadata": {
    "collapsed": false
   }
  },
  {
   "cell_type": "markdown",
   "source": [
    "Amount of films made at certain year:"
   ],
   "metadata": {
    "collapsed": false
   }
  },
  {
   "cell_type": "code",
   "execution_count": 5,
   "outputs": [
    {
     "data": {
      "text/plain": "{'2002': 311,\n '2006': 295,\n '2001': 294,\n '2007': 284,\n '2000': 283,\n '2009': 282,\n '2003': 279,\n '2004': 279,\n '2014': 278,\n '1996': 276,\n '2015': 274,\n '2005': 273,\n '2008': 269,\n '1999': 263,\n '1997': 260,\n '1995': 259,\n '1998': 258,\n '2011': 254,\n '2010': 247,\n '2013': 239,\n '1994': 237,\n '2012': 233,\n '2016': 218,\n '1993': 198,\n '1992': 167,\n '1988': 165,\n '1987': 153,\n '1990': 147,\n '1991': 147,\n '2017': 147,\n '1989': 142,\n '1986': 139,\n '1985': 126,\n '1984': 101,\n '1981': 92,\n '1980': 89,\n '1982': 87,\n '1983': 83,\n '1979': 69,\n '1977': 63,\n '1973': 59,\n '1978': 59,\n '1965': 47,\n '1971': 47,\n '1974': 45,\n '1976': 44,\n '1964': 43,\n '1967': 42,\n '1968': 42,\n '1975': 42,\n '1966': 42,\n '2018': 41,\n '1962': 40,\n '1972': 39,\n '1963': 39,\n '1959': 37,\n '1960': 37,\n '1955': 36,\n '1969': 35,\n '1961': 34,\n '1970': 33,\n '1957': 33,\n '1958': 31,\n '1953': 30,\n '1956': 30,\n '1940': 25,\n '1949': 25,\n '1954': 23,\n '1942': 23,\n '1939': 23,\n '1946': 23,\n '1951': 22,\n '1950': 21,\n '1947': 20,\n '1948': 20,\n '1941': 18,\n '1936': 18,\n '1945': 17,\n '1937': 16,\n '1952': 16,\n '1944': 16,\n '1938': 15,\n '1931': 14,\n '1935': 13,\n '1933': 12,\n '1934': 11,\n '1943': 10,\n '1932': 9,\n '1927': 7,\n '1930': 5,\n '1926': 5,\n '1924': 5,\n '1929': 4,\n '1928': 4,\n '1925': 4,\n '1923': 4,\n '1916': 4,\n '1920': 2,\n '1922': 1,\n '1919': 1,\n '1921': 1,\n '1915': 1,\n '1917': 1,\n '1902': 1,\n '1903': 1,\n '1908': 1}"
     },
     "execution_count": 5,
     "metadata": {},
     "output_type": "execute_result"
    }
   ],
   "source": [
    "m.dist_by_release()"
   ],
   "metadata": {
    "collapsed": false
   }
  }
 ],
 "metadata": {
  "kernelspec": {
   "display_name": "Python 3",
   "language": "python",
   "name": "python3"
  },
  "language_info": {
   "codemirror_mode": {
    "name": "ipython",
    "version": 2
   },
   "file_extension": ".py",
   "mimetype": "text/x-python",
   "name": "python",
   "nbconvert_exporter": "python",
   "pygments_lexer": "ipython2",
   "version": "2.7.6"
  }
 },
 "nbformat": 4,
 "nbformat_minor": 0
}
