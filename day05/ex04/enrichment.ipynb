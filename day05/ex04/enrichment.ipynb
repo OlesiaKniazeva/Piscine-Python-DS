{
 "cells": [
  {
   "cell_type": "code",
   "execution_count": 1,
   "metadata": {
    "collapsed": true,
    "pycharm": {
     "name": "#%%\n"
    }
   },
   "outputs": [],
   "source": [
    "import random\n",
    "\n",
    "import pandas as pd\n",
    "import numpy as np\n",
    "import requests"
   ]
  },
  {
   "cell_type": "markdown",
   "source": [
    "## • read the JSON file that you saved in ex02"
   ],
   "metadata": {
    "collapsed": false,
    "pycharm": {
     "name": "#%% md\n"
    }
   },
   "outputs": []
  },
  {
   "cell_type": "code",
   "execution_count": 2,
   "outputs": [
    {
     "data": {
      "text/plain": "        CarNumber  Refund    Fines    Make    Model\n0    Y163O8161RUS       2   3200.0    Ford    Focus\n1     E432XX77RUS       1   6500.0  Toyota    Camry\n2     7184TT36RUS       1   2100.0    Ford    Focus\n3    X582HE161RUS       2   2000.0    Ford    Focus\n4    92918M178RUS       1   5700.0    Ford    Focus\n..            ...     ...      ...     ...      ...\n720  Y163O8161RUS       2   1600.0    Ford    Focus\n721  M0309X197RUS       1  22300.0    Ford    Focus\n722  O673E8197RUS       2    600.0    Ford    Focus\n723  8610T8154RUS       1   2000.0    Ford    Focus\n724  H419XE197RUS       2   8594.6  Toyota  Corolla\n\n[725 rows x 5 columns]",
      "text/html": "<div>\n<style scoped>\n    .dataframe tbody tr th:only-of-type {\n        vertical-align: middle;\n    }\n\n    .dataframe tbody tr th {\n        vertical-align: top;\n    }\n\n    .dataframe thead th {\n        text-align: right;\n    }\n</style>\n<table border=\"1\" class=\"dataframe\">\n  <thead>\n    <tr style=\"text-align: right;\">\n      <th></th>\n      <th>CarNumber</th>\n      <th>Refund</th>\n      <th>Fines</th>\n      <th>Make</th>\n      <th>Model</th>\n    </tr>\n  </thead>\n  <tbody>\n    <tr>\n      <th>0</th>\n      <td>Y163O8161RUS</td>\n      <td>2</td>\n      <td>3200.0</td>\n      <td>Ford</td>\n      <td>Focus</td>\n    </tr>\n    <tr>\n      <th>1</th>\n      <td>E432XX77RUS</td>\n      <td>1</td>\n      <td>6500.0</td>\n      <td>Toyota</td>\n      <td>Camry</td>\n    </tr>\n    <tr>\n      <th>2</th>\n      <td>7184TT36RUS</td>\n      <td>1</td>\n      <td>2100.0</td>\n      <td>Ford</td>\n      <td>Focus</td>\n    </tr>\n    <tr>\n      <th>3</th>\n      <td>X582HE161RUS</td>\n      <td>2</td>\n      <td>2000.0</td>\n      <td>Ford</td>\n      <td>Focus</td>\n    </tr>\n    <tr>\n      <th>4</th>\n      <td>92918M178RUS</td>\n      <td>1</td>\n      <td>5700.0</td>\n      <td>Ford</td>\n      <td>Focus</td>\n    </tr>\n    <tr>\n      <th>...</th>\n      <td>...</td>\n      <td>...</td>\n      <td>...</td>\n      <td>...</td>\n      <td>...</td>\n    </tr>\n    <tr>\n      <th>720</th>\n      <td>Y163O8161RUS</td>\n      <td>2</td>\n      <td>1600.0</td>\n      <td>Ford</td>\n      <td>Focus</td>\n    </tr>\n    <tr>\n      <th>721</th>\n      <td>M0309X197RUS</td>\n      <td>1</td>\n      <td>22300.0</td>\n      <td>Ford</td>\n      <td>Focus</td>\n    </tr>\n    <tr>\n      <th>722</th>\n      <td>O673E8197RUS</td>\n      <td>2</td>\n      <td>600.0</td>\n      <td>Ford</td>\n      <td>Focus</td>\n    </tr>\n    <tr>\n      <th>723</th>\n      <td>8610T8154RUS</td>\n      <td>1</td>\n      <td>2000.0</td>\n      <td>Ford</td>\n      <td>Focus</td>\n    </tr>\n    <tr>\n      <th>724</th>\n      <td>H419XE197RUS</td>\n      <td>2</td>\n      <td>8594.6</td>\n      <td>Toyota</td>\n      <td>Corolla</td>\n    </tr>\n  </tbody>\n</table>\n<p>725 rows × 5 columns</p>\n</div>"
     },
     "execution_count": 2,
     "metadata": {},
     "output_type": "execute_result"
    }
   ],
   "source": [
    "df = pd.read_json('../ex02/auto.json')\n",
    "df"
   ],
   "metadata": {
    "collapsed": false,
    "pycharm": {
     "name": "#%%\n"
    }
   }
  },
  {
   "cell_type": "markdown",
   "source": [
    "◦ one of the columns has the float type, so let us define the format of it in pandas using pd.options.display.float_format: floats should be displayed with two decimals\n",
    "◦ there are values missing from the Model, do not do anything with them"
   ],
   "metadata": {
    "collapsed": false,
    "pycharm": {
     "name": "#%% md\n"
    }
   },
   "outputs": []
  },
  {
   "cell_type": "code",
   "execution_count": 3,
   "outputs": [
    {
     "data": {
      "text/plain": "CarNumber    725\nRefund       725\nFines        725\nMake         725\nModel        716\ndtype: int64"
     },
     "execution_count": 3,
     "metadata": {},
     "output_type": "execute_result"
    }
   ],
   "source": [
    "pd.options.display.float_format = '{:.2f}'.format\n",
    "df.count()"
   ],
   "metadata": {
    "collapsed": false,
    "pycharm": {
     "name": "#%%\n"
    }
   }
  },
  {
   "cell_type": "markdown",
   "source": [
    "## • enrich the dataframe using a sample from that dataframe"
   ],
   "metadata": {
    "collapsed": false,
    "pycharm": {
     "name": "#%% md\n"
    }
   }
  },
  {
   "cell_type": "markdown",
   "source": [
    "◦ create a sample with 200 new observations with random_state = 21\n",
    "∗ the sample should not have new combinations of the car number, make and model, so the whole dataset will be consistent in these terms\n",
    "∗ there are no restrictions on the refund and fines, you can take any value from these columns at random and use it towards any car number"
   ],
   "metadata": {
    "collapsed": false,
    "pycharm": {
     "name": "#%% md\n"
    }
   },
   "outputs": []
  },
  {
   "cell_type": "code",
   "execution_count": 4,
   "outputs": [
    {
     "data": {
      "text/plain": "        CarNumber  Refund    Fines        Make   Model\n445  M0299X197RUS       2 19200.00        Ford   Focus\n22   83298C154RUS       2  8594.60        Ford   Focus\n93   H957HY161RUS       1  2000.00        Ford   Focus\n173   T941CC96RUS       1  2000.00        Ford   Focus\n697  H966HY161RUS       1   500.00        Ford   Focus\n..            ...     ...      ...         ...     ...\n14   8182XX154RUS       1   200.00        Ford   Focus\n623   X796TH96RUS       1   500.00        Ford   Focus\n498  T011MY163RUS       2  4000.00        Ford   Focus\n536   T341CC96RUS       2  1000.00  Volkswagen  Passat\n520   T119CT96RUS       1  2000.00        Ford   Focus\n\n[200 rows x 5 columns]",
      "text/html": "<div>\n<style scoped>\n    .dataframe tbody tr th:only-of-type {\n        vertical-align: middle;\n    }\n\n    .dataframe tbody tr th {\n        vertical-align: top;\n    }\n\n    .dataframe thead th {\n        text-align: right;\n    }\n</style>\n<table border=\"1\" class=\"dataframe\">\n  <thead>\n    <tr style=\"text-align: right;\">\n      <th></th>\n      <th>CarNumber</th>\n      <th>Refund</th>\n      <th>Fines</th>\n      <th>Make</th>\n      <th>Model</th>\n    </tr>\n  </thead>\n  <tbody>\n    <tr>\n      <th>445</th>\n      <td>M0299X197RUS</td>\n      <td>2</td>\n      <td>19200.00</td>\n      <td>Ford</td>\n      <td>Focus</td>\n    </tr>\n    <tr>\n      <th>22</th>\n      <td>83298C154RUS</td>\n      <td>2</td>\n      <td>8594.60</td>\n      <td>Ford</td>\n      <td>Focus</td>\n    </tr>\n    <tr>\n      <th>93</th>\n      <td>H957HY161RUS</td>\n      <td>1</td>\n      <td>2000.00</td>\n      <td>Ford</td>\n      <td>Focus</td>\n    </tr>\n    <tr>\n      <th>173</th>\n      <td>T941CC96RUS</td>\n      <td>1</td>\n      <td>2000.00</td>\n      <td>Ford</td>\n      <td>Focus</td>\n    </tr>\n    <tr>\n      <th>697</th>\n      <td>H966HY161RUS</td>\n      <td>1</td>\n      <td>500.00</td>\n      <td>Ford</td>\n      <td>Focus</td>\n    </tr>\n    <tr>\n      <th>...</th>\n      <td>...</td>\n      <td>...</td>\n      <td>...</td>\n      <td>...</td>\n      <td>...</td>\n    </tr>\n    <tr>\n      <th>14</th>\n      <td>8182XX154RUS</td>\n      <td>1</td>\n      <td>200.00</td>\n      <td>Ford</td>\n      <td>Focus</td>\n    </tr>\n    <tr>\n      <th>623</th>\n      <td>X796TH96RUS</td>\n      <td>1</td>\n      <td>500.00</td>\n      <td>Ford</td>\n      <td>Focus</td>\n    </tr>\n    <tr>\n      <th>498</th>\n      <td>T011MY163RUS</td>\n      <td>2</td>\n      <td>4000.00</td>\n      <td>Ford</td>\n      <td>Focus</td>\n    </tr>\n    <tr>\n      <th>536</th>\n      <td>T341CC96RUS</td>\n      <td>2</td>\n      <td>1000.00</td>\n      <td>Volkswagen</td>\n      <td>Passat</td>\n    </tr>\n    <tr>\n      <th>520</th>\n      <td>T119CT96RUS</td>\n      <td>1</td>\n      <td>2000.00</td>\n      <td>Ford</td>\n      <td>Focus</td>\n    </tr>\n  </tbody>\n</table>\n<p>200 rows × 5 columns</p>\n</div>"
     },
     "execution_count": 4,
     "metadata": {},
     "output_type": "execute_result"
    }
   ],
   "source": [
    "res = df.sample(n=200, random_state=21)\n",
    "res"
   ],
   "metadata": {
    "collapsed": false,
    "pycharm": {
     "name": "#%%\n"
    }
   }
  },
  {
   "cell_type": "markdown",
   "source": [
    "◦ concatenate the sample with the initial dataframe to a new dataframe concat_rows"
   ],
   "metadata": {
    "collapsed": false,
    "pycharm": {
     "name": "#%% md\n"
    }
   }
  },
  {
   "cell_type": "code",
   "execution_count": 5,
   "outputs": [
    {
     "data": {
      "text/plain": "CarNumber    925\nRefund       925\nFines        925\nMake         925\nModel        914\ndtype: int64"
     },
     "execution_count": 5,
     "metadata": {},
     "output_type": "execute_result"
    }
   ],
   "source": [
    "concat_rows = pd.concat([df, res])\n",
    "concat_rows.count()"
   ],
   "metadata": {
    "collapsed": false,
    "pycharm": {
     "name": "#%%\n"
    }
   }
  },
  {
   "cell_type": "markdown",
   "source": [
    "## • enrich the dataframe concat_rows by a new column with the data generated"
   ],
   "metadata": {
    "collapsed": false,
    "pycharm": {
     "name": "#%% md\n"
    }
   }
  },
  {
   "cell_type": "markdown",
   "source": [
    "◦ create a series with the name Year using random integers from 1980 to 2019\n",
    "◦ use np.random.seed(21) before generating the years\n",
    "◦ concatenate the series with the dataframe and name it fines"
   ],
   "metadata": {
    "collapsed": false,
    "pycharm": {
     "name": "#%% md\n"
    }
   }
  },
  {
   "cell_type": "code",
   "execution_count": 6,
   "outputs": [
    {
     "data": {
      "text/plain": "        CarNumber  Refund   Fines        Make   Model  Year\n0    Y163O8161RUS       2 3200.00        Ford   Focus  1989\n1     E432XX77RUS       1 6500.00      Toyota   Camry  1995\n2     7184TT36RUS       1 2100.00        Ford   Focus  1984\n3    X582HE161RUS       2 2000.00        Ford   Focus  2015\n4    92918M178RUS       1 5700.00        Ford   Focus  2014\n..            ...     ...     ...         ...     ...   ...\n920  8182XX154RUS       1  200.00        Ford   Focus  1996\n921   X796TH96RUS       1  500.00        Ford   Focus  2002\n922  T011MY163RUS       2 4000.00        Ford   Focus  1996\n923   T341CC96RUS       2 1000.00  Volkswagen  Passat  2012\n924   T119CT96RUS       1 2000.00        Ford   Focus  1984\n\n[925 rows x 6 columns]",
      "text/html": "<div>\n<style scoped>\n    .dataframe tbody tr th:only-of-type {\n        vertical-align: middle;\n    }\n\n    .dataframe tbody tr th {\n        vertical-align: top;\n    }\n\n    .dataframe thead th {\n        text-align: right;\n    }\n</style>\n<table border=\"1\" class=\"dataframe\">\n  <thead>\n    <tr style=\"text-align: right;\">\n      <th></th>\n      <th>CarNumber</th>\n      <th>Refund</th>\n      <th>Fines</th>\n      <th>Make</th>\n      <th>Model</th>\n      <th>Year</th>\n    </tr>\n  </thead>\n  <tbody>\n    <tr>\n      <th>0</th>\n      <td>Y163O8161RUS</td>\n      <td>2</td>\n      <td>3200.00</td>\n      <td>Ford</td>\n      <td>Focus</td>\n      <td>1989</td>\n    </tr>\n    <tr>\n      <th>1</th>\n      <td>E432XX77RUS</td>\n      <td>1</td>\n      <td>6500.00</td>\n      <td>Toyota</td>\n      <td>Camry</td>\n      <td>1995</td>\n    </tr>\n    <tr>\n      <th>2</th>\n      <td>7184TT36RUS</td>\n      <td>1</td>\n      <td>2100.00</td>\n      <td>Ford</td>\n      <td>Focus</td>\n      <td>1984</td>\n    </tr>\n    <tr>\n      <th>3</th>\n      <td>X582HE161RUS</td>\n      <td>2</td>\n      <td>2000.00</td>\n      <td>Ford</td>\n      <td>Focus</td>\n      <td>2015</td>\n    </tr>\n    <tr>\n      <th>4</th>\n      <td>92918M178RUS</td>\n      <td>1</td>\n      <td>5700.00</td>\n      <td>Ford</td>\n      <td>Focus</td>\n      <td>2014</td>\n    </tr>\n    <tr>\n      <th>...</th>\n      <td>...</td>\n      <td>...</td>\n      <td>...</td>\n      <td>...</td>\n      <td>...</td>\n      <td>...</td>\n    </tr>\n    <tr>\n      <th>920</th>\n      <td>8182XX154RUS</td>\n      <td>1</td>\n      <td>200.00</td>\n      <td>Ford</td>\n      <td>Focus</td>\n      <td>1996</td>\n    </tr>\n    <tr>\n      <th>921</th>\n      <td>X796TH96RUS</td>\n      <td>1</td>\n      <td>500.00</td>\n      <td>Ford</td>\n      <td>Focus</td>\n      <td>2002</td>\n    </tr>\n    <tr>\n      <th>922</th>\n      <td>T011MY163RUS</td>\n      <td>2</td>\n      <td>4000.00</td>\n      <td>Ford</td>\n      <td>Focus</td>\n      <td>1996</td>\n    </tr>\n    <tr>\n      <th>923</th>\n      <td>T341CC96RUS</td>\n      <td>2</td>\n      <td>1000.00</td>\n      <td>Volkswagen</td>\n      <td>Passat</td>\n      <td>2012</td>\n    </tr>\n    <tr>\n      <th>924</th>\n      <td>T119CT96RUS</td>\n      <td>1</td>\n      <td>2000.00</td>\n      <td>Ford</td>\n      <td>Focus</td>\n      <td>1984</td>\n    </tr>\n  </tbody>\n</table>\n<p>925 rows × 6 columns</p>\n</div>"
     },
     "execution_count": 6,
     "metadata": {},
     "output_type": "execute_result"
    }
   ],
   "source": [
    "np.random.seed(21)\n",
    "year = pd.Series(np.random.randint(1980,2019, size=len(concat_rows))).rename('Year')\n",
    "concat_rows.reset_index(inplace=True, drop=True)\n",
    "fines = pd.concat([concat_rows, year], axis=1)\n",
    "fines"
   ],
   "metadata": {
    "collapsed": false,
    "pycharm": {
     "name": "#%%\n"
    }
   }
  },
  {
   "cell_type": "markdown",
   "source": [
    "## • enrich the dataframe with the data from another dataframe\n",
    "◦ create a new dataframe with the car numbers and their owners\n",
    "∗ get the most popular surnames(you can find the file surname.json in\n",
    "the attachments) in the US\n",
    "∗ create a new series with the surnames (they should not have special characters like commas, brackets, etc.) from the data you gathered, the count should be equal to the number of unique car numbers using the sample\n",
    "(use random_state = 21)\n",
    "∗ create the dataframe owners with 2 columns: CarNumber and SURNAME"
   ],
   "metadata": {
    "collapsed": false,
    "pycharm": {
     "name": "#%% md\n"
    }
   },
   "outputs": []
  },
  {
   "cell_type": "code",
   "execution_count": 7,
   "outputs": [
    {
     "data": {
      "text/plain": "        CarNumber     SURNAME\n0    Y163O8161RUS  RICHARDSON\n1     E432XX77RUS        ROSS\n2     7184TT36RUS      MORGAN\n3    X582HE161RUS      BAILEY\n4    92918M178RUS       LOPEZ\n..            ...         ...\n526  O136HO197RUS    CAMPBELL\n527  O22097197RUS        HALL\n528  M0309X197RUS       BAKER\n529  O673E8197RUS        DIAZ\n530  8610T8154RUS      MORGAN\n\n[531 rows x 2 columns]",
      "text/html": "<div>\n<style scoped>\n    .dataframe tbody tr th:only-of-type {\n        vertical-align: middle;\n    }\n\n    .dataframe tbody tr th {\n        vertical-align: top;\n    }\n\n    .dataframe thead th {\n        text-align: right;\n    }\n</style>\n<table border=\"1\" class=\"dataframe\">\n  <thead>\n    <tr style=\"text-align: right;\">\n      <th></th>\n      <th>CarNumber</th>\n      <th>SURNAME</th>\n    </tr>\n  </thead>\n  <tbody>\n    <tr>\n      <th>0</th>\n      <td>Y163O8161RUS</td>\n      <td>RICHARDSON</td>\n    </tr>\n    <tr>\n      <th>1</th>\n      <td>E432XX77RUS</td>\n      <td>ROSS</td>\n    </tr>\n    <tr>\n      <th>2</th>\n      <td>7184TT36RUS</td>\n      <td>MORGAN</td>\n    </tr>\n    <tr>\n      <th>3</th>\n      <td>X582HE161RUS</td>\n      <td>BAILEY</td>\n    </tr>\n    <tr>\n      <th>4</th>\n      <td>92918M178RUS</td>\n      <td>LOPEZ</td>\n    </tr>\n    <tr>\n      <th>...</th>\n      <td>...</td>\n      <td>...</td>\n    </tr>\n    <tr>\n      <th>526</th>\n      <td>O136HO197RUS</td>\n      <td>CAMPBELL</td>\n    </tr>\n    <tr>\n      <th>527</th>\n      <td>O22097197RUS</td>\n      <td>HALL</td>\n    </tr>\n    <tr>\n      <th>528</th>\n      <td>M0309X197RUS</td>\n      <td>BAKER</td>\n    </tr>\n    <tr>\n      <th>529</th>\n      <td>O673E8197RUS</td>\n      <td>DIAZ</td>\n    </tr>\n    <tr>\n      <th>530</th>\n      <td>8610T8154RUS</td>\n      <td>MORGAN</td>\n    </tr>\n  </tbody>\n</table>\n<p>531 rows × 2 columns</p>\n</div>"
     },
     "execution_count": 7,
     "metadata": {},
     "output_type": "execute_result"
    }
   ],
   "source": [
    "nn = pd.read_json('../data/surname.json')[0][1:]\n",
    "car_num = pd.Series(fines['CarNumber'].unique()).rename('CarNumber')\n",
    "nn = nn.sample(n=len(car_num), random_state=21, replace=True,ignore_index=True).rename('SURNAME')\n",
    "owners = pd.concat([car_num, nn], axis=1)\n",
    "owners"
   ],
   "metadata": {
    "collapsed": false,
    "pycharm": {
     "name": "#%%\n"
    }
   }
  },
  {
   "cell_type": "markdown",
   "source": [
    "◦ append 5 more observations to the fines dataframe (come up with your own\n",
    "ideas of CarNumber, etc.)"
   ],
   "metadata": {
    "collapsed": false,
    "pycharm": {
     "name": "#%% md\n"
    }
   },
   "outputs": []
  },
  {
   "cell_type": "code",
   "execution_count": 8,
   "outputs": [
    {
     "data": {
      "text/plain": "        CarNumber  Refund    Fines    Make    Model  Year\n0    Y163O8161RUS       2  3200.00    Ford    Focus  1989\n1     E432XX77RUS       1  6500.00  Toyota    Camry  1995\n2     7184TT36RUS       1  2100.00    Ford    Focus  1984\n3    X582HE161RUS       2  2000.00    Ford    Focus  2015\n4    92918M178RUS       1  5700.00    Ford    Focus  2014\n..            ...     ...      ...     ...      ...   ...\n925  Y163O8000RUS       2   344.00    Ford    Focus  1234\n926  M103O8161RUS       1  5454.00    Lada   Kalina  1943\n927  Y163O8787RUS       1  4345.00    Lada     Niva  1894\n928  Y163O0061RUS       2  4343.00    Lada    Vesta  2003\n929  Y103O0161RUS       1 23324.00    Ford  Mustang  2004\n\n[930 rows x 6 columns]",
      "text/html": "<div>\n<style scoped>\n    .dataframe tbody tr th:only-of-type {\n        vertical-align: middle;\n    }\n\n    .dataframe tbody tr th {\n        vertical-align: top;\n    }\n\n    .dataframe thead th {\n        text-align: right;\n    }\n</style>\n<table border=\"1\" class=\"dataframe\">\n  <thead>\n    <tr style=\"text-align: right;\">\n      <th></th>\n      <th>CarNumber</th>\n      <th>Refund</th>\n      <th>Fines</th>\n      <th>Make</th>\n      <th>Model</th>\n      <th>Year</th>\n    </tr>\n  </thead>\n  <tbody>\n    <tr>\n      <th>0</th>\n      <td>Y163O8161RUS</td>\n      <td>2</td>\n      <td>3200.00</td>\n      <td>Ford</td>\n      <td>Focus</td>\n      <td>1989</td>\n    </tr>\n    <tr>\n      <th>1</th>\n      <td>E432XX77RUS</td>\n      <td>1</td>\n      <td>6500.00</td>\n      <td>Toyota</td>\n      <td>Camry</td>\n      <td>1995</td>\n    </tr>\n    <tr>\n      <th>2</th>\n      <td>7184TT36RUS</td>\n      <td>1</td>\n      <td>2100.00</td>\n      <td>Ford</td>\n      <td>Focus</td>\n      <td>1984</td>\n    </tr>\n    <tr>\n      <th>3</th>\n      <td>X582HE161RUS</td>\n      <td>2</td>\n      <td>2000.00</td>\n      <td>Ford</td>\n      <td>Focus</td>\n      <td>2015</td>\n    </tr>\n    <tr>\n      <th>4</th>\n      <td>92918M178RUS</td>\n      <td>1</td>\n      <td>5700.00</td>\n      <td>Ford</td>\n      <td>Focus</td>\n      <td>2014</td>\n    </tr>\n    <tr>\n      <th>...</th>\n      <td>...</td>\n      <td>...</td>\n      <td>...</td>\n      <td>...</td>\n      <td>...</td>\n      <td>...</td>\n    </tr>\n    <tr>\n      <th>925</th>\n      <td>Y163O8000RUS</td>\n      <td>2</td>\n      <td>344.00</td>\n      <td>Ford</td>\n      <td>Focus</td>\n      <td>1234</td>\n    </tr>\n    <tr>\n      <th>926</th>\n      <td>M103O8161RUS</td>\n      <td>1</td>\n      <td>5454.00</td>\n      <td>Lada</td>\n      <td>Kalina</td>\n      <td>1943</td>\n    </tr>\n    <tr>\n      <th>927</th>\n      <td>Y163O8787RUS</td>\n      <td>1</td>\n      <td>4345.00</td>\n      <td>Lada</td>\n      <td>Niva</td>\n      <td>1894</td>\n    </tr>\n    <tr>\n      <th>928</th>\n      <td>Y163O0061RUS</td>\n      <td>2</td>\n      <td>4343.00</td>\n      <td>Lada</td>\n      <td>Vesta</td>\n      <td>2003</td>\n    </tr>\n    <tr>\n      <th>929</th>\n      <td>Y103O0161RUS</td>\n      <td>1</td>\n      <td>23324.00</td>\n      <td>Ford</td>\n      <td>Mustang</td>\n      <td>2004</td>\n    </tr>\n  </tbody>\n</table>\n<p>930 rows × 6 columns</p>\n</div>"
     },
     "execution_count": 8,
     "metadata": {},
     "output_type": "execute_result"
    }
   ],
   "source": [
    "data = {'CarNumber': ['Y163O8000RUS', 'M103O8161RUS', 'Y163O8787RUS', 'Y163O0061RUS',                                'Y103O0161RUS'],\n",
    "        'Refund': [2, 1, 1, 2, 1],\n",
    "        'Fines': [344.00, 5454.00, 4345.00, 4343.00, 23324.00],\n",
    "        'Make': ['Ford', 'Lada', 'Lada', 'Lada', 'Ford'],\n",
    "        'Model': ['Focus', 'Kalina', 'Niva', 'Vesta', 'Mustang'],\n",
    "        'Year': [1234, 1943, 1894, 2003, 2004]\n",
    "        }\n",
    "to_append = pd.DataFrame(data)\n",
    "fines = pd.concat([fines, to_append], ignore_index=True)\n",
    "fines\n"
   ],
   "metadata": {
    "collapsed": false,
    "pycharm": {
     "name": "#%%\n"
    }
   }
  },
  {
   "cell_type": "markdown",
   "source": [
    "◦ delete the dataframe last 20 observations from the owners and add 3 new\n",
    "observations (they are not the same as those you add to the fines dataframe)"
   ],
   "metadata": {
    "collapsed": false,
    "pycharm": {
     "name": "#%% md\n"
    }
   },
   "outputs": []
  },
  {
   "cell_type": "code",
   "execution_count": 9,
   "outputs": [
    {
     "data": {
      "text/plain": "        CarNumber     SURNAME\n0    Y163O8161RUS  RICHARDSON\n1     E432XX77RUS        ROSS\n2     7184TT36RUS      MORGAN\n3    X582HE161RUS      BAILEY\n4    92918M178RUS       LOPEZ\n..            ...         ...\n509  O50197197RUS      WRIGHT\n510  7608EE777RUS        HILL\n511  Y10000061RUS       NOKIN\n512  M903O0161RUS      BOBROV\n513  Y109O0154RUS       LUGOV\n\n[514 rows x 2 columns]",
      "text/html": "<div>\n<style scoped>\n    .dataframe tbody tr th:only-of-type {\n        vertical-align: middle;\n    }\n\n    .dataframe tbody tr th {\n        vertical-align: top;\n    }\n\n    .dataframe thead th {\n        text-align: right;\n    }\n</style>\n<table border=\"1\" class=\"dataframe\">\n  <thead>\n    <tr style=\"text-align: right;\">\n      <th></th>\n      <th>CarNumber</th>\n      <th>SURNAME</th>\n    </tr>\n  </thead>\n  <tbody>\n    <tr>\n      <th>0</th>\n      <td>Y163O8161RUS</td>\n      <td>RICHARDSON</td>\n    </tr>\n    <tr>\n      <th>1</th>\n      <td>E432XX77RUS</td>\n      <td>ROSS</td>\n    </tr>\n    <tr>\n      <th>2</th>\n      <td>7184TT36RUS</td>\n      <td>MORGAN</td>\n    </tr>\n    <tr>\n      <th>3</th>\n      <td>X582HE161RUS</td>\n      <td>BAILEY</td>\n    </tr>\n    <tr>\n      <th>4</th>\n      <td>92918M178RUS</td>\n      <td>LOPEZ</td>\n    </tr>\n    <tr>\n      <th>...</th>\n      <td>...</td>\n      <td>...</td>\n    </tr>\n    <tr>\n      <th>509</th>\n      <td>O50197197RUS</td>\n      <td>WRIGHT</td>\n    </tr>\n    <tr>\n      <th>510</th>\n      <td>7608EE777RUS</td>\n      <td>HILL</td>\n    </tr>\n    <tr>\n      <th>511</th>\n      <td>Y10000061RUS</td>\n      <td>NOKIN</td>\n    </tr>\n    <tr>\n      <th>512</th>\n      <td>M903O0161RUS</td>\n      <td>BOBROV</td>\n    </tr>\n    <tr>\n      <th>513</th>\n      <td>Y109O0154RUS</td>\n      <td>LUGOV</td>\n    </tr>\n  </tbody>\n</table>\n<p>514 rows × 2 columns</p>\n</div>"
     },
     "execution_count": 9,
     "metadata": {},
     "output_type": "execute_result"
    }
   ],
   "source": [
    "owners.drop(owners.tail(20).index, inplace=True)\n",
    "new_data = {'CarNumber': ['Y10000061RUS', 'M903O0161RUS', 'Y109O0154RUS'],\n",
    "            'SURNAME': ['NOKIN', 'BOBROV', 'LUGOV']}\n",
    "to_add = pd.DataFrame(new_data)\n",
    "owners = pd.concat([owners, to_add], ignore_index=True)\n",
    "owners"
   ],
   "metadata": {
    "collapsed": false,
    "pycharm": {
     "name": "#%%\n"
    }
   }
  },
  {
   "cell_type": "markdown",
   "source": [
    "◦ join both dataframes:\n",
    "∗ the new dataframe should have only the car numbers that exist in both dataframes"
   ],
   "metadata": {
    "collapsed": false,
    "pycharm": {
     "name": "#%% md\n"
    }
   },
   "outputs": []
  },
  {
   "cell_type": "code",
   "execution_count": 10,
   "outputs": [
    {
     "data": {
      "text/plain": "        CarNumber  Refund    Fines    Make    Model  Year     SURNAME\n0    Y163O8161RUS       2  3200.00    Ford    Focus  1989  RICHARDSON\n1    Y163O8161RUS       2  1600.00    Ford    Focus  1999  RICHARDSON\n2     E432XX77RUS       1  6500.00  Toyota    Camry  1995        ROSS\n3     E432XX77RUS       2 13000.00  Toyota    Camry  1992        ROSS\n4     7184TT36RUS       1  2100.00    Ford    Focus  1984      MORGAN\n..            ...     ...      ...     ...      ...   ...         ...\n894  E41977152RUS       2  2400.00    Ford    Focus  2001       BAKER\n895  9464EX178RUS       2  2100.00    Ford    Focus  1993      MARTIN\n896  O50197197RUS       2  7800.00    Ford    Focus  1986      WRIGHT\n897  7608EE777RUS       1  4000.00   Skoda  Octavia  2013        HILL\n898  7608EE777RUS       1  4000.00   Skoda  Octavia  1987        HILL\n\n[899 rows x 7 columns]",
      "text/html": "<div>\n<style scoped>\n    .dataframe tbody tr th:only-of-type {\n        vertical-align: middle;\n    }\n\n    .dataframe tbody tr th {\n        vertical-align: top;\n    }\n\n    .dataframe thead th {\n        text-align: right;\n    }\n</style>\n<table border=\"1\" class=\"dataframe\">\n  <thead>\n    <tr style=\"text-align: right;\">\n      <th></th>\n      <th>CarNumber</th>\n      <th>Refund</th>\n      <th>Fines</th>\n      <th>Make</th>\n      <th>Model</th>\n      <th>Year</th>\n      <th>SURNAME</th>\n    </tr>\n  </thead>\n  <tbody>\n    <tr>\n      <th>0</th>\n      <td>Y163O8161RUS</td>\n      <td>2</td>\n      <td>3200.00</td>\n      <td>Ford</td>\n      <td>Focus</td>\n      <td>1989</td>\n      <td>RICHARDSON</td>\n    </tr>\n    <tr>\n      <th>1</th>\n      <td>Y163O8161RUS</td>\n      <td>2</td>\n      <td>1600.00</td>\n      <td>Ford</td>\n      <td>Focus</td>\n      <td>1999</td>\n      <td>RICHARDSON</td>\n    </tr>\n    <tr>\n      <th>2</th>\n      <td>E432XX77RUS</td>\n      <td>1</td>\n      <td>6500.00</td>\n      <td>Toyota</td>\n      <td>Camry</td>\n      <td>1995</td>\n      <td>ROSS</td>\n    </tr>\n    <tr>\n      <th>3</th>\n      <td>E432XX77RUS</td>\n      <td>2</td>\n      <td>13000.00</td>\n      <td>Toyota</td>\n      <td>Camry</td>\n      <td>1992</td>\n      <td>ROSS</td>\n    </tr>\n    <tr>\n      <th>4</th>\n      <td>7184TT36RUS</td>\n      <td>1</td>\n      <td>2100.00</td>\n      <td>Ford</td>\n      <td>Focus</td>\n      <td>1984</td>\n      <td>MORGAN</td>\n    </tr>\n    <tr>\n      <th>...</th>\n      <td>...</td>\n      <td>...</td>\n      <td>...</td>\n      <td>...</td>\n      <td>...</td>\n      <td>...</td>\n      <td>...</td>\n    </tr>\n    <tr>\n      <th>894</th>\n      <td>E41977152RUS</td>\n      <td>2</td>\n      <td>2400.00</td>\n      <td>Ford</td>\n      <td>Focus</td>\n      <td>2001</td>\n      <td>BAKER</td>\n    </tr>\n    <tr>\n      <th>895</th>\n      <td>9464EX178RUS</td>\n      <td>2</td>\n      <td>2100.00</td>\n      <td>Ford</td>\n      <td>Focus</td>\n      <td>1993</td>\n      <td>MARTIN</td>\n    </tr>\n    <tr>\n      <th>896</th>\n      <td>O50197197RUS</td>\n      <td>2</td>\n      <td>7800.00</td>\n      <td>Ford</td>\n      <td>Focus</td>\n      <td>1986</td>\n      <td>WRIGHT</td>\n    </tr>\n    <tr>\n      <th>897</th>\n      <td>7608EE777RUS</td>\n      <td>1</td>\n      <td>4000.00</td>\n      <td>Skoda</td>\n      <td>Octavia</td>\n      <td>2013</td>\n      <td>HILL</td>\n    </tr>\n    <tr>\n      <th>898</th>\n      <td>7608EE777RUS</td>\n      <td>1</td>\n      <td>4000.00</td>\n      <td>Skoda</td>\n      <td>Octavia</td>\n      <td>1987</td>\n      <td>HILL</td>\n    </tr>\n  </tbody>\n</table>\n<p>899 rows × 7 columns</p>\n</div>"
     },
     "execution_count": 10,
     "metadata": {},
     "output_type": "execute_result"
    }
   ],
   "source": [
    "inner = pd.merge(fines, owners, on='CarNumber')\n",
    "inner"
   ],
   "metadata": {
    "collapsed": false,
    "pycharm": {
     "name": "#%%\n"
    }
   }
  },
  {
   "cell_type": "markdown",
   "source": [
    "∗ the new dataframe should have all the car numbers that exist in both dataframes"
   ],
   "metadata": {
    "collapsed": false,
    "pycharm": {
     "name": "#%% md\n"
    }
   },
   "outputs": []
  },
  {
   "cell_type": "code",
   "execution_count": 11,
   "outputs": [
    {
     "data": {
      "text/plain": "        CarNumber  Refund    Fines    Make    Model    Year     SURNAME\n0    Y163O8161RUS    2.00  3200.00    Ford    Focus 1989.00  RICHARDSON\n1    Y163O8161RUS    2.00  1600.00    Ford    Focus 1999.00  RICHARDSON\n2     E432XX77RUS    1.00  6500.00  Toyota    Camry 1995.00        ROSS\n3     E432XX77RUS    2.00 13000.00  Toyota    Camry 1992.00        ROSS\n4     7184TT36RUS    1.00  2100.00    Ford    Focus 1984.00      MORGAN\n..            ...     ...      ...     ...      ...     ...         ...\n928  Y163O0061RUS    2.00  4343.00    Lada    Vesta 2003.00         NaN\n929  Y103O0161RUS    1.00 23324.00    Ford  Mustang 2004.00         NaN\n930  Y10000061RUS     NaN      NaN     NaN      NaN     NaN       NOKIN\n931  M903O0161RUS     NaN      NaN     NaN      NaN     NaN      BOBROV\n932  Y109O0154RUS     NaN      NaN     NaN      NaN     NaN       LUGOV\n\n[933 rows x 7 columns]",
      "text/html": "<div>\n<style scoped>\n    .dataframe tbody tr th:only-of-type {\n        vertical-align: middle;\n    }\n\n    .dataframe tbody tr th {\n        vertical-align: top;\n    }\n\n    .dataframe thead th {\n        text-align: right;\n    }\n</style>\n<table border=\"1\" class=\"dataframe\">\n  <thead>\n    <tr style=\"text-align: right;\">\n      <th></th>\n      <th>CarNumber</th>\n      <th>Refund</th>\n      <th>Fines</th>\n      <th>Make</th>\n      <th>Model</th>\n      <th>Year</th>\n      <th>SURNAME</th>\n    </tr>\n  </thead>\n  <tbody>\n    <tr>\n      <th>0</th>\n      <td>Y163O8161RUS</td>\n      <td>2.00</td>\n      <td>3200.00</td>\n      <td>Ford</td>\n      <td>Focus</td>\n      <td>1989.00</td>\n      <td>RICHARDSON</td>\n    </tr>\n    <tr>\n      <th>1</th>\n      <td>Y163O8161RUS</td>\n      <td>2.00</td>\n      <td>1600.00</td>\n      <td>Ford</td>\n      <td>Focus</td>\n      <td>1999.00</td>\n      <td>RICHARDSON</td>\n    </tr>\n    <tr>\n      <th>2</th>\n      <td>E432XX77RUS</td>\n      <td>1.00</td>\n      <td>6500.00</td>\n      <td>Toyota</td>\n      <td>Camry</td>\n      <td>1995.00</td>\n      <td>ROSS</td>\n    </tr>\n    <tr>\n      <th>3</th>\n      <td>E432XX77RUS</td>\n      <td>2.00</td>\n      <td>13000.00</td>\n      <td>Toyota</td>\n      <td>Camry</td>\n      <td>1992.00</td>\n      <td>ROSS</td>\n    </tr>\n    <tr>\n      <th>4</th>\n      <td>7184TT36RUS</td>\n      <td>1.00</td>\n      <td>2100.00</td>\n      <td>Ford</td>\n      <td>Focus</td>\n      <td>1984.00</td>\n      <td>MORGAN</td>\n    </tr>\n    <tr>\n      <th>...</th>\n      <td>...</td>\n      <td>...</td>\n      <td>...</td>\n      <td>...</td>\n      <td>...</td>\n      <td>...</td>\n      <td>...</td>\n    </tr>\n    <tr>\n      <th>928</th>\n      <td>Y163O0061RUS</td>\n      <td>2.00</td>\n      <td>4343.00</td>\n      <td>Lada</td>\n      <td>Vesta</td>\n      <td>2003.00</td>\n      <td>NaN</td>\n    </tr>\n    <tr>\n      <th>929</th>\n      <td>Y103O0161RUS</td>\n      <td>1.00</td>\n      <td>23324.00</td>\n      <td>Ford</td>\n      <td>Mustang</td>\n      <td>2004.00</td>\n      <td>NaN</td>\n    </tr>\n    <tr>\n      <th>930</th>\n      <td>Y10000061RUS</td>\n      <td>NaN</td>\n      <td>NaN</td>\n      <td>NaN</td>\n      <td>NaN</td>\n      <td>NaN</td>\n      <td>NOKIN</td>\n    </tr>\n    <tr>\n      <th>931</th>\n      <td>M903O0161RUS</td>\n      <td>NaN</td>\n      <td>NaN</td>\n      <td>NaN</td>\n      <td>NaN</td>\n      <td>NaN</td>\n      <td>BOBROV</td>\n    </tr>\n    <tr>\n      <th>932</th>\n      <td>Y109O0154RUS</td>\n      <td>NaN</td>\n      <td>NaN</td>\n      <td>NaN</td>\n      <td>NaN</td>\n      <td>NaN</td>\n      <td>LUGOV</td>\n    </tr>\n  </tbody>\n</table>\n<p>933 rows × 7 columns</p>\n</div>"
     },
     "execution_count": 11,
     "metadata": {},
     "output_type": "execute_result"
    }
   ],
   "source": [
    "outer = pd.merge(fines, owners, on='CarNumber', how='outer')\n",
    "outer"
   ],
   "metadata": {
    "collapsed": false,
    "pycharm": {
     "name": "#%%\n"
    }
   }
  },
  {
   "cell_type": "markdown",
   "source": [
    "∗ the new dataframe should have only the car numbers from the fines dataframe"
   ],
   "metadata": {
    "collapsed": false,
    "pycharm": {
     "name": "#%% md\n"
    }
   },
   "outputs": []
  },
  {
   "cell_type": "code",
   "execution_count": 12,
   "outputs": [
    {
     "data": {
      "text/plain": "        CarNumber  Refund    Fines    Make    Model  Year     SURNAME\n0    Y163O8161RUS       2  3200.00    Ford    Focus  1989  RICHARDSON\n1     E432XX77RUS       1  6500.00  Toyota    Camry  1995        ROSS\n2     7184TT36RUS       1  2100.00    Ford    Focus  1984      MORGAN\n3    X582HE161RUS       2  2000.00    Ford    Focus  2015      BAILEY\n4    92918M178RUS       1  5700.00    Ford    Focus  2014       LOPEZ\n..            ...     ...      ...     ...      ...   ...         ...\n925  Y163O8000RUS       2   344.00    Ford    Focus  1234         NaN\n926  M103O8161RUS       1  5454.00    Lada   Kalina  1943         NaN\n927  Y163O8787RUS       1  4345.00    Lada     Niva  1894         NaN\n928  Y163O0061RUS       2  4343.00    Lada    Vesta  2003         NaN\n929  Y103O0161RUS       1 23324.00    Ford  Mustang  2004         NaN\n\n[930 rows x 7 columns]",
      "text/html": "<div>\n<style scoped>\n    .dataframe tbody tr th:only-of-type {\n        vertical-align: middle;\n    }\n\n    .dataframe tbody tr th {\n        vertical-align: top;\n    }\n\n    .dataframe thead th {\n        text-align: right;\n    }\n</style>\n<table border=\"1\" class=\"dataframe\">\n  <thead>\n    <tr style=\"text-align: right;\">\n      <th></th>\n      <th>CarNumber</th>\n      <th>Refund</th>\n      <th>Fines</th>\n      <th>Make</th>\n      <th>Model</th>\n      <th>Year</th>\n      <th>SURNAME</th>\n    </tr>\n  </thead>\n  <tbody>\n    <tr>\n      <th>0</th>\n      <td>Y163O8161RUS</td>\n      <td>2</td>\n      <td>3200.00</td>\n      <td>Ford</td>\n      <td>Focus</td>\n      <td>1989</td>\n      <td>RICHARDSON</td>\n    </tr>\n    <tr>\n      <th>1</th>\n      <td>E432XX77RUS</td>\n      <td>1</td>\n      <td>6500.00</td>\n      <td>Toyota</td>\n      <td>Camry</td>\n      <td>1995</td>\n      <td>ROSS</td>\n    </tr>\n    <tr>\n      <th>2</th>\n      <td>7184TT36RUS</td>\n      <td>1</td>\n      <td>2100.00</td>\n      <td>Ford</td>\n      <td>Focus</td>\n      <td>1984</td>\n      <td>MORGAN</td>\n    </tr>\n    <tr>\n      <th>3</th>\n      <td>X582HE161RUS</td>\n      <td>2</td>\n      <td>2000.00</td>\n      <td>Ford</td>\n      <td>Focus</td>\n      <td>2015</td>\n      <td>BAILEY</td>\n    </tr>\n    <tr>\n      <th>4</th>\n      <td>92918M178RUS</td>\n      <td>1</td>\n      <td>5700.00</td>\n      <td>Ford</td>\n      <td>Focus</td>\n      <td>2014</td>\n      <td>LOPEZ</td>\n    </tr>\n    <tr>\n      <th>...</th>\n      <td>...</td>\n      <td>...</td>\n      <td>...</td>\n      <td>...</td>\n      <td>...</td>\n      <td>...</td>\n      <td>...</td>\n    </tr>\n    <tr>\n      <th>925</th>\n      <td>Y163O8000RUS</td>\n      <td>2</td>\n      <td>344.00</td>\n      <td>Ford</td>\n      <td>Focus</td>\n      <td>1234</td>\n      <td>NaN</td>\n    </tr>\n    <tr>\n      <th>926</th>\n      <td>M103O8161RUS</td>\n      <td>1</td>\n      <td>5454.00</td>\n      <td>Lada</td>\n      <td>Kalina</td>\n      <td>1943</td>\n      <td>NaN</td>\n    </tr>\n    <tr>\n      <th>927</th>\n      <td>Y163O8787RUS</td>\n      <td>1</td>\n      <td>4345.00</td>\n      <td>Lada</td>\n      <td>Niva</td>\n      <td>1894</td>\n      <td>NaN</td>\n    </tr>\n    <tr>\n      <th>928</th>\n      <td>Y163O0061RUS</td>\n      <td>2</td>\n      <td>4343.00</td>\n      <td>Lada</td>\n      <td>Vesta</td>\n      <td>2003</td>\n      <td>NaN</td>\n    </tr>\n    <tr>\n      <th>929</th>\n      <td>Y103O0161RUS</td>\n      <td>1</td>\n      <td>23324.00</td>\n      <td>Ford</td>\n      <td>Mustang</td>\n      <td>2004</td>\n      <td>NaN</td>\n    </tr>\n  </tbody>\n</table>\n<p>930 rows × 7 columns</p>\n</div>"
     },
     "execution_count": 12,
     "metadata": {},
     "output_type": "execute_result"
    }
   ],
   "source": [
    "res_fines = pd.merge(fines, owners, on='CarNumber', how='left')\n",
    "res_fines"
   ],
   "metadata": {
    "collapsed": false,
    "pycharm": {
     "name": "#%%\n"
    }
   }
  },
  {
   "cell_type": "markdown",
   "source": [
    "∗ the new dataframe should have only the car numbers from the owners dataframe"
   ],
   "metadata": {
    "collapsed": false,
    "pycharm": {
     "name": "#%% md\n"
    }
   }
  },
  {
   "cell_type": "code",
   "execution_count": 13,
   "outputs": [
    {
     "data": {
      "text/plain": "        CarNumber  Refund    Fines    Make    Model    Year     SURNAME\n0    Y163O8161RUS    2.00  3200.00    Ford    Focus 1989.00  RICHARDSON\n1    Y163O8161RUS    2.00  1600.00    Ford    Focus 1999.00  RICHARDSON\n2     E432XX77RUS    1.00  6500.00  Toyota    Camry 1995.00        ROSS\n3     E432XX77RUS    2.00 13000.00  Toyota    Camry 1992.00        ROSS\n4     7184TT36RUS    1.00  2100.00    Ford    Focus 1984.00      MORGAN\n..            ...     ...      ...     ...      ...     ...         ...\n897  7608EE777RUS    1.00  4000.00   Skoda  Octavia 2013.00        HILL\n898  7608EE777RUS    1.00  4000.00   Skoda  Octavia 1987.00        HILL\n899  Y10000061RUS     NaN      NaN     NaN      NaN     NaN       NOKIN\n900  M903O0161RUS     NaN      NaN     NaN      NaN     NaN      BOBROV\n901  Y109O0154RUS     NaN      NaN     NaN      NaN     NaN       LUGOV\n\n[902 rows x 7 columns]",
      "text/html": "<div>\n<style scoped>\n    .dataframe tbody tr th:only-of-type {\n        vertical-align: middle;\n    }\n\n    .dataframe tbody tr th {\n        vertical-align: top;\n    }\n\n    .dataframe thead th {\n        text-align: right;\n    }\n</style>\n<table border=\"1\" class=\"dataframe\">\n  <thead>\n    <tr style=\"text-align: right;\">\n      <th></th>\n      <th>CarNumber</th>\n      <th>Refund</th>\n      <th>Fines</th>\n      <th>Make</th>\n      <th>Model</th>\n      <th>Year</th>\n      <th>SURNAME</th>\n    </tr>\n  </thead>\n  <tbody>\n    <tr>\n      <th>0</th>\n      <td>Y163O8161RUS</td>\n      <td>2.00</td>\n      <td>3200.00</td>\n      <td>Ford</td>\n      <td>Focus</td>\n      <td>1989.00</td>\n      <td>RICHARDSON</td>\n    </tr>\n    <tr>\n      <th>1</th>\n      <td>Y163O8161RUS</td>\n      <td>2.00</td>\n      <td>1600.00</td>\n      <td>Ford</td>\n      <td>Focus</td>\n      <td>1999.00</td>\n      <td>RICHARDSON</td>\n    </tr>\n    <tr>\n      <th>2</th>\n      <td>E432XX77RUS</td>\n      <td>1.00</td>\n      <td>6500.00</td>\n      <td>Toyota</td>\n      <td>Camry</td>\n      <td>1995.00</td>\n      <td>ROSS</td>\n    </tr>\n    <tr>\n      <th>3</th>\n      <td>E432XX77RUS</td>\n      <td>2.00</td>\n      <td>13000.00</td>\n      <td>Toyota</td>\n      <td>Camry</td>\n      <td>1992.00</td>\n      <td>ROSS</td>\n    </tr>\n    <tr>\n      <th>4</th>\n      <td>7184TT36RUS</td>\n      <td>1.00</td>\n      <td>2100.00</td>\n      <td>Ford</td>\n      <td>Focus</td>\n      <td>1984.00</td>\n      <td>MORGAN</td>\n    </tr>\n    <tr>\n      <th>...</th>\n      <td>...</td>\n      <td>...</td>\n      <td>...</td>\n      <td>...</td>\n      <td>...</td>\n      <td>...</td>\n      <td>...</td>\n    </tr>\n    <tr>\n      <th>897</th>\n      <td>7608EE777RUS</td>\n      <td>1.00</td>\n      <td>4000.00</td>\n      <td>Skoda</td>\n      <td>Octavia</td>\n      <td>2013.00</td>\n      <td>HILL</td>\n    </tr>\n    <tr>\n      <th>898</th>\n      <td>7608EE777RUS</td>\n      <td>1.00</td>\n      <td>4000.00</td>\n      <td>Skoda</td>\n      <td>Octavia</td>\n      <td>1987.00</td>\n      <td>HILL</td>\n    </tr>\n    <tr>\n      <th>899</th>\n      <td>Y10000061RUS</td>\n      <td>NaN</td>\n      <td>NaN</td>\n      <td>NaN</td>\n      <td>NaN</td>\n      <td>NaN</td>\n      <td>NOKIN</td>\n    </tr>\n    <tr>\n      <th>900</th>\n      <td>M903O0161RUS</td>\n      <td>NaN</td>\n      <td>NaN</td>\n      <td>NaN</td>\n      <td>NaN</td>\n      <td>NaN</td>\n      <td>BOBROV</td>\n    </tr>\n    <tr>\n      <th>901</th>\n      <td>Y109O0154RUS</td>\n      <td>NaN</td>\n      <td>NaN</td>\n      <td>NaN</td>\n      <td>NaN</td>\n      <td>NaN</td>\n      <td>LUGOV</td>\n    </tr>\n  </tbody>\n</table>\n<p>902 rows × 7 columns</p>\n</div>"
     },
     "execution_count": 13,
     "metadata": {},
     "output_type": "execute_result"
    }
   ],
   "source": [
    "res_owners = pd.merge(fines, owners, on='CarNumber', how='right')\n",
    "res_owners"
   ],
   "metadata": {
    "collapsed": false,
    "pycharm": {
     "name": "#%%\n"
    }
   }
  },
  {
   "cell_type": "markdown",
   "source": [
    "## • create a pivot table from the fines dataframe"
   ],
   "metadata": {
    "collapsed": false,
    "pycharm": {
     "name": "#%% md\n"
    }
   }
  },
  {
   "cell_type": "code",
   "execution_count": 14,
   "outputs": [
    {
     "data": {
      "text/plain": "                    Fines                                               \\\nYear                 1234    1894    1943     1980      1981      1982   \nMake       Model                                                         \nFord       Focus   344.00     NaN     NaN 89194.60 266783.80 107283.80   \n           Mondeo     NaN     NaN     NaN      NaN       NaN  46200.00   \n           Mustang    NaN     NaN     NaN      NaN       NaN       NaN   \nLada       Kalina     NaN     NaN 5454.00      NaN       NaN       NaN   \n           Niva       NaN 4345.00     NaN      NaN       NaN       NaN   \n           Vesta      NaN     NaN     NaN      NaN       NaN       NaN   \nSkoda      Octavia    NaN     NaN     NaN 13794.60   1900.00   8894.60   \nToyota     Camry      NaN     NaN     NaN 12000.00       NaN   1000.00   \n           Corolla    NaN     NaN     NaN      NaN   6800.00       NaN   \nVolkswagen Golf       NaN     NaN     NaN 20800.00   8594.60   5000.00   \n           Jetta      NaN     NaN     NaN      NaN   1000.00       NaN   \n           Passat     NaN     NaN     NaN   900.00  12500.00       NaN   \n           Touareg    NaN     NaN     NaN      NaN       NaN       NaN   \n\n                                                           ...            \\\nYear                    1983      1984      1985     1986  ...      2009   \nMake       Model                                           ...             \nFord       Focus   147289.20 106000.00 307494.60 69700.00  ... 159894.60   \n           Mondeo        NaN       NaN       NaN      NaN  ...       NaN   \n           Mustang       NaN       NaN       NaN      NaN  ...       NaN   \nLada       Kalina        NaN       NaN       NaN      NaN  ...       NaN   \n           Niva          NaN       NaN       NaN      NaN  ...       NaN   \n           Vesta         NaN       NaN       NaN      NaN  ...       NaN   \nSkoda      Octavia       NaN   1300.00 153594.60      NaN  ...       NaN   \nToyota     Camry     8594.60   1000.00       NaN 19800.00  ...       NaN   \n           Corolla  12800.00       NaN   4400.00      NaN  ...   8594.60   \nVolkswagen Golf       200.00       NaN 168000.00      NaN  ...       NaN   \n           Jetta         NaN       NaN   9000.00      NaN  ...       NaN   \n           Passat    1100.00   8594.60       NaN 16000.00  ...   3200.00   \n           Touareg       NaN       NaN       NaN      NaN  ...   5800.00   \n\n                                                                              \\\nYear                   2010      2011      2012      2013     2014      2015   \nMake       Model                                                               \nFord       Focus   96000.00 117194.60 152989.20 297378.40 90378.40 172700.00   \n           Mondeo       NaN       NaN       NaN  41100.00      NaN       NaN   \n           Mustang      NaN       NaN       NaN       NaN      NaN       NaN   \nLada       Kalina       NaN       NaN       NaN       NaN      NaN       NaN   \n           Niva         NaN       NaN       NaN       NaN      NaN       NaN   \n           Vesta        NaN       NaN       NaN       NaN      NaN       NaN   \nSkoda      Octavia  3000.00   3000.00   1700.00  11800.00 18900.00  16394.60   \nToyota     Camry   22400.00       NaN   7500.00       NaN      NaN       NaN   \n           Corolla  6000.00   3400.00       NaN       NaN      NaN  30300.00   \nVolkswagen Golf         NaN       NaN       NaN       NaN 13900.00   4600.00   \n           Jetta        NaN       NaN       NaN       NaN      NaN       NaN   \n           Passat   9500.00       NaN   1000.00   1600.00 15000.00       NaN   \n           Touareg      NaN       NaN       NaN       NaN      NaN       NaN   \n\n                                                  \nYear                    2016      2017      2018  \nMake       Model                                  \nFord       Focus   110789.20 114089.20 107800.00  \n           Mondeo        NaN   8600.00       NaN  \n           Mustang       NaN       NaN       NaN  \nLada       Kalina        NaN       NaN       NaN  \n           Niva          NaN       NaN       NaN  \n           Vesta         NaN       NaN       NaN  \nSkoda      Octavia  35700.00   2400.00 153200.00  \nToyota     Camry      800.00       NaN       NaN  \n           Corolla       NaN   6900.00       NaN  \nVolkswagen Golf          NaN       NaN   1000.00  \n           Jetta         NaN       NaN       NaN  \n           Passat        NaN       NaN       NaN  \n           Touareg       NaN       NaN       NaN  \n\n[13 rows x 42 columns]",
      "text/html": "<div>\n<style scoped>\n    .dataframe tbody tr th:only-of-type {\n        vertical-align: middle;\n    }\n\n    .dataframe tbody tr th {\n        vertical-align: top;\n    }\n\n    .dataframe thead tr th {\n        text-align: left;\n    }\n\n    .dataframe thead tr:last-of-type th {\n        text-align: right;\n    }\n</style>\n<table border=\"1\" class=\"dataframe\">\n  <thead>\n    <tr>\n      <th></th>\n      <th></th>\n      <th colspan=\"21\" halign=\"left\">Fines</th>\n    </tr>\n    <tr>\n      <th></th>\n      <th>Year</th>\n      <th>1234</th>\n      <th>1894</th>\n      <th>1943</th>\n      <th>1980</th>\n      <th>1981</th>\n      <th>1982</th>\n      <th>1983</th>\n      <th>1984</th>\n      <th>1985</th>\n      <th>1986</th>\n      <th>...</th>\n      <th>2009</th>\n      <th>2010</th>\n      <th>2011</th>\n      <th>2012</th>\n      <th>2013</th>\n      <th>2014</th>\n      <th>2015</th>\n      <th>2016</th>\n      <th>2017</th>\n      <th>2018</th>\n    </tr>\n    <tr>\n      <th>Make</th>\n      <th>Model</th>\n      <th></th>\n      <th></th>\n      <th></th>\n      <th></th>\n      <th></th>\n      <th></th>\n      <th></th>\n      <th></th>\n      <th></th>\n      <th></th>\n      <th></th>\n      <th></th>\n      <th></th>\n      <th></th>\n      <th></th>\n      <th></th>\n      <th></th>\n      <th></th>\n      <th></th>\n      <th></th>\n      <th></th>\n    </tr>\n  </thead>\n  <tbody>\n    <tr>\n      <th rowspan=\"3\" valign=\"top\">Ford</th>\n      <th>Focus</th>\n      <td>344.00</td>\n      <td>NaN</td>\n      <td>NaN</td>\n      <td>89194.60</td>\n      <td>266783.80</td>\n      <td>107283.80</td>\n      <td>147289.20</td>\n      <td>106000.00</td>\n      <td>307494.60</td>\n      <td>69700.00</td>\n      <td>...</td>\n      <td>159894.60</td>\n      <td>96000.00</td>\n      <td>117194.60</td>\n      <td>152989.20</td>\n      <td>297378.40</td>\n      <td>90378.40</td>\n      <td>172700.00</td>\n      <td>110789.20</td>\n      <td>114089.20</td>\n      <td>107800.00</td>\n    </tr>\n    <tr>\n      <th>Mondeo</th>\n      <td>NaN</td>\n      <td>NaN</td>\n      <td>NaN</td>\n      <td>NaN</td>\n      <td>NaN</td>\n      <td>46200.00</td>\n      <td>NaN</td>\n      <td>NaN</td>\n      <td>NaN</td>\n      <td>NaN</td>\n      <td>...</td>\n      <td>NaN</td>\n      <td>NaN</td>\n      <td>NaN</td>\n      <td>NaN</td>\n      <td>41100.00</td>\n      <td>NaN</td>\n      <td>NaN</td>\n      <td>NaN</td>\n      <td>8600.00</td>\n      <td>NaN</td>\n    </tr>\n    <tr>\n      <th>Mustang</th>\n      <td>NaN</td>\n      <td>NaN</td>\n      <td>NaN</td>\n      <td>NaN</td>\n      <td>NaN</td>\n      <td>NaN</td>\n      <td>NaN</td>\n      <td>NaN</td>\n      <td>NaN</td>\n      <td>NaN</td>\n      <td>...</td>\n      <td>NaN</td>\n      <td>NaN</td>\n      <td>NaN</td>\n      <td>NaN</td>\n      <td>NaN</td>\n      <td>NaN</td>\n      <td>NaN</td>\n      <td>NaN</td>\n      <td>NaN</td>\n      <td>NaN</td>\n    </tr>\n    <tr>\n      <th rowspan=\"3\" valign=\"top\">Lada</th>\n      <th>Kalina</th>\n      <td>NaN</td>\n      <td>NaN</td>\n      <td>5454.00</td>\n      <td>NaN</td>\n      <td>NaN</td>\n      <td>NaN</td>\n      <td>NaN</td>\n      <td>NaN</td>\n      <td>NaN</td>\n      <td>NaN</td>\n      <td>...</td>\n      <td>NaN</td>\n      <td>NaN</td>\n      <td>NaN</td>\n      <td>NaN</td>\n      <td>NaN</td>\n      <td>NaN</td>\n      <td>NaN</td>\n      <td>NaN</td>\n      <td>NaN</td>\n      <td>NaN</td>\n    </tr>\n    <tr>\n      <th>Niva</th>\n      <td>NaN</td>\n      <td>4345.00</td>\n      <td>NaN</td>\n      <td>NaN</td>\n      <td>NaN</td>\n      <td>NaN</td>\n      <td>NaN</td>\n      <td>NaN</td>\n      <td>NaN</td>\n      <td>NaN</td>\n      <td>...</td>\n      <td>NaN</td>\n      <td>NaN</td>\n      <td>NaN</td>\n      <td>NaN</td>\n      <td>NaN</td>\n      <td>NaN</td>\n      <td>NaN</td>\n      <td>NaN</td>\n      <td>NaN</td>\n      <td>NaN</td>\n    </tr>\n    <tr>\n      <th>Vesta</th>\n      <td>NaN</td>\n      <td>NaN</td>\n      <td>NaN</td>\n      <td>NaN</td>\n      <td>NaN</td>\n      <td>NaN</td>\n      <td>NaN</td>\n      <td>NaN</td>\n      <td>NaN</td>\n      <td>NaN</td>\n      <td>...</td>\n      <td>NaN</td>\n      <td>NaN</td>\n      <td>NaN</td>\n      <td>NaN</td>\n      <td>NaN</td>\n      <td>NaN</td>\n      <td>NaN</td>\n      <td>NaN</td>\n      <td>NaN</td>\n      <td>NaN</td>\n    </tr>\n    <tr>\n      <th>Skoda</th>\n      <th>Octavia</th>\n      <td>NaN</td>\n      <td>NaN</td>\n      <td>NaN</td>\n      <td>13794.60</td>\n      <td>1900.00</td>\n      <td>8894.60</td>\n      <td>NaN</td>\n      <td>1300.00</td>\n      <td>153594.60</td>\n      <td>NaN</td>\n      <td>...</td>\n      <td>NaN</td>\n      <td>3000.00</td>\n      <td>3000.00</td>\n      <td>1700.00</td>\n      <td>11800.00</td>\n      <td>18900.00</td>\n      <td>16394.60</td>\n      <td>35700.00</td>\n      <td>2400.00</td>\n      <td>153200.00</td>\n    </tr>\n    <tr>\n      <th rowspan=\"2\" valign=\"top\">Toyota</th>\n      <th>Camry</th>\n      <td>NaN</td>\n      <td>NaN</td>\n      <td>NaN</td>\n      <td>12000.00</td>\n      <td>NaN</td>\n      <td>1000.00</td>\n      <td>8594.60</td>\n      <td>1000.00</td>\n      <td>NaN</td>\n      <td>19800.00</td>\n      <td>...</td>\n      <td>NaN</td>\n      <td>22400.00</td>\n      <td>NaN</td>\n      <td>7500.00</td>\n      <td>NaN</td>\n      <td>NaN</td>\n      <td>NaN</td>\n      <td>800.00</td>\n      <td>NaN</td>\n      <td>NaN</td>\n    </tr>\n    <tr>\n      <th>Corolla</th>\n      <td>NaN</td>\n      <td>NaN</td>\n      <td>NaN</td>\n      <td>NaN</td>\n      <td>6800.00</td>\n      <td>NaN</td>\n      <td>12800.00</td>\n      <td>NaN</td>\n      <td>4400.00</td>\n      <td>NaN</td>\n      <td>...</td>\n      <td>8594.60</td>\n      <td>6000.00</td>\n      <td>3400.00</td>\n      <td>NaN</td>\n      <td>NaN</td>\n      <td>NaN</td>\n      <td>30300.00</td>\n      <td>NaN</td>\n      <td>6900.00</td>\n      <td>NaN</td>\n    </tr>\n    <tr>\n      <th rowspan=\"4\" valign=\"top\">Volkswagen</th>\n      <th>Golf</th>\n      <td>NaN</td>\n      <td>NaN</td>\n      <td>NaN</td>\n      <td>20800.00</td>\n      <td>8594.60</td>\n      <td>5000.00</td>\n      <td>200.00</td>\n      <td>NaN</td>\n      <td>168000.00</td>\n      <td>NaN</td>\n      <td>...</td>\n      <td>NaN</td>\n      <td>NaN</td>\n      <td>NaN</td>\n      <td>NaN</td>\n      <td>NaN</td>\n      <td>13900.00</td>\n      <td>4600.00</td>\n      <td>NaN</td>\n      <td>NaN</td>\n      <td>1000.00</td>\n    </tr>\n    <tr>\n      <th>Jetta</th>\n      <td>NaN</td>\n      <td>NaN</td>\n      <td>NaN</td>\n      <td>NaN</td>\n      <td>1000.00</td>\n      <td>NaN</td>\n      <td>NaN</td>\n      <td>NaN</td>\n      <td>9000.00</td>\n      <td>NaN</td>\n      <td>...</td>\n      <td>NaN</td>\n      <td>NaN</td>\n      <td>NaN</td>\n      <td>NaN</td>\n      <td>NaN</td>\n      <td>NaN</td>\n      <td>NaN</td>\n      <td>NaN</td>\n      <td>NaN</td>\n      <td>NaN</td>\n    </tr>\n    <tr>\n      <th>Passat</th>\n      <td>NaN</td>\n      <td>NaN</td>\n      <td>NaN</td>\n      <td>900.00</td>\n      <td>12500.00</td>\n      <td>NaN</td>\n      <td>1100.00</td>\n      <td>8594.60</td>\n      <td>NaN</td>\n      <td>16000.00</td>\n      <td>...</td>\n      <td>3200.00</td>\n      <td>9500.00</td>\n      <td>NaN</td>\n      <td>1000.00</td>\n      <td>1600.00</td>\n      <td>15000.00</td>\n      <td>NaN</td>\n      <td>NaN</td>\n      <td>NaN</td>\n      <td>NaN</td>\n    </tr>\n    <tr>\n      <th>Touareg</th>\n      <td>NaN</td>\n      <td>NaN</td>\n      <td>NaN</td>\n      <td>NaN</td>\n      <td>NaN</td>\n      <td>NaN</td>\n      <td>NaN</td>\n      <td>NaN</td>\n      <td>NaN</td>\n      <td>NaN</td>\n      <td>...</td>\n      <td>5800.00</td>\n      <td>NaN</td>\n      <td>NaN</td>\n      <td>NaN</td>\n      <td>NaN</td>\n      <td>NaN</td>\n      <td>NaN</td>\n      <td>NaN</td>\n      <td>NaN</td>\n      <td>NaN</td>\n    </tr>\n  </tbody>\n</table>\n<p>13 rows × 42 columns</p>\n</div>"
     },
     "execution_count": 14,
     "metadata": {},
     "output_type": "execute_result"
    }
   ],
   "source": [
    "pd.pivot_table(fines,\n",
    "               index=[\"Make\", \"Model\"],\n",
    "               columns=[\"Year\"],\n",
    "               values=[\"Fines\"],\n",
    "               aggfunc={\"Fines\":np.sum})"
   ],
   "metadata": {
    "collapsed": false,
    "pycharm": {
     "name": "#%%\n"
    }
   }
  },
  {
   "cell_type": "markdown",
   "source": [
    "## • save both the fines and owners dataframes to CSV files without an index"
   ],
   "metadata": {
    "collapsed": false,
    "pycharm": {
     "name": "#%% md\n"
    }
   }
  },
  {
   "cell_type": "code",
   "execution_count": 15,
   "outputs": [],
   "source": [
    "fines.to_csv(\"fines.csv\", index=False)\n",
    "owners.to_csv(\"owners.csv\", index=False)"
   ],
   "metadata": {
    "collapsed": false,
    "pycharm": {
     "name": "#%%\n"
    }
   }
  }
 ],
 "metadata": {
  "kernelspec": {
   "display_name": "Python 3",
   "language": "python",
   "name": "python3"
  },
  "language_info": {
   "codemirror_mode": {
    "name": "ipython",
    "version": 2
   },
   "file_extension": ".py",
   "mimetype": "text/x-python",
   "name": "python",
   "nbconvert_exporter": "python",
   "pygments_lexer": "ipython2",
   "version": "2.7.6"
  }
 },
 "nbformat": 4,
 "nbformat_minor": 0
}