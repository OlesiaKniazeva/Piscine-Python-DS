{
 "cells": [
  {
   "cell_type": "code",
   "execution_count": 186,
   "outputs": [],
   "source": [
    "import pandas as pd"
   ],
   "metadata": {
    "collapsed": false,
    "pycharm": {
     "name": "#%%\n"
    }
   }
  },
  {
   "cell_type": "markdown",
   "source": [
    "## • read_csv:\n",
    "◦ filter the rows with index 2 and 3 using the argument skiprows, we know that these observations were fake\n",
    "◦ filter the last 2 rows from the footer using the argument skipfooter, we know that these observations were fake too\n",
    "◦ assign the following names to the column: datetime, user\n",
    "◦ use datetime as the index column"
   ],
   "metadata": {
    "collapsed": false,
    "pycharm": {
     "name": "#%% md\n"
    }
   }
  },
  {
   "cell_type": "code",
   "execution_count": 187,
   "outputs": [
    {
     "data": {
      "text/plain": "                                 user\ndatetime                             \n2020-04-17 12:01:08.463179      artem\n2020-04-17 12:01:23.743946      artem\n2020-04-17 12:35:52.735016      artem\n2020-04-17 12:36:21.401412     oksana\n2020-04-17 12:36:22.023355     oksana\n...                               ...\n2020-05-21 16:36:40.915488  ekaterina\n2020-05-21 17:49:36.429237      maxim\n2020-05-21 18:45:20.441142  valentina\n2020-05-21 23:03:06.457819      maxim\n2020-05-21 23:23:49.995349      pavel\n\n[1072 rows x 1 columns]",
      "text/html": "<div>\n<style scoped>\n    .dataframe tbody tr th:only-of-type {\n        vertical-align: middle;\n    }\n\n    .dataframe tbody tr th {\n        vertical-align: top;\n    }\n\n    .dataframe thead th {\n        text-align: right;\n    }\n</style>\n<table border=\"1\" class=\"dataframe\">\n  <thead>\n    <tr style=\"text-align: right;\">\n      <th></th>\n      <th>user</th>\n    </tr>\n    <tr>\n      <th>datetime</th>\n      <th></th>\n    </tr>\n  </thead>\n  <tbody>\n    <tr>\n      <th>2020-04-17 12:01:08.463179</th>\n      <td>artem</td>\n    </tr>\n    <tr>\n      <th>2020-04-17 12:01:23.743946</th>\n      <td>artem</td>\n    </tr>\n    <tr>\n      <th>2020-04-17 12:35:52.735016</th>\n      <td>artem</td>\n    </tr>\n    <tr>\n      <th>2020-04-17 12:36:21.401412</th>\n      <td>oksana</td>\n    </tr>\n    <tr>\n      <th>2020-04-17 12:36:22.023355</th>\n      <td>oksana</td>\n    </tr>\n    <tr>\n      <th>...</th>\n      <td>...</td>\n    </tr>\n    <tr>\n      <th>2020-05-21 16:36:40.915488</th>\n      <td>ekaterina</td>\n    </tr>\n    <tr>\n      <th>2020-05-21 17:49:36.429237</th>\n      <td>maxim</td>\n    </tr>\n    <tr>\n      <th>2020-05-21 18:45:20.441142</th>\n      <td>valentina</td>\n    </tr>\n    <tr>\n      <th>2020-05-21 23:03:06.457819</th>\n      <td>maxim</td>\n    </tr>\n    <tr>\n      <th>2020-05-21 23:23:49.995349</th>\n      <td>pavel</td>\n    </tr>\n  </tbody>\n</table>\n<p>1072 rows × 1 columns</p>\n</div>"
     },
     "execution_count": 187,
     "metadata": {},
     "output_type": "execute_result"
    }
   ],
   "source": [
    "df = pd.read_csv('../data/feed-views.log', skiprows=[2, 3], skipfooter=2, engine='python', header=None, names=['datetime', 'user'], sep='\\t', index_col='datetime')\n",
    "df"
   ],
   "metadata": {
    "collapsed": false,
    "pycharm": {
     "name": "#%%\n"
    }
   }
  },
  {
   "cell_type": "markdown",
   "source": [
    "## rename datetime to date_time"
   ],
   "metadata": {
    "collapsed": false,
    "pycharm": {
     "name": "#%% md\n"
    }
   }
  },
  {
   "cell_type": "code",
   "execution_count": 188,
   "outputs": [
    {
     "data": {
      "text/plain": "                                 user\ndate_time                            \n2020-04-17 12:01:08.463179      artem\n2020-04-17 12:01:23.743946      artem\n2020-04-17 12:35:52.735016      artem\n2020-04-17 12:36:21.401412     oksana\n2020-04-17 12:36:22.023355     oksana\n...                               ...\n2020-05-21 16:36:40.915488  ekaterina\n2020-05-21 17:49:36.429237      maxim\n2020-05-21 18:45:20.441142  valentina\n2020-05-21 23:03:06.457819      maxim\n2020-05-21 23:23:49.995349      pavel\n\n[1072 rows x 1 columns]",
      "text/html": "<div>\n<style scoped>\n    .dataframe tbody tr th:only-of-type {\n        vertical-align: middle;\n    }\n\n    .dataframe tbody tr th {\n        vertical-align: top;\n    }\n\n    .dataframe thead th {\n        text-align: right;\n    }\n</style>\n<table border=\"1\" class=\"dataframe\">\n  <thead>\n    <tr style=\"text-align: right;\">\n      <th></th>\n      <th>user</th>\n    </tr>\n    <tr>\n      <th>date_time</th>\n      <th></th>\n    </tr>\n  </thead>\n  <tbody>\n    <tr>\n      <th>2020-04-17 12:01:08.463179</th>\n      <td>artem</td>\n    </tr>\n    <tr>\n      <th>2020-04-17 12:01:23.743946</th>\n      <td>artem</td>\n    </tr>\n    <tr>\n      <th>2020-04-17 12:35:52.735016</th>\n      <td>artem</td>\n    </tr>\n    <tr>\n      <th>2020-04-17 12:36:21.401412</th>\n      <td>oksana</td>\n    </tr>\n    <tr>\n      <th>2020-04-17 12:36:22.023355</th>\n      <td>oksana</td>\n    </tr>\n    <tr>\n      <th>...</th>\n      <td>...</td>\n    </tr>\n    <tr>\n      <th>2020-05-21 16:36:40.915488</th>\n      <td>ekaterina</td>\n    </tr>\n    <tr>\n      <th>2020-05-21 17:49:36.429237</th>\n      <td>maxim</td>\n    </tr>\n    <tr>\n      <th>2020-05-21 18:45:20.441142</th>\n      <td>valentina</td>\n    </tr>\n    <tr>\n      <th>2020-05-21 23:03:06.457819</th>\n      <td>maxim</td>\n    </tr>\n    <tr>\n      <th>2020-05-21 23:23:49.995349</th>\n      <td>pavel</td>\n    </tr>\n  </tbody>\n</table>\n<p>1072 rows × 1 columns</p>\n</div>"
     },
     "execution_count": 188,
     "metadata": {},
     "output_type": "execute_result"
    }
   ],
   "source": [
    "df.index.rename('date_time', inplace=True)\n",
    "df"
   ],
   "metadata": {
    "collapsed": false,
    "pycharm": {
     "name": "#%%\n"
    }
   }
  },
  {
   "cell_type": "markdown",
   "source": [
    "## to_csv:\n",
    "◦ use ';' as the delimiter\n",
    "◦ save it to a file with the name feed-views-semicolon.log"
   ],
   "metadata": {
    "collapsed": false,
    "pycharm": {
     "name": "#%% md\n"
    }
   }
  },
  {
   "cell_type": "code",
   "execution_count": 189,
   "outputs": [],
   "source": [
    "df.to_csv('feed-views-semicolon.log', sep=';')"
   ],
   "metadata": {
    "collapsed": false,
    "pycharm": {
     "name": "#%%\n"
    }
   }
  }
 ],
 "metadata": {
  "kernelspec": {
   "display_name": "Python 3",
   "language": "python",
   "name": "python3"
  },
  "language_info": {
   "codemirror_mode": {
    "name": "ipython",
    "version": 2
   },
   "file_extension": ".py",
   "mimetype": "text/x-python",
   "name": "python",
   "nbconvert_exporter": "python",
   "pygments_lexer": "ipython2",
   "version": "2.7.6"
  }
 },
 "nbformat": 4,
 "nbformat_minor": 0
}