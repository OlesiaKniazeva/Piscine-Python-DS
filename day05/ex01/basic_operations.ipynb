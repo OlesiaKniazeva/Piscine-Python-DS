{
 "cells": [
  {
   "cell_type": "code",
   "execution_count": 43,
   "outputs": [],
   "source": [
    "import pandas as pd"
   ],
   "metadata": {
    "collapsed": false,
    "pycharm": {
     "name": "#%%\n"
    }
   }
  },
  {
   "cell_type": "markdown",
   "source": [
    "## create a dataframe views with two columns: datetime and user by reading feed-views.log\n",
    "◦ convert the datetime to the datetime64[ns] Dtype"
   ],
   "metadata": {
    "collapsed": false,
    "pycharm": {
     "name": "#%% md\n"
    }
   },
   "outputs": []
  },
  {
   "cell_type": "code",
   "execution_count": 1,
   "outputs": [
    {
     "ename": "NameError",
     "evalue": "name 'pd' is not defined",
     "output_type": "error",
     "traceback": [
      "\u001B[0;31m---------------------------------------------------------------------------\u001B[0m",
      "\u001B[0;31mNameError\u001B[0m                                 Traceback (most recent call last)",
      "Cell \u001B[0;32mIn [1], line 1\u001B[0m\n\u001B[0;32m----> 1\u001B[0m df \u001B[38;5;241m=\u001B[39m \u001B[43mpd\u001B[49m\u001B[38;5;241m.\u001B[39mread_csv(\u001B[38;5;124m'\u001B[39m\u001B[38;5;124m../data/feed-views.log\u001B[39m\u001B[38;5;124m'\u001B[39m, header\u001B[38;5;241m=\u001B[39m\u001B[38;5;28;01mNone\u001B[39;00m, names\u001B[38;5;241m=\u001B[39m[\u001B[38;5;124m'\u001B[39m\u001B[38;5;124mdatetime\u001B[39m\u001B[38;5;124m'\u001B[39m, \u001B[38;5;124m'\u001B[39m\u001B[38;5;124muser\u001B[39m\u001B[38;5;124m'\u001B[39m], sep\u001B[38;5;241m=\u001B[39m\u001B[38;5;124m'\u001B[39m\u001B[38;5;130;01m\\t\u001B[39;00m\u001B[38;5;124m'\u001B[39m, parse_dates\u001B[38;5;241m=\u001B[39m[\u001B[38;5;124m\"\u001B[39m\u001B[38;5;124mdatetime\u001B[39m\u001B[38;5;124m\"\u001B[39m])\n",
      "\u001B[0;31mNameError\u001B[0m: name 'pd' is not defined"
     ]
    }
   ],
   "source": [
    "df = pd.read_csv('../data/feed-views.log', header=None, names=['datetime', 'user'], sep='\\t', parse_dates=[\"datetime\"])\n"
   ],
   "metadata": {
    "collapsed": false,
    "pycharm": {
     "name": "#%%\n"
    }
   }
  },
  {
   "cell_type": "markdown",
   "source": [
    "◦ extract the year, month, day, hour, minute, and second from the values of that column to the new columns"
   ],
   "metadata": {
    "collapsed": false,
    "pycharm": {
     "name": "#%% md\n"
    }
   }
  },
  {
   "cell_type": "code",
   "execution_count": 45,
   "outputs": [
    {
     "name": "stdout",
     "output_type": "stream",
     "text": [
      "<class 'pandas.core.frame.DataFrame'>\n",
      "RangeIndex: 1076 entries, 0 to 1075\n",
      "Data columns (total 8 columns):\n",
      " #   Column    Non-Null Count  Dtype         \n",
      "---  ------    --------------  -----         \n",
      " 0   datetime  1076 non-null   datetime64[ns]\n",
      " 1   user      1076 non-null   object        \n",
      " 2   year      1076 non-null   int64         \n",
      " 3   month     1076 non-null   int64         \n",
      " 4   day       1076 non-null   int64         \n",
      " 5   hour      1076 non-null   int64         \n",
      " 6   minute    1076 non-null   int64         \n",
      " 7   second    1076 non-null   int64         \n",
      "dtypes: datetime64[ns](1), int64(6), object(1)\n",
      "memory usage: 67.4+ KB\n"
     ]
    },
    {
     "data": {
      "text/plain": "                       datetime       user  year  month  day  hour  minute  \\\n0    2020-04-17 12:01:08.463179      artem  2020      4   17    12       1   \n1    2020-04-17 12:01:23.743946      artem  2020      4   17    12       1   \n2    2020-04-17 12:27:30.646665      artem  2020      4   17    12      27   \n3    2020-04-17 12:35:44.884757      artem  2020      4   17    12      35   \n4    2020-04-17 12:35:52.735016      artem  2020      4   17    12      35   \n...                         ...        ...   ...    ...  ...   ...     ...   \n1071 2020-05-21 18:45:20.441142  valentina  2020      5   21    18      45   \n1072 2020-05-21 23:03:06.457819      maxim  2020      5   21    23       3   \n1073 2020-05-21 23:23:49.995349      pavel  2020      5   21    23      23   \n1074 2020-05-21 23:49:22.386789      artem  2020      5   21    23      49   \n1075 2020-05-22 10:36:14.662600      artem  2020      5   22    10      36   \n\n      second  \n0          8  \n1         23  \n2         30  \n3         44  \n4         52  \n...      ...  \n1071      20  \n1072       6  \n1073      49  \n1074      22  \n1075      14  \n\n[1076 rows x 8 columns]",
      "text/html": "<div>\n<style scoped>\n    .dataframe tbody tr th:only-of-type {\n        vertical-align: middle;\n    }\n\n    .dataframe tbody tr th {\n        vertical-align: top;\n    }\n\n    .dataframe thead th {\n        text-align: right;\n    }\n</style>\n<table border=\"1\" class=\"dataframe\">\n  <thead>\n    <tr style=\"text-align: right;\">\n      <th></th>\n      <th>datetime</th>\n      <th>user</th>\n      <th>year</th>\n      <th>month</th>\n      <th>day</th>\n      <th>hour</th>\n      <th>minute</th>\n      <th>second</th>\n    </tr>\n  </thead>\n  <tbody>\n    <tr>\n      <th>0</th>\n      <td>2020-04-17 12:01:08.463179</td>\n      <td>artem</td>\n      <td>2020</td>\n      <td>4</td>\n      <td>17</td>\n      <td>12</td>\n      <td>1</td>\n      <td>8</td>\n    </tr>\n    <tr>\n      <th>1</th>\n      <td>2020-04-17 12:01:23.743946</td>\n      <td>artem</td>\n      <td>2020</td>\n      <td>4</td>\n      <td>17</td>\n      <td>12</td>\n      <td>1</td>\n      <td>23</td>\n    </tr>\n    <tr>\n      <th>2</th>\n      <td>2020-04-17 12:27:30.646665</td>\n      <td>artem</td>\n      <td>2020</td>\n      <td>4</td>\n      <td>17</td>\n      <td>12</td>\n      <td>27</td>\n      <td>30</td>\n    </tr>\n    <tr>\n      <th>3</th>\n      <td>2020-04-17 12:35:44.884757</td>\n      <td>artem</td>\n      <td>2020</td>\n      <td>4</td>\n      <td>17</td>\n      <td>12</td>\n      <td>35</td>\n      <td>44</td>\n    </tr>\n    <tr>\n      <th>4</th>\n      <td>2020-04-17 12:35:52.735016</td>\n      <td>artem</td>\n      <td>2020</td>\n      <td>4</td>\n      <td>17</td>\n      <td>12</td>\n      <td>35</td>\n      <td>52</td>\n    </tr>\n    <tr>\n      <th>...</th>\n      <td>...</td>\n      <td>...</td>\n      <td>...</td>\n      <td>...</td>\n      <td>...</td>\n      <td>...</td>\n      <td>...</td>\n      <td>...</td>\n    </tr>\n    <tr>\n      <th>1071</th>\n      <td>2020-05-21 18:45:20.441142</td>\n      <td>valentina</td>\n      <td>2020</td>\n      <td>5</td>\n      <td>21</td>\n      <td>18</td>\n      <td>45</td>\n      <td>20</td>\n    </tr>\n    <tr>\n      <th>1072</th>\n      <td>2020-05-21 23:03:06.457819</td>\n      <td>maxim</td>\n      <td>2020</td>\n      <td>5</td>\n      <td>21</td>\n      <td>23</td>\n      <td>3</td>\n      <td>6</td>\n    </tr>\n    <tr>\n      <th>1073</th>\n      <td>2020-05-21 23:23:49.995349</td>\n      <td>pavel</td>\n      <td>2020</td>\n      <td>5</td>\n      <td>21</td>\n      <td>23</td>\n      <td>23</td>\n      <td>49</td>\n    </tr>\n    <tr>\n      <th>1074</th>\n      <td>2020-05-21 23:49:22.386789</td>\n      <td>artem</td>\n      <td>2020</td>\n      <td>5</td>\n      <td>21</td>\n      <td>23</td>\n      <td>49</td>\n      <td>22</td>\n    </tr>\n    <tr>\n      <th>1075</th>\n      <td>2020-05-22 10:36:14.662600</td>\n      <td>artem</td>\n      <td>2020</td>\n      <td>5</td>\n      <td>22</td>\n      <td>10</td>\n      <td>36</td>\n      <td>14</td>\n    </tr>\n  </tbody>\n</table>\n<p>1076 rows × 8 columns</p>\n</div>"
     },
     "execution_count": 45,
     "metadata": {},
     "output_type": "execute_result"
    }
   ],
   "source": [
    "df['year'] = df['datetime'].dt.year\n",
    "df['month'] = df['datetime'].dt.month\n",
    "df['day'] = df['datetime'].dt.day\n",
    "df['hour'] = df['datetime'].dt.hour\n",
    "df['minute'] = df['datetime'].dt.minute\n",
    "df['second'] = df['datetime'].dt.second\n",
    "df.info()\n",
    "df"
   ],
   "metadata": {
    "collapsed": false,
    "pycharm": {
     "name": "#%%\n"
    }
   }
  },
  {
   "cell_type": "markdown",
   "source": [
    "## • create the new column daytime\n",
    "◦ you need to assign the particular time of day value if an hour is within a particular interval, for example, afternoon if the hour is larger than 11 and less or equal to 17\n",
    "◦ 0.00 – 03.59 night, 04.00 – 06.59 early morning, 07.00 – 10.59 morning, 11.00 – 16.59 afternoon, 17.00 – 19.59 early evening, 20.00 – 23.59 evening\n",
    "◦ use the method cut to solve this subtask"
   ],
   "metadata": {
    "collapsed": false,
    "pycharm": {
     "name": "#%% md\n"
    }
   },
   "outputs": []
  },
  {
   "cell_type": "code",
   "execution_count": 46,
   "outputs": [],
   "source": [
    "labels = [\"night\", \"early morning\", \"morning\", \"afternoon\", \"early evening\", \"evening\"]\n",
    "interval = [0, 3, 6, 10, 16, 19, 24]\n",
    "df['daytime'] = pd.cut(x=df['hour'], bins=interval, labels=labels, include_lowest=True)"
   ],
   "metadata": {
    "collapsed": false,
    "pycharm": {
     "name": "#%%\n"
    }
   }
  },
  {
   "cell_type": "markdown",
   "source": [
    "◦ assign the column user as the index"
   ],
   "metadata": {
    "collapsed": false,
    "pycharm": {
     "name": "#%% md\n"
    }
   }
  },
  {
   "cell_type": "code",
   "execution_count": 47,
   "outputs": [
    {
     "data": {
      "text/plain": "                            datetime  year  month  day  hour  minute  second  \\\nuser                                                                           \nartem     2020-04-17 12:01:08.463179  2020      4   17    12       1       8   \nartem     2020-04-17 12:01:23.743946  2020      4   17    12       1      23   \nartem     2020-04-17 12:27:30.646665  2020      4   17    12      27      30   \nartem     2020-04-17 12:35:44.884757  2020      4   17    12      35      44   \nartem     2020-04-17 12:35:52.735016  2020      4   17    12      35      52   \n...                              ...   ...    ...  ...   ...     ...     ...   \nvalentina 2020-05-21 18:45:20.441142  2020      5   21    18      45      20   \nmaxim     2020-05-21 23:03:06.457819  2020      5   21    23       3       6   \npavel     2020-05-21 23:23:49.995349  2020      5   21    23      23      49   \nartem     2020-05-21 23:49:22.386789  2020      5   21    23      49      22   \nartem     2020-05-22 10:36:14.662600  2020      5   22    10      36      14   \n\n                 daytime  \nuser                      \nartem          afternoon  \nartem          afternoon  \nartem          afternoon  \nartem          afternoon  \nartem          afternoon  \n...                  ...  \nvalentina  early evening  \nmaxim            evening  \npavel            evening  \nartem            evening  \nartem            morning  \n\n[1076 rows x 8 columns]",
      "text/html": "<div>\n<style scoped>\n    .dataframe tbody tr th:only-of-type {\n        vertical-align: middle;\n    }\n\n    .dataframe tbody tr th {\n        vertical-align: top;\n    }\n\n    .dataframe thead th {\n        text-align: right;\n    }\n</style>\n<table border=\"1\" class=\"dataframe\">\n  <thead>\n    <tr style=\"text-align: right;\">\n      <th></th>\n      <th>datetime</th>\n      <th>year</th>\n      <th>month</th>\n      <th>day</th>\n      <th>hour</th>\n      <th>minute</th>\n      <th>second</th>\n      <th>daytime</th>\n    </tr>\n    <tr>\n      <th>user</th>\n      <th></th>\n      <th></th>\n      <th></th>\n      <th></th>\n      <th></th>\n      <th></th>\n      <th></th>\n      <th></th>\n    </tr>\n  </thead>\n  <tbody>\n    <tr>\n      <th>artem</th>\n      <td>2020-04-17 12:01:08.463179</td>\n      <td>2020</td>\n      <td>4</td>\n      <td>17</td>\n      <td>12</td>\n      <td>1</td>\n      <td>8</td>\n      <td>afternoon</td>\n    </tr>\n    <tr>\n      <th>artem</th>\n      <td>2020-04-17 12:01:23.743946</td>\n      <td>2020</td>\n      <td>4</td>\n      <td>17</td>\n      <td>12</td>\n      <td>1</td>\n      <td>23</td>\n      <td>afternoon</td>\n    </tr>\n    <tr>\n      <th>artem</th>\n      <td>2020-04-17 12:27:30.646665</td>\n      <td>2020</td>\n      <td>4</td>\n      <td>17</td>\n      <td>12</td>\n      <td>27</td>\n      <td>30</td>\n      <td>afternoon</td>\n    </tr>\n    <tr>\n      <th>artem</th>\n      <td>2020-04-17 12:35:44.884757</td>\n      <td>2020</td>\n      <td>4</td>\n      <td>17</td>\n      <td>12</td>\n      <td>35</td>\n      <td>44</td>\n      <td>afternoon</td>\n    </tr>\n    <tr>\n      <th>artem</th>\n      <td>2020-04-17 12:35:52.735016</td>\n      <td>2020</td>\n      <td>4</td>\n      <td>17</td>\n      <td>12</td>\n      <td>35</td>\n      <td>52</td>\n      <td>afternoon</td>\n    </tr>\n    <tr>\n      <th>...</th>\n      <td>...</td>\n      <td>...</td>\n      <td>...</td>\n      <td>...</td>\n      <td>...</td>\n      <td>...</td>\n      <td>...</td>\n      <td>...</td>\n    </tr>\n    <tr>\n      <th>valentina</th>\n      <td>2020-05-21 18:45:20.441142</td>\n      <td>2020</td>\n      <td>5</td>\n      <td>21</td>\n      <td>18</td>\n      <td>45</td>\n      <td>20</td>\n      <td>early evening</td>\n    </tr>\n    <tr>\n      <th>maxim</th>\n      <td>2020-05-21 23:03:06.457819</td>\n      <td>2020</td>\n      <td>5</td>\n      <td>21</td>\n      <td>23</td>\n      <td>3</td>\n      <td>6</td>\n      <td>evening</td>\n    </tr>\n    <tr>\n      <th>pavel</th>\n      <td>2020-05-21 23:23:49.995349</td>\n      <td>2020</td>\n      <td>5</td>\n      <td>21</td>\n      <td>23</td>\n      <td>23</td>\n      <td>49</td>\n      <td>evening</td>\n    </tr>\n    <tr>\n      <th>artem</th>\n      <td>2020-05-21 23:49:22.386789</td>\n      <td>2020</td>\n      <td>5</td>\n      <td>21</td>\n      <td>23</td>\n      <td>49</td>\n      <td>22</td>\n      <td>evening</td>\n    </tr>\n    <tr>\n      <th>artem</th>\n      <td>2020-05-22 10:36:14.662600</td>\n      <td>2020</td>\n      <td>5</td>\n      <td>22</td>\n      <td>10</td>\n      <td>36</td>\n      <td>14</td>\n      <td>morning</td>\n    </tr>\n  </tbody>\n</table>\n<p>1076 rows × 8 columns</p>\n</div>"
     },
     "execution_count": 47,
     "metadata": {},
     "output_type": "execute_result"
    }
   ],
   "source": [
    "df.set_index('user', inplace=True)\n",
    "df"
   ],
   "metadata": {
    "collapsed": false,
    "pycharm": {
     "name": "#%%\n"
    }
   }
  },
  {
   "cell_type": "markdown",
   "source": [
    "## • calculate the number of elements in your dataframe"
   ],
   "metadata": {
    "collapsed": false,
    "pycharm": {
     "name": "#%% md\n"
    }
   },
   "outputs": []
  },
  {
   "cell_type": "markdown",
   "source": [
    "◦ use the method count()"
   ],
   "metadata": {
    "collapsed": false,
    "pycharm": {
     "name": "#%% md\n"
    }
   }
  },
  {
   "cell_type": "code",
   "execution_count": 48,
   "outputs": [
    {
     "name": "stdout",
     "output_type": "stream",
     "text": [
      "datetime    1076\n",
      "year        1076\n",
      "month       1076\n",
      "day         1076\n",
      "hour        1076\n",
      "minute      1076\n",
      "second      1076\n",
      "daytime     1076\n"
     ]
    }
   ],
   "source": [
    "print(df.count().to_string())"
   ],
   "metadata": {
    "collapsed": false,
    "pycharm": {
     "name": "#%%\n"
    }
   }
  },
  {
   "cell_type": "markdown",
   "source": [
    "◦ calculate the number of elements in each time of day category using the method value_counts()"
   ],
   "metadata": {
    "collapsed": false,
    "pycharm": {
     "name": "#%% md\n"
    }
   }
  },
  {
   "cell_type": "code",
   "execution_count": 49,
   "outputs": [
    {
     "name": "stdout",
     "output_type": "stream",
     "text": [
      "daytime\n",
      "evening          509\n",
      "afternoon        252\n",
      "early evening    145\n",
      "night            129\n",
      "morning           36\n",
      "early morning      5\n"
     ]
    }
   ],
   "source": [
    "print(df.value_counts('daytime').to_string())"
   ],
   "metadata": {
    "collapsed": false,
    "pycharm": {
     "name": "#%%\n"
    }
   }
  },
  {
   "cell_type": "markdown",
   "source": [
    "## • sort values in your dataframe by hour, minute, and second in ascending order (simultaneously and not one by one)"
   ],
   "metadata": {
    "collapsed": false,
    "pycharm": {
     "name": "#%% md\n"
    }
   }
  },
  {
   "cell_type": "code",
   "execution_count": 50,
   "outputs": [
    {
     "data": {
      "text/plain": "                            datetime  year  month  day  hour  minute  second  \\\nuser                                                                           \nvalentina 2020-05-15 00:00:13.222265  2020      5   15     0       0      13   \nvalentina 2020-05-15 00:01:05.153738  2020      5   15     0       1       5   \npavel     2020-05-12 00:01:27.764025  2020      5   12     0       1      27   \npavel     2020-05-12 00:01:38.444917  2020      5   12     0       1      38   \npavel     2020-05-12 00:01:55.395042  2020      5   12     0       1      55   \n...                              ...   ...    ...  ...   ...     ...     ...   \nartem     2020-05-21 23:49:22.386789  2020      5   21    23      49      22   \nanatoliy  2020-05-09 23:53:55.599821  2020      5    9    23      53      55   \npavel     2020-05-09 23:54:54.260791  2020      5    9    23      54      54   \nvalentina 2020-05-14 23:58:56.754866  2020      5   14    23      58      56   \nalexander 2020-05-14 23:59:38.758438  2020      5   14    23      59      38   \n\n           daytime  \nuser                \nvalentina    night  \nvalentina    night  \npavel        night  \npavel        night  \npavel        night  \n...            ...  \nartem      evening  \nanatoliy   evening  \npavel      evening  \nvalentina  evening  \nalexander  evening  \n\n[1076 rows x 8 columns]",
      "text/html": "<div>\n<style scoped>\n    .dataframe tbody tr th:only-of-type {\n        vertical-align: middle;\n    }\n\n    .dataframe tbody tr th {\n        vertical-align: top;\n    }\n\n    .dataframe thead th {\n        text-align: right;\n    }\n</style>\n<table border=\"1\" class=\"dataframe\">\n  <thead>\n    <tr style=\"text-align: right;\">\n      <th></th>\n      <th>datetime</th>\n      <th>year</th>\n      <th>month</th>\n      <th>day</th>\n      <th>hour</th>\n      <th>minute</th>\n      <th>second</th>\n      <th>daytime</th>\n    </tr>\n    <tr>\n      <th>user</th>\n      <th></th>\n      <th></th>\n      <th></th>\n      <th></th>\n      <th></th>\n      <th></th>\n      <th></th>\n      <th></th>\n    </tr>\n  </thead>\n  <tbody>\n    <tr>\n      <th>valentina</th>\n      <td>2020-05-15 00:00:13.222265</td>\n      <td>2020</td>\n      <td>5</td>\n      <td>15</td>\n      <td>0</td>\n      <td>0</td>\n      <td>13</td>\n      <td>night</td>\n    </tr>\n    <tr>\n      <th>valentina</th>\n      <td>2020-05-15 00:01:05.153738</td>\n      <td>2020</td>\n      <td>5</td>\n      <td>15</td>\n      <td>0</td>\n      <td>1</td>\n      <td>5</td>\n      <td>night</td>\n    </tr>\n    <tr>\n      <th>pavel</th>\n      <td>2020-05-12 00:01:27.764025</td>\n      <td>2020</td>\n      <td>5</td>\n      <td>12</td>\n      <td>0</td>\n      <td>1</td>\n      <td>27</td>\n      <td>night</td>\n    </tr>\n    <tr>\n      <th>pavel</th>\n      <td>2020-05-12 00:01:38.444917</td>\n      <td>2020</td>\n      <td>5</td>\n      <td>12</td>\n      <td>0</td>\n      <td>1</td>\n      <td>38</td>\n      <td>night</td>\n    </tr>\n    <tr>\n      <th>pavel</th>\n      <td>2020-05-12 00:01:55.395042</td>\n      <td>2020</td>\n      <td>5</td>\n      <td>12</td>\n      <td>0</td>\n      <td>1</td>\n      <td>55</td>\n      <td>night</td>\n    </tr>\n    <tr>\n      <th>...</th>\n      <td>...</td>\n      <td>...</td>\n      <td>...</td>\n      <td>...</td>\n      <td>...</td>\n      <td>...</td>\n      <td>...</td>\n      <td>...</td>\n    </tr>\n    <tr>\n      <th>artem</th>\n      <td>2020-05-21 23:49:22.386789</td>\n      <td>2020</td>\n      <td>5</td>\n      <td>21</td>\n      <td>23</td>\n      <td>49</td>\n      <td>22</td>\n      <td>evening</td>\n    </tr>\n    <tr>\n      <th>anatoliy</th>\n      <td>2020-05-09 23:53:55.599821</td>\n      <td>2020</td>\n      <td>5</td>\n      <td>9</td>\n      <td>23</td>\n      <td>53</td>\n      <td>55</td>\n      <td>evening</td>\n    </tr>\n    <tr>\n      <th>pavel</th>\n      <td>2020-05-09 23:54:54.260791</td>\n      <td>2020</td>\n      <td>5</td>\n      <td>9</td>\n      <td>23</td>\n      <td>54</td>\n      <td>54</td>\n      <td>evening</td>\n    </tr>\n    <tr>\n      <th>valentina</th>\n      <td>2020-05-14 23:58:56.754866</td>\n      <td>2020</td>\n      <td>5</td>\n      <td>14</td>\n      <td>23</td>\n      <td>58</td>\n      <td>56</td>\n      <td>evening</td>\n    </tr>\n    <tr>\n      <th>alexander</th>\n      <td>2020-05-14 23:59:38.758438</td>\n      <td>2020</td>\n      <td>5</td>\n      <td>14</td>\n      <td>23</td>\n      <td>59</td>\n      <td>38</td>\n      <td>evening</td>\n    </tr>\n  </tbody>\n</table>\n<p>1076 rows × 8 columns</p>\n</div>"
     },
     "execution_count": 50,
     "metadata": {},
     "output_type": "execute_result"
    }
   ],
   "source": [
    "df.sort_values(['hour', 'minute', 'second'], inplace=True, ascending= [True, True, True])\n",
    "df"
   ],
   "metadata": {
    "collapsed": false,
    "pycharm": {
     "name": "#%%\n"
    }
   }
  },
  {
   "cell_type": "markdown",
   "source": [
    "## • calculate the minimum and maximum for the hours and the mode for the daytime categories"
   ],
   "metadata": {
    "collapsed": false,
    "pycharm": {
     "name": "#%% md\n"
    }
   },
   "outputs": []
  },
  {
   "cell_type": "markdown",
   "source": [
    "◦ calculate the maximum of hour for the rows where the time of day is night"
   ],
   "metadata": {
    "collapsed": false,
    "pycharm": {
     "name": "#%% md\n"
    }
   },
   "outputs": []
  },
  {
   "cell_type": "code",
   "execution_count": 51,
   "outputs": [
    {
     "name": "stdout",
     "output_type": "stream",
     "text": [
      "Max of hour at night: 3\n"
     ]
    }
   ],
   "source": [
    "max_night = df[lambda x: x['daytime'] == 'night']['hour'].max()\n",
    "print('Max of hour at night:', max_night)"
   ],
   "metadata": {
    "collapsed": false,
    "pycharm": {
     "name": "#%%\n"
    }
   }
  },
  {
   "cell_type": "markdown",
   "source": [
    "◦ calculate the minimum of hour for the rows where the time of day is morning"
   ],
   "metadata": {
    "collapsed": false,
    "pycharm": {
     "name": "#%% md\n"
    }
   },
   "outputs": []
  },
  {
   "cell_type": "code",
   "execution_count": 52,
   "outputs": [
    {
     "name": "stdout",
     "output_type": "stream",
     "text": [
      "Min of hour at morning: 8\n"
     ]
    }
   ],
   "source": [
    "min_morning = df[lambda x: x['daytime'] == 'morning']['hour'].min()\n",
    "print('Min of hour at morning:', min_morning)"
   ],
   "metadata": {
    "collapsed": false,
    "pycharm": {
     "name": "#%%\n"
    }
   }
  },
  {
   "cell_type": "markdown",
   "source": [
    "◦ In addition to this, find out who visited the page at those hours (make oneexample from that)"
   ],
   "metadata": {
    "collapsed": false,
    "pycharm": {
     "name": "#%% md\n"
    }
   },
   "outputs": []
  },
  {
   "cell_type": "code",
   "execution_count": 53,
   "outputs": [
    {
     "name": "stdout",
     "output_type": "stream",
     "text": [
      "At 8 and 3 hours page visited: \n",
      "['konstantin' 'alexander']\n"
     ]
    }
   ],
   "source": [
    "print('At', min_morning, 'and', max_night, 'hours page visited: ')\n",
    "print(df[lambda x: (x['hour'] == max_night) | (x['hour'] == min_morning)].index.unique().values)\n"
   ],
   "metadata": {
    "collapsed": false,
    "pycharm": {
     "name": "#%%\n"
    }
   }
  },
  {
   "cell_type": "markdown",
   "source": [
    "◦ calculate the mode for the hour and daytime"
   ],
   "metadata": {
    "collapsed": false,
    "pycharm": {
     "name": "#%% md\n"
    }
   }
  },
  {
   "cell_type": "code",
   "execution_count": 54,
   "outputs": [
    {
     "name": "stdout",
     "output_type": "stream",
     "text": [
      "Mode for daytime: evening\n",
      "\n",
      "Mode for hour: 22\n"
     ]
    }
   ],
   "source": [
    "print('Mode for daytime:', df['daytime'].mode()[0])\n",
    "print('\\nMode for hour:', df['hour'].mode()[0])"
   ],
   "metadata": {
    "collapsed": false,
    "pycharm": {
     "name": "#%%\n"
    }
   }
  },
  {
   "cell_type": "markdown",
   "source": [],
   "metadata": {
    "collapsed": false,
    "pycharm": {
     "name": "#%% md\n"
    }
   }
  },
  {
   "cell_type": "markdown",
   "source": [
    "## • show the 3 earliest hours in the morning and the corresponding usernames and the 3 latest hours and the usernames using nsmallest() and nlargest()"
   ],
   "metadata": {
    "collapsed": false,
    "pycharm": {
     "name": "#%% md\n"
    }
   }
  },
  {
   "cell_type": "code",
   "execution_count": 55,
   "outputs": [
    {
     "name": "stdout",
     "output_type": "stream",
     "text": [
      "Earliest\n",
      "-----------------------------------------\n",
      "            hour  minute  second  daytime\n",
      "user                                    \n",
      "alexander     8      16       3  morning\n",
      "alexander     8      35       1  morning\n",
      "alexander     9       2      24  morning\n",
      "\n",
      "\n",
      "Latest\n",
      "------------------------------------------\n",
      "             hour  minute  second  daytime\n",
      "user                                     \n",
      "konstantin    10      57      37  morning\n",
      "konstantin    10      56      59  morning\n",
      "maxim         10      56      55  morning\n"
     ]
    }
   ],
   "source": [
    "earliest = df[lambda x: (x['daytime'] == 'morning')].nsmallest(3, ['hour', 'minute', 'second'])\n",
    "print('Earliest\\n-----------------------------------------\\n',earliest[['hour', 'minute', 'second', 'daytime']])\n",
    "latest = df[lambda x: (x['daytime'] == 'morning')].nlargest(3, ['hour', 'minute', 'second'])\n",
    "print('\\n\\nLatest\\n------------------------------------------\\n',latest[['hour', 'minute', 'second', 'daytime']])\n",
    "\n"
   ],
   "metadata": {
    "collapsed": false,
    "pycharm": {
     "name": "#%%\n"
    }
   }
  },
  {
   "cell_type": "markdown",
   "source": [
    "## • use the method describe() to get the basic statistics for the columns\n",
    "◦ to find out what the most popular interval for visiting the page is, calculate the interquartile range for the hour by extracting values from the result of the describe() method and store it in the variable iqr"
   ],
   "metadata": {
    "collapsed": false,
    "pycharm": {
     "name": "#%% md\n"
    }
   }
  },
  {
   "cell_type": "code",
   "execution_count": 56,
   "outputs": [
    {
     "name": "stdout",
     "output_type": "stream",
     "text": [
      "9.0\n"
     ]
    }
   ],
   "source": [
    "iqr = df.describe()['hour']['75%'] - df.describe()['hour']['25%']\n",
    "print(iqr)"
   ],
   "metadata": {
    "collapsed": false,
    "pycharm": {
     "name": "#%%\n"
    }
   }
  }
 ],
 "metadata": {
  "kernelspec": {
   "display_name": "Python 3",
   "language": "python",
   "name": "python3"
  },
  "language_info": {
   "codemirror_mode": {
    "name": "ipython",
    "version": 2
   },
   "file_extension": ".py",
   "mimetype": "text/x-python",
   "name": "python",
   "nbconvert_exporter": "python",
   "pygments_lexer": "ipython2",
   "version": "2.7.6"
  }
 },
 "nbformat": 4,
 "nbformat_minor": 0
}