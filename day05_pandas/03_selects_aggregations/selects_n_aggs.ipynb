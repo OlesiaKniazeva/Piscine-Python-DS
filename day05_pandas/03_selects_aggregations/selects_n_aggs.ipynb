{
 "cells": [
  {
   "cell_type": "code",
   "execution_count": 33,
   "metadata": {
    "collapsed": true
   },
   "outputs": [],
   "source": [
    "import pandas as pd"
   ]
  },
  {
   "cell_type": "markdown",
   "source": [
    "## • load the JSON file that you created in the previous exercise into a dataframe"
   ],
   "metadata": {
    "collapsed": false
   },
   "outputs": []
  },
  {
   "cell_type": "code",
   "execution_count": 34,
   "outputs": [],
   "source": [
    "df = pd.read_json('../data/auto.json')"
   ],
   "metadata": {
    "collapsed": false
   }
  },
  {
   "cell_type": "markdown",
   "source": [
    "◦ set CarNumber as the index column"
   ],
   "metadata": {
    "collapsed": false
   }
  },
  {
   "cell_type": "code",
   "execution_count": 35,
   "outputs": [
    {
     "data": {
      "text/plain": "              Refund         Fines    Make    Model\nCarNumber                                          \nY163O8161RUS       2   3200.000000    Ford    Focus\nE432XX77RUS        1   6500.000000  Toyota    Camry\n7184TT36RUS        1   2100.000000    Ford    Focus\nX582HE161RUS       2   2000.000000    Ford    Focus\n92918M178RUS       1   5700.000000    Ford    Focus\n...              ...           ...     ...      ...\nY163O8161RUS       2   1600.000000    Ford    Focus\nM0309X197RUS       1  22300.000000    Ford    Focus\nO673E8197RUS       2    600.000000    Ford    Focus\n8610T8154RUS       1   2000.000000    Ford    Focus\nH419XE197RUS       2   8594.586466  Toyota  Corolla\n\n[725 rows x 4 columns]",
      "text/html": "<div>\n<style scoped>\n    .dataframe tbody tr th:only-of-type {\n        vertical-align: middle;\n    }\n\n    .dataframe tbody tr th {\n        vertical-align: top;\n    }\n\n    .dataframe thead th {\n        text-align: right;\n    }\n</style>\n<table border=\"1\" class=\"dataframe\">\n  <thead>\n    <tr style=\"text-align: right;\">\n      <th></th>\n      <th>Refund</th>\n      <th>Fines</th>\n      <th>Make</th>\n      <th>Model</th>\n    </tr>\n    <tr>\n      <th>CarNumber</th>\n      <th></th>\n      <th></th>\n      <th></th>\n      <th></th>\n    </tr>\n  </thead>\n  <tbody>\n    <tr>\n      <th>Y163O8161RUS</th>\n      <td>2</td>\n      <td>3200.000000</td>\n      <td>Ford</td>\n      <td>Focus</td>\n    </tr>\n    <tr>\n      <th>E432XX77RUS</th>\n      <td>1</td>\n      <td>6500.000000</td>\n      <td>Toyota</td>\n      <td>Camry</td>\n    </tr>\n    <tr>\n      <th>7184TT36RUS</th>\n      <td>1</td>\n      <td>2100.000000</td>\n      <td>Ford</td>\n      <td>Focus</td>\n    </tr>\n    <tr>\n      <th>X582HE161RUS</th>\n      <td>2</td>\n      <td>2000.000000</td>\n      <td>Ford</td>\n      <td>Focus</td>\n    </tr>\n    <tr>\n      <th>92918M178RUS</th>\n      <td>1</td>\n      <td>5700.000000</td>\n      <td>Ford</td>\n      <td>Focus</td>\n    </tr>\n    <tr>\n      <th>...</th>\n      <td>...</td>\n      <td>...</td>\n      <td>...</td>\n      <td>...</td>\n    </tr>\n    <tr>\n      <th>Y163O8161RUS</th>\n      <td>2</td>\n      <td>1600.000000</td>\n      <td>Ford</td>\n      <td>Focus</td>\n    </tr>\n    <tr>\n      <th>M0309X197RUS</th>\n      <td>1</td>\n      <td>22300.000000</td>\n      <td>Ford</td>\n      <td>Focus</td>\n    </tr>\n    <tr>\n      <th>O673E8197RUS</th>\n      <td>2</td>\n      <td>600.000000</td>\n      <td>Ford</td>\n      <td>Focus</td>\n    </tr>\n    <tr>\n      <th>8610T8154RUS</th>\n      <td>1</td>\n      <td>2000.000000</td>\n      <td>Ford</td>\n      <td>Focus</td>\n    </tr>\n    <tr>\n      <th>H419XE197RUS</th>\n      <td>2</td>\n      <td>8594.586466</td>\n      <td>Toyota</td>\n      <td>Corolla</td>\n    </tr>\n  </tbody>\n</table>\n<p>725 rows × 4 columns</p>\n</div>"
     },
     "execution_count": 35,
     "metadata": {},
     "output_type": "execute_result"
    }
   ],
   "source": [
    "df.set_index('CarNumber', inplace=True)\n",
    "df"
   ],
   "metadata": {
    "collapsed": false
   }
  },
  {
   "cell_type": "markdown",
   "source": [
    "## • make the following selects"
   ],
   "metadata": {
    "collapsed": false
   },
   "outputs": []
  },
  {
   "cell_type": "markdown",
   "source": [
    "◦ display the rows only where the fines are more than 2,100"
   ],
   "metadata": {
    "collapsed": false
   },
   "outputs": []
  },
  {
   "cell_type": "code",
   "execution_count": 36,
   "outputs": [
    {
     "data": {
      "text/plain": "              Refund         Fines        Make    Model\nCarNumber                                              \nY163O8161RUS       2   3200.000000        Ford    Focus\nE432XX77RUS        1   6500.000000      Toyota    Camry\n92918M178RUS       1   5700.000000        Ford    Focus\nH234YH197RUS       2   6000.000000        Ford    Focus\nE40577152RUS       1   8594.586466        Ford    Focus\n...              ...           ...         ...      ...\nO718MM163RUS       2   8594.586466        Ford    Focus\n7065C8197RUS       2  11400.000000  Volkswagen   Passat\nO22097197RUS       1  24300.000000        Ford    Focus\nM0309X197RUS       1  22300.000000        Ford    Focus\nH419XE197RUS       2   8594.586466      Toyota  Corolla\n\n[455 rows x 4 columns]",
      "text/html": "<div>\n<style scoped>\n    .dataframe tbody tr th:only-of-type {\n        vertical-align: middle;\n    }\n\n    .dataframe tbody tr th {\n        vertical-align: top;\n    }\n\n    .dataframe thead th {\n        text-align: right;\n    }\n</style>\n<table border=\"1\" class=\"dataframe\">\n  <thead>\n    <tr style=\"text-align: right;\">\n      <th></th>\n      <th>Refund</th>\n      <th>Fines</th>\n      <th>Make</th>\n      <th>Model</th>\n    </tr>\n    <tr>\n      <th>CarNumber</th>\n      <th></th>\n      <th></th>\n      <th></th>\n      <th></th>\n    </tr>\n  </thead>\n  <tbody>\n    <tr>\n      <th>Y163O8161RUS</th>\n      <td>2</td>\n      <td>3200.000000</td>\n      <td>Ford</td>\n      <td>Focus</td>\n    </tr>\n    <tr>\n      <th>E432XX77RUS</th>\n      <td>1</td>\n      <td>6500.000000</td>\n      <td>Toyota</td>\n      <td>Camry</td>\n    </tr>\n    <tr>\n      <th>92918M178RUS</th>\n      <td>1</td>\n      <td>5700.000000</td>\n      <td>Ford</td>\n      <td>Focus</td>\n    </tr>\n    <tr>\n      <th>H234YH197RUS</th>\n      <td>2</td>\n      <td>6000.000000</td>\n      <td>Ford</td>\n      <td>Focus</td>\n    </tr>\n    <tr>\n      <th>E40577152RUS</th>\n      <td>1</td>\n      <td>8594.586466</td>\n      <td>Ford</td>\n      <td>Focus</td>\n    </tr>\n    <tr>\n      <th>...</th>\n      <td>...</td>\n      <td>...</td>\n      <td>...</td>\n      <td>...</td>\n    </tr>\n    <tr>\n      <th>O718MM163RUS</th>\n      <td>2</td>\n      <td>8594.586466</td>\n      <td>Ford</td>\n      <td>Focus</td>\n    </tr>\n    <tr>\n      <th>7065C8197RUS</th>\n      <td>2</td>\n      <td>11400.000000</td>\n      <td>Volkswagen</td>\n      <td>Passat</td>\n    </tr>\n    <tr>\n      <th>O22097197RUS</th>\n      <td>1</td>\n      <td>24300.000000</td>\n      <td>Ford</td>\n      <td>Focus</td>\n    </tr>\n    <tr>\n      <th>M0309X197RUS</th>\n      <td>1</td>\n      <td>22300.000000</td>\n      <td>Ford</td>\n      <td>Focus</td>\n    </tr>\n    <tr>\n      <th>H419XE197RUS</th>\n      <td>2</td>\n      <td>8594.586466</td>\n      <td>Toyota</td>\n      <td>Corolla</td>\n    </tr>\n  </tbody>\n</table>\n<p>455 rows × 4 columns</p>\n</div>"
     },
     "execution_count": 36,
     "metadata": {},
     "output_type": "execute_result"
    }
   ],
   "source": [
    "df.loc[df['Fines'] > 2100]"
   ],
   "metadata": {
    "collapsed": false
   }
  },
  {
   "cell_type": "markdown",
   "source": [
    "◦ display the rows only where the fines are more than 2,100 and the refund\n",
    "equals 2"
   ],
   "metadata": {
    "collapsed": false
   },
   "outputs": []
  },
  {
   "cell_type": "code",
   "execution_count": 37,
   "outputs": [
    {
     "data": {
      "text/plain": "              Refund         Fines        Make    Model\nCarNumber                                              \nY163O8161RUS       2   3200.000000        Ford    Focus\nH234YH197RUS       2   6000.000000        Ford    Focus\n707987163RUS       2   2200.000000        Ford    Focus\nK330T8197RUS       2   8200.000000       Skoda  Octavia\nM592CH197RUS       2   8594.586466       Skoda  Octavia\n...              ...           ...         ...      ...\nO136HO197RUS       2   7800.000000      Toyota  Corolla\nO68897197RUS       2  12300.000000        Ford    Focus\nO718MM163RUS       2   8594.586466        Ford    Focus\n7065C8197RUS       2  11400.000000  Volkswagen   Passat\nH419XE197RUS       2   8594.586466      Toyota  Corolla\n\n[309 rows x 4 columns]",
      "text/html": "<div>\n<style scoped>\n    .dataframe tbody tr th:only-of-type {\n        vertical-align: middle;\n    }\n\n    .dataframe tbody tr th {\n        vertical-align: top;\n    }\n\n    .dataframe thead th {\n        text-align: right;\n    }\n</style>\n<table border=\"1\" class=\"dataframe\">\n  <thead>\n    <tr style=\"text-align: right;\">\n      <th></th>\n      <th>Refund</th>\n      <th>Fines</th>\n      <th>Make</th>\n      <th>Model</th>\n    </tr>\n    <tr>\n      <th>CarNumber</th>\n      <th></th>\n      <th></th>\n      <th></th>\n      <th></th>\n    </tr>\n  </thead>\n  <tbody>\n    <tr>\n      <th>Y163O8161RUS</th>\n      <td>2</td>\n      <td>3200.000000</td>\n      <td>Ford</td>\n      <td>Focus</td>\n    </tr>\n    <tr>\n      <th>H234YH197RUS</th>\n      <td>2</td>\n      <td>6000.000000</td>\n      <td>Ford</td>\n      <td>Focus</td>\n    </tr>\n    <tr>\n      <th>707987163RUS</th>\n      <td>2</td>\n      <td>2200.000000</td>\n      <td>Ford</td>\n      <td>Focus</td>\n    </tr>\n    <tr>\n      <th>K330T8197RUS</th>\n      <td>2</td>\n      <td>8200.000000</td>\n      <td>Skoda</td>\n      <td>Octavia</td>\n    </tr>\n    <tr>\n      <th>M592CH197RUS</th>\n      <td>2</td>\n      <td>8594.586466</td>\n      <td>Skoda</td>\n      <td>Octavia</td>\n    </tr>\n    <tr>\n      <th>...</th>\n      <td>...</td>\n      <td>...</td>\n      <td>...</td>\n      <td>...</td>\n    </tr>\n    <tr>\n      <th>O136HO197RUS</th>\n      <td>2</td>\n      <td>7800.000000</td>\n      <td>Toyota</td>\n      <td>Corolla</td>\n    </tr>\n    <tr>\n      <th>O68897197RUS</th>\n      <td>2</td>\n      <td>12300.000000</td>\n      <td>Ford</td>\n      <td>Focus</td>\n    </tr>\n    <tr>\n      <th>O718MM163RUS</th>\n      <td>2</td>\n      <td>8594.586466</td>\n      <td>Ford</td>\n      <td>Focus</td>\n    </tr>\n    <tr>\n      <th>7065C8197RUS</th>\n      <td>2</td>\n      <td>11400.000000</td>\n      <td>Volkswagen</td>\n      <td>Passat</td>\n    </tr>\n    <tr>\n      <th>H419XE197RUS</th>\n      <td>2</td>\n      <td>8594.586466</td>\n      <td>Toyota</td>\n      <td>Corolla</td>\n    </tr>\n  </tbody>\n</table>\n<p>309 rows × 4 columns</p>\n</div>"
     },
     "execution_count": 37,
     "metadata": {},
     "output_type": "execute_result"
    }
   ],
   "source": [
    "df.loc[(df['Fines'] > 2100) & (df['Refund'] == 2)]"
   ],
   "metadata": {
    "collapsed": false
   }
  },
  {
   "cell_type": "markdown",
   "source": [
    "◦ display the rows only where the models are from the list: [’Focus’, ’Corolla’]"
   ],
   "metadata": {
    "collapsed": false
   },
   "outputs": []
  },
  {
   "cell_type": "code",
   "execution_count": 38,
   "outputs": [
    {
     "data": {
      "text/plain": "              Refund         Fines    Make    Model\nCarNumber                                          \nY163O8161RUS       2   3200.000000    Ford    Focus\n7184TT36RUS        1   2100.000000    Ford    Focus\nX582HE161RUS       2   2000.000000    Ford    Focus\n92918M178RUS       1   5700.000000    Ford    Focus\nH234YH197RUS       2   6000.000000    Ford    Focus\n...              ...           ...     ...      ...\nY163O8161RUS       2   1600.000000    Ford    Focus\nM0309X197RUS       1  22300.000000    Ford    Focus\nO673E8197RUS       2    600.000000    Ford    Focus\n8610T8154RUS       1   2000.000000    Ford    Focus\nH419XE197RUS       2   8594.586466  Toyota  Corolla\n\n[593 rows x 4 columns]",
      "text/html": "<div>\n<style scoped>\n    .dataframe tbody tr th:only-of-type {\n        vertical-align: middle;\n    }\n\n    .dataframe tbody tr th {\n        vertical-align: top;\n    }\n\n    .dataframe thead th {\n        text-align: right;\n    }\n</style>\n<table border=\"1\" class=\"dataframe\">\n  <thead>\n    <tr style=\"text-align: right;\">\n      <th></th>\n      <th>Refund</th>\n      <th>Fines</th>\n      <th>Make</th>\n      <th>Model</th>\n    </tr>\n    <tr>\n      <th>CarNumber</th>\n      <th></th>\n      <th></th>\n      <th></th>\n      <th></th>\n    </tr>\n  </thead>\n  <tbody>\n    <tr>\n      <th>Y163O8161RUS</th>\n      <td>2</td>\n      <td>3200.000000</td>\n      <td>Ford</td>\n      <td>Focus</td>\n    </tr>\n    <tr>\n      <th>7184TT36RUS</th>\n      <td>1</td>\n      <td>2100.000000</td>\n      <td>Ford</td>\n      <td>Focus</td>\n    </tr>\n    <tr>\n      <th>X582HE161RUS</th>\n      <td>2</td>\n      <td>2000.000000</td>\n      <td>Ford</td>\n      <td>Focus</td>\n    </tr>\n    <tr>\n      <th>92918M178RUS</th>\n      <td>1</td>\n      <td>5700.000000</td>\n      <td>Ford</td>\n      <td>Focus</td>\n    </tr>\n    <tr>\n      <th>H234YH197RUS</th>\n      <td>2</td>\n      <td>6000.000000</td>\n      <td>Ford</td>\n      <td>Focus</td>\n    </tr>\n    <tr>\n      <th>...</th>\n      <td>...</td>\n      <td>...</td>\n      <td>...</td>\n      <td>...</td>\n    </tr>\n    <tr>\n      <th>Y163O8161RUS</th>\n      <td>2</td>\n      <td>1600.000000</td>\n      <td>Ford</td>\n      <td>Focus</td>\n    </tr>\n    <tr>\n      <th>M0309X197RUS</th>\n      <td>1</td>\n      <td>22300.000000</td>\n      <td>Ford</td>\n      <td>Focus</td>\n    </tr>\n    <tr>\n      <th>O673E8197RUS</th>\n      <td>2</td>\n      <td>600.000000</td>\n      <td>Ford</td>\n      <td>Focus</td>\n    </tr>\n    <tr>\n      <th>8610T8154RUS</th>\n      <td>1</td>\n      <td>2000.000000</td>\n      <td>Ford</td>\n      <td>Focus</td>\n    </tr>\n    <tr>\n      <th>H419XE197RUS</th>\n      <td>2</td>\n      <td>8594.586466</td>\n      <td>Toyota</td>\n      <td>Corolla</td>\n    </tr>\n  </tbody>\n</table>\n<p>593 rows × 4 columns</p>\n</div>"
     },
     "execution_count": 38,
     "metadata": {},
     "output_type": "execute_result"
    }
   ],
   "source": [
    "df.loc[df['Model'].isin(['Focus','Corolla'])]"
   ],
   "metadata": {
    "collapsed": false
   }
  },
  {
   "cell_type": "markdown",
   "source": [
    "◦ display the rows only where the car number is from the list: [’Y7689C197RUS’,\n",
    "’92928M178RUS’, ’7788KT197RUS’, ’H115YO163RUS’, ’X758HY197RUS’]"
   ],
   "metadata": {
    "collapsed": false
   }
  },
  {
   "cell_type": "code",
   "execution_count": 39,
   "outputs": [
    {
     "data": {
      "text/plain": "              Refund          Fines  Make  Model\nCarNumber                                       \n92928M178RUS       1    8594.586466  Ford  Focus\nH115YO163RUS       1    2200.000000  Ford  Focus\n7788KT197RUS       2   12000.000000  Ford  Focus\nX758HY197RUS       2   24200.000000  Ford  Focus\nX758HY197RUS       2   72600.000000  Ford  Focus\nY7689C197RUS       1   27000.000000  Ford  Focus\n92928M178RUS       1     600.000000  Ford  Focus\nH115YO163RUS       1    8594.586466  Ford  Focus\nH115YO163RUS       2    1100.000000  Ford  Focus\n7788KT197RUS       2    8594.586466  Ford  Focus\n7788KT197RUS       1   20000.000000  Ford  Focus\nX758HY197RUS       2  145200.000000  Ford  Focus\n92928M178RUS       1    1200.000000  Ford  Focus\nY7689C197RUS       2    9000.000000  Ford  Focus\nY7689C197RUS       2   45000.000000  Ford  Focus\n7788KT197RUS       2    4000.000000  Ford  Focus\nY7689C197RUS       1   36000.000000  Ford  Focus\n92928M178RUS       2    3000.000000  Ford  Focus",
      "text/html": "<div>\n<style scoped>\n    .dataframe tbody tr th:only-of-type {\n        vertical-align: middle;\n    }\n\n    .dataframe tbody tr th {\n        vertical-align: top;\n    }\n\n    .dataframe thead th {\n        text-align: right;\n    }\n</style>\n<table border=\"1\" class=\"dataframe\">\n  <thead>\n    <tr style=\"text-align: right;\">\n      <th></th>\n      <th>Refund</th>\n      <th>Fines</th>\n      <th>Make</th>\n      <th>Model</th>\n    </tr>\n    <tr>\n      <th>CarNumber</th>\n      <th></th>\n      <th></th>\n      <th></th>\n      <th></th>\n    </tr>\n  </thead>\n  <tbody>\n    <tr>\n      <th>92928M178RUS</th>\n      <td>1</td>\n      <td>8594.586466</td>\n      <td>Ford</td>\n      <td>Focus</td>\n    </tr>\n    <tr>\n      <th>H115YO163RUS</th>\n      <td>1</td>\n      <td>2200.000000</td>\n      <td>Ford</td>\n      <td>Focus</td>\n    </tr>\n    <tr>\n      <th>7788KT197RUS</th>\n      <td>2</td>\n      <td>12000.000000</td>\n      <td>Ford</td>\n      <td>Focus</td>\n    </tr>\n    <tr>\n      <th>X758HY197RUS</th>\n      <td>2</td>\n      <td>24200.000000</td>\n      <td>Ford</td>\n      <td>Focus</td>\n    </tr>\n    <tr>\n      <th>X758HY197RUS</th>\n      <td>2</td>\n      <td>72600.000000</td>\n      <td>Ford</td>\n      <td>Focus</td>\n    </tr>\n    <tr>\n      <th>Y7689C197RUS</th>\n      <td>1</td>\n      <td>27000.000000</td>\n      <td>Ford</td>\n      <td>Focus</td>\n    </tr>\n    <tr>\n      <th>92928M178RUS</th>\n      <td>1</td>\n      <td>600.000000</td>\n      <td>Ford</td>\n      <td>Focus</td>\n    </tr>\n    <tr>\n      <th>H115YO163RUS</th>\n      <td>1</td>\n      <td>8594.586466</td>\n      <td>Ford</td>\n      <td>Focus</td>\n    </tr>\n    <tr>\n      <th>H115YO163RUS</th>\n      <td>2</td>\n      <td>1100.000000</td>\n      <td>Ford</td>\n      <td>Focus</td>\n    </tr>\n    <tr>\n      <th>7788KT197RUS</th>\n      <td>2</td>\n      <td>8594.586466</td>\n      <td>Ford</td>\n      <td>Focus</td>\n    </tr>\n    <tr>\n      <th>7788KT197RUS</th>\n      <td>1</td>\n      <td>20000.000000</td>\n      <td>Ford</td>\n      <td>Focus</td>\n    </tr>\n    <tr>\n      <th>X758HY197RUS</th>\n      <td>2</td>\n      <td>145200.000000</td>\n      <td>Ford</td>\n      <td>Focus</td>\n    </tr>\n    <tr>\n      <th>92928M178RUS</th>\n      <td>1</td>\n      <td>1200.000000</td>\n      <td>Ford</td>\n      <td>Focus</td>\n    </tr>\n    <tr>\n      <th>Y7689C197RUS</th>\n      <td>2</td>\n      <td>9000.000000</td>\n      <td>Ford</td>\n      <td>Focus</td>\n    </tr>\n    <tr>\n      <th>Y7689C197RUS</th>\n      <td>2</td>\n      <td>45000.000000</td>\n      <td>Ford</td>\n      <td>Focus</td>\n    </tr>\n    <tr>\n      <th>7788KT197RUS</th>\n      <td>2</td>\n      <td>4000.000000</td>\n      <td>Ford</td>\n      <td>Focus</td>\n    </tr>\n    <tr>\n      <th>Y7689C197RUS</th>\n      <td>1</td>\n      <td>36000.000000</td>\n      <td>Ford</td>\n      <td>Focus</td>\n    </tr>\n    <tr>\n      <th>92928M178RUS</th>\n      <td>2</td>\n      <td>3000.000000</td>\n      <td>Ford</td>\n      <td>Focus</td>\n    </tr>\n  </tbody>\n</table>\n</div>"
     },
     "execution_count": 39,
     "metadata": {},
     "output_type": "execute_result"
    }
   ],
   "source": [
    "df.loc[df.index.isin(['Y7689C197RUS', '92928M178RUS', '7788KT197RUS', 'H115YO163RUS', 'X758HY197RUS'])]"
   ],
   "metadata": {
    "collapsed": false
   }
  },
  {
   "cell_type": "markdown",
   "source": [
    "## • make the aggregations with the make and the model"
   ],
   "metadata": {
    "collapsed": false
   },
   "outputs": []
  },
  {
   "cell_type": "markdown",
   "source": [
    "◦ display the median fines grouped by the make"
   ],
   "metadata": {
    "collapsed": false
   },
   "outputs": []
  },
  {
   "cell_type": "code",
   "execution_count": 40,
   "outputs": [
    {
     "data": {
      "text/plain": "Make\nAudi          4200.0\nBMW           6500.0\nFord          3500.0\nSkoda         3250.0\nToyota        7700.0\nVolkswagen    4300.0\nVolvo         8500.0\nName: Fines, dtype: float64"
     },
     "execution_count": 40,
     "metadata": {},
     "output_type": "execute_result"
    }
   ],
   "source": [
    "df.groupby(\"Make\")['Fines'].median()"
   ],
   "metadata": {
    "collapsed": false
   }
  },
  {
   "cell_type": "markdown",
   "source": [
    "◦ display the median fines grouped by the make and the model"
   ],
   "metadata": {
    "collapsed": false
   }
  },
  {
   "cell_type": "code",
   "execution_count": 41,
   "outputs": [
    {
     "data": {
      "text/plain": "Make        Model  \nFord        Focus      3500.0\n            Mondeo     7650.0\nSkoda       Octavia    3250.0\nToyota      Camry      7700.0\n            Corolla    7700.0\nVolkswagen  Golf       4800.0\n            Jetta      2800.0\n            Passat     3500.0\n            Touareg    5800.0\nName: Fines, dtype: float64"
     },
     "execution_count": 41,
     "metadata": {},
     "output_type": "execute_result"
    }
   ],
   "source": [
    "df.groupby([\"Make\", \"Model\"])['Fines'].median()\n"
   ],
   "metadata": {
    "collapsed": false
   }
  },
  {
   "cell_type": "markdown",
   "source": [
    "◦ display the number of fines grouped by the make and the model in order to understand if we can trust the median values"
   ],
   "metadata": {
    "collapsed": false
   }
  },
  {
   "cell_type": "code",
   "execution_count": 42,
   "outputs": [
    {
     "data": {
      "text/plain": "Make        Model  \nFord        Focus      575\n            Mondeo       6\nSkoda       Octavia     48\nToyota      Camry       16\n            Corolla     18\nVolkswagen  Golf        20\n            Jetta        6\n            Passat      22\n            Touareg      5\nName: Fines, dtype: int64"
     },
     "execution_count": 42,
     "metadata": {},
     "output_type": "execute_result"
    }
   ],
   "source": [
    "df.groupby([\"Make\", \"Model\"])['Fines'].count()"
   ],
   "metadata": {
    "collapsed": false
   }
  },
  {
   "cell_type": "markdown",
   "source": [
    "◦ display the minimum and the maximum fines grouped by the make and the model in order to better understand the variance"
   ],
   "metadata": {
    "collapsed": false
   }
  },
  {
   "cell_type": "code",
   "execution_count": 43,
   "outputs": [
    {
     "name": "stdout",
     "output_type": "stream",
     "text": [
      "Min fines\n",
      "-----------------\n",
      " Make        Model  \n",
      "Ford        Focus       100.0\n",
      "            Mondeo     1100.0\n",
      "Skoda       Octavia     300.0\n",
      "Toyota      Camry       500.0\n",
      "            Corolla     900.0\n",
      "Volkswagen  Golf        200.0\n",
      "            Jetta       500.0\n",
      "            Passat      100.0\n",
      "            Touareg     500.0\n",
      "Name: Fines, dtype: float64\n",
      "\n",
      "Max fines\n",
      "-----------------\n",
      " Make        Model  \n",
      "Ford        Focus      180000.000000\n",
      "            Mondeo      46200.000000\n",
      "Skoda       Octavia    145000.000000\n",
      "Toyota      Camry       22400.000000\n",
      "            Corolla     34300.000000\n",
      "Volkswagen  Golf       168000.000000\n",
      "            Jetta       46000.000000\n",
      "            Passat      29700.000000\n",
      "            Touareg      8594.586466\n",
      "Name: Fines, dtype: float64\n"
     ]
    }
   ],
   "source": [
    "print('Min fines\\n-----------------\\n', df.groupby([\"Make\", \"Model\"])['Fines'].min())\n",
    "print('\\nMax fines\\n-----------------\\n', df.groupby([\"Make\", \"Model\"])['Fines'].max())"
   ],
   "metadata": {
    "collapsed": false
   }
  },
  {
   "cell_type": "markdown",
   "source": [
    "◦ display the standard deviation of the fines grouped by the make and the model in order to better understand the variance"
   ],
   "metadata": {
    "collapsed": false
   }
  },
  {
   "cell_type": "code",
   "execution_count": 44,
   "outputs": [
    {
     "data": {
      "text/plain": "Make        Model  \nFord        Focus      15041.269437\n            Mondeo     18987.329108\nSkoda       Octavia    24339.742174\nToyota      Camry       6410.250654\n            Corolla     9629.325617\nVolkswagen  Golf       36950.839950\n            Jetta      17743.026799\n            Passat      6969.739135\n            Touareg     3461.778173\nName: Fines, dtype: float64"
     },
     "execution_count": 44,
     "metadata": {},
     "output_type": "execute_result"
    }
   ],
   "source": [
    "df.groupby([\"Make\", \"Model\"])['Fines'].std()"
   ],
   "metadata": {
    "collapsed": false
   }
  },
  {
   "cell_type": "markdown",
   "source": [
    "## • make the aggregations with the car number"
   ],
   "metadata": {
    "collapsed": false
   }
  },
  {
   "cell_type": "markdown",
   "source": [
    "◦ display the car numbers grouped by the number of the fines in descending\n",
    "order, we want to find those who most often violated the law"
   ],
   "metadata": {
    "collapsed": false
   },
   "outputs": []
  },
  {
   "cell_type": "code",
   "execution_count": 45,
   "outputs": [
    {
     "data": {
      "text/plain": "CarNumber\nY7689C197RUS    4\n92928M178RUS    4\n7788KT197RUS    4\nH115YO163RUS    3\nX758HY197RUS    3\n               ..\nE42577152RUS    1\nE42377152RUS    1\nE41977152RUS    1\nE41577152RUS    1\nH917TC36RUS     1\nName: Fines, Length: 531, dtype: int64"
     },
     "execution_count": 45,
     "metadata": {},
     "output_type": "execute_result"
    }
   ],
   "source": [
    "df.groupby(df.index)['Fines'].count().sort_values(ascending=False)"
   ],
   "metadata": {
    "collapsed": false
   }
  },
  {
   "cell_type": "markdown",
   "source": [
    "◦ select from the initial dataframe all the rows corresponding to the top-1 car\n",
    "number, we want to zoom in a little bit"
   ],
   "metadata": {
    "collapsed": false
   },
   "outputs": []
  },
  {
   "cell_type": "code",
   "execution_count": 46,
   "outputs": [
    {
     "data": {
      "text/plain": "              Refund   Fines  Make  Model\nCarNumber                                \nY163O8161RUS       2  3200.0  Ford  Focus\nY163O8161RUS       2  1600.0  Ford  Focus",
      "text/html": "<div>\n<style scoped>\n    .dataframe tbody tr th:only-of-type {\n        vertical-align: middle;\n    }\n\n    .dataframe tbody tr th {\n        vertical-align: top;\n    }\n\n    .dataframe thead th {\n        text-align: right;\n    }\n</style>\n<table border=\"1\" class=\"dataframe\">\n  <thead>\n    <tr style=\"text-align: right;\">\n      <th></th>\n      <th>Refund</th>\n      <th>Fines</th>\n      <th>Make</th>\n      <th>Model</th>\n    </tr>\n    <tr>\n      <th>CarNumber</th>\n      <th></th>\n      <th></th>\n      <th></th>\n      <th></th>\n    </tr>\n  </thead>\n  <tbody>\n    <tr>\n      <th>Y163O8161RUS</th>\n      <td>2</td>\n      <td>3200.0</td>\n      <td>Ford</td>\n      <td>Focus</td>\n    </tr>\n    <tr>\n      <th>Y163O8161RUS</th>\n      <td>2</td>\n      <td>1600.0</td>\n      <td>Ford</td>\n      <td>Focus</td>\n    </tr>\n  </tbody>\n</table>\n</div>"
     },
     "execution_count": 46,
     "metadata": {},
     "output_type": "execute_result"
    }
   ],
   "source": [
    "df.loc[df.index == df.index[0]]"
   ],
   "metadata": {
    "collapsed": false
   }
  },
  {
   "cell_type": "markdown",
   "source": [
    "◦ display the car numbers grouped by the sum of the fines in descending order,\n",
    "we want to find those who paid the most"
   ],
   "metadata": {
    "collapsed": false
   },
   "outputs": []
  },
  {
   "cell_type": "code",
   "execution_count": 47,
   "outputs": [
    {
     "data": {
      "text/plain": "CarNumber\nX758HY197RUS    242000.0\n9020YC197RUS    217500.0\nM0279X197RUS    216000.0\nY352O8197RUS    207200.0\nY778EE197RUS    192000.0\n                  ...   \n83218C154RUS       100.0\nY195O8161RUS       100.0\nK376HE161RUS       100.0\n705787163RUS       100.0\nK326T8197RUS       100.0\nName: Fines, Length: 531, dtype: float64"
     },
     "execution_count": 47,
     "metadata": {},
     "output_type": "execute_result"
    }
   ],
   "source": [
    "df.groupby(df.index)['Fines'].sum().sort_values(ascending=False)"
   ],
   "metadata": {
    "collapsed": false
   }
  },
  {
   "cell_type": "markdown",
   "source": [
    "◦ display a table that answers the question: are there any car numbers that were\n",
    "connected to different models?"
   ],
   "metadata": {
    "collapsed": false
   }
  },
  {
   "cell_type": "code",
   "execution_count": 48,
   "outputs": [
    {
     "data": {
      "text/plain": "                    Make    Model\nCarNumber                        \nE316EH197RUS  Volkswagen     None\nE316EH197RUS  Volkswagen  Touareg",
      "text/html": "<div>\n<style scoped>\n    .dataframe tbody tr th:only-of-type {\n        vertical-align: middle;\n    }\n\n    .dataframe tbody tr th {\n        vertical-align: top;\n    }\n\n    .dataframe thead th {\n        text-align: right;\n    }\n</style>\n<table border=\"1\" class=\"dataframe\">\n  <thead>\n    <tr style=\"text-align: right;\">\n      <th></th>\n      <th>Make</th>\n      <th>Model</th>\n    </tr>\n    <tr>\n      <th>CarNumber</th>\n      <th></th>\n      <th></th>\n    </tr>\n  </thead>\n  <tbody>\n    <tr>\n      <th>E316EH197RUS</th>\n      <td>Volkswagen</td>\n      <td>None</td>\n    </tr>\n    <tr>\n      <th>E316EH197RUS</th>\n      <td>Volkswagen</td>\n      <td>Touareg</td>\n    </tr>\n  </tbody>\n</table>\n</div>"
     },
     "execution_count": 48,
     "metadata": {},
     "output_type": "execute_result"
    }
   ],
   "source": [
    "res = df[df.index.isin(df.index[df.index.duplicated()])][['Make', 'Model']]\n",
    "res.drop_duplicates(keep=False)"
   ],
   "metadata": {
    "collapsed": false
   }
  }
 ],
 "metadata": {
  "kernelspec": {
   "display_name": "Python 3",
   "language": "python",
   "name": "python3"
  },
  "language_info": {
   "codemirror_mode": {
    "name": "ipython",
    "version": 2
   },
   "file_extension": ".py",
   "mimetype": "text/x-python",
   "name": "python",
   "nbconvert_exporter": "python",
   "pygments_lexer": "ipython2",
   "version": "2.7.6"
  }
 },
 "nbformat": 4,
 "nbformat_minor": 0
}
