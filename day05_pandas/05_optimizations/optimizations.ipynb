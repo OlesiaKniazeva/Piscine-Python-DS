{
 "cells": [
  {
   "cell_type": "code",
   "execution_count": 51,
   "metadata": {
    "collapsed": true
   },
   "outputs": [],
   "source": [
    "import pandas as pd\n",
    "import gc"
   ]
  },
  {
   "cell_type": "markdown",
   "source": [
    "## • read the fines.csv that you saved in the previous exercise"
   ],
   "metadata": {
    "collapsed": false
   }
  },
  {
   "cell_type": "code",
   "execution_count": 52,
   "outputs": [
    {
     "data": {
      "text/plain": "        CarNumber  Refund    Fines    Make    Model  Year\n0    Y163O8161RUS       2   3200.0    Ford    Focus  1989\n1     E432XX77RUS       1   6500.0  Toyota    Camry  1995\n2     7184TT36RUS       1   2100.0    Ford    Focus  1984\n3    X582HE161RUS       2   2000.0    Ford    Focus  2015\n4    92918M178RUS       1   5700.0    Ford    Focus  2014\n..            ...     ...      ...     ...      ...   ...\n925  Y163O8000RUS       2    344.0    Ford    Focus  1234\n926  M103O8161RUS       1   5454.0    Lada   Kalina  1943\n927  Y163O8787RUS       1   4345.0    Lada     Niva  1894\n928  Y163O0061RUS       2   4343.0    Lada    Vesta  2003\n929  Y103O0161RUS       1  23324.0    Ford  Mustang  2004\n\n[930 rows x 6 columns]",
      "text/html": "<div>\n<style scoped>\n    .dataframe tbody tr th:only-of-type {\n        vertical-align: middle;\n    }\n\n    .dataframe tbody tr th {\n        vertical-align: top;\n    }\n\n    .dataframe thead th {\n        text-align: right;\n    }\n</style>\n<table border=\"1\" class=\"dataframe\">\n  <thead>\n    <tr style=\"text-align: right;\">\n      <th></th>\n      <th>CarNumber</th>\n      <th>Refund</th>\n      <th>Fines</th>\n      <th>Make</th>\n      <th>Model</th>\n      <th>Year</th>\n    </tr>\n  </thead>\n  <tbody>\n    <tr>\n      <th>0</th>\n      <td>Y163O8161RUS</td>\n      <td>2</td>\n      <td>3200.0</td>\n      <td>Ford</td>\n      <td>Focus</td>\n      <td>1989</td>\n    </tr>\n    <tr>\n      <th>1</th>\n      <td>E432XX77RUS</td>\n      <td>1</td>\n      <td>6500.0</td>\n      <td>Toyota</td>\n      <td>Camry</td>\n      <td>1995</td>\n    </tr>\n    <tr>\n      <th>2</th>\n      <td>7184TT36RUS</td>\n      <td>1</td>\n      <td>2100.0</td>\n      <td>Ford</td>\n      <td>Focus</td>\n      <td>1984</td>\n    </tr>\n    <tr>\n      <th>3</th>\n      <td>X582HE161RUS</td>\n      <td>2</td>\n      <td>2000.0</td>\n      <td>Ford</td>\n      <td>Focus</td>\n      <td>2015</td>\n    </tr>\n    <tr>\n      <th>4</th>\n      <td>92918M178RUS</td>\n      <td>1</td>\n      <td>5700.0</td>\n      <td>Ford</td>\n      <td>Focus</td>\n      <td>2014</td>\n    </tr>\n    <tr>\n      <th>...</th>\n      <td>...</td>\n      <td>...</td>\n      <td>...</td>\n      <td>...</td>\n      <td>...</td>\n      <td>...</td>\n    </tr>\n    <tr>\n      <th>925</th>\n      <td>Y163O8000RUS</td>\n      <td>2</td>\n      <td>344.0</td>\n      <td>Ford</td>\n      <td>Focus</td>\n      <td>1234</td>\n    </tr>\n    <tr>\n      <th>926</th>\n      <td>M103O8161RUS</td>\n      <td>1</td>\n      <td>5454.0</td>\n      <td>Lada</td>\n      <td>Kalina</td>\n      <td>1943</td>\n    </tr>\n    <tr>\n      <th>927</th>\n      <td>Y163O8787RUS</td>\n      <td>1</td>\n      <td>4345.0</td>\n      <td>Lada</td>\n      <td>Niva</td>\n      <td>1894</td>\n    </tr>\n    <tr>\n      <th>928</th>\n      <td>Y163O0061RUS</td>\n      <td>2</td>\n      <td>4343.0</td>\n      <td>Lada</td>\n      <td>Vesta</td>\n      <td>2003</td>\n    </tr>\n    <tr>\n      <th>929</th>\n      <td>Y103O0161RUS</td>\n      <td>1</td>\n      <td>23324.0</td>\n      <td>Ford</td>\n      <td>Mustang</td>\n      <td>2004</td>\n    </tr>\n  </tbody>\n</table>\n<p>930 rows × 6 columns</p>\n</div>"
     },
     "execution_count": 52,
     "metadata": {},
     "output_type": "execute_result"
    }
   ],
   "source": [
    "df = pd.read_csv('../data/fines.csv')\n",
    "df"
   ],
   "metadata": {
    "collapsed": false
   }
  },
  {
   "cell_type": "markdown",
   "source": [
    "## • iterations: in all the following subtasks, you need to calculate fines/refund*year for each row and create a new column with the calculated data and measure the time using the magic command %%timeit in the cell"
   ],
   "metadata": {
    "collapsed": false
   }
  },
  {
   "cell_type": "markdown",
   "source": [
    "◦ loop: write a function that iterates through the dataframe using for i in range(0, len(df)), iloc and append() to a list, assign the result of the function to a new column in the dataframe"
   ],
   "metadata": {
    "collapsed": false
   }
  },
  {
   "cell_type": "code",
   "execution_count": 53,
   "outputs": [],
   "source": [
    "def loop_iloc():\n",
    "    data = []\n",
    "    for i in range(0, len(df)):\n",
    "        data.append((df.iloc[i, 2] / df.iloc[i, 1]) * df.iloc[i, 5])\n",
    "    return data"
   ],
   "metadata": {
    "collapsed": false
   }
  },
  {
   "cell_type": "code",
   "execution_count": 54,
   "outputs": [
    {
     "name": "stdout",
     "output_type": "stream",
     "text": [
      "43.3 ms ± 1.21 ms per loop (mean ± std. dev. of 7 runs, 10 loops each)\n"
     ]
    }
   ],
   "source": [
    "%%timeit\n",
    "loop_iloc()"
   ],
   "metadata": {
    "collapsed": false
   }
  },
  {
   "cell_type": "code",
   "execution_count": 55,
   "outputs": [
    {
     "data": {
      "text/plain": "        CarNumber  Refund    Fines    Make    Model  Year  Calculation\n0    Y163O8161RUS       2   3200.0    Ford    Focus  1989    3182400.0\n1     E432XX77RUS       1   6500.0  Toyota    Camry  1995   12967500.0\n2     7184TT36RUS       1   2100.0    Ford    Focus  1984    4166400.0\n3    X582HE161RUS       2   2000.0    Ford    Focus  2015    2015000.0\n4    92918M178RUS       1   5700.0    Ford    Focus  2014   11479800.0\n..            ...     ...      ...     ...      ...   ...          ...\n925  Y163O8000RUS       2    344.0    Ford    Focus  1234     212248.0\n926  M103O8161RUS       1   5454.0    Lada   Kalina  1943   10597122.0\n927  Y163O8787RUS       1   4345.0    Lada     Niva  1894    8229430.0\n928  Y163O0061RUS       2   4343.0    Lada    Vesta  2003    4349514.5\n929  Y103O0161RUS       1  23324.0    Ford  Mustang  2004   46741296.0\n\n[930 rows x 7 columns]",
      "text/html": "<div>\n<style scoped>\n    .dataframe tbody tr th:only-of-type {\n        vertical-align: middle;\n    }\n\n    .dataframe tbody tr th {\n        vertical-align: top;\n    }\n\n    .dataframe thead th {\n        text-align: right;\n    }\n</style>\n<table border=\"1\" class=\"dataframe\">\n  <thead>\n    <tr style=\"text-align: right;\">\n      <th></th>\n      <th>CarNumber</th>\n      <th>Refund</th>\n      <th>Fines</th>\n      <th>Make</th>\n      <th>Model</th>\n      <th>Year</th>\n      <th>Calculation</th>\n    </tr>\n  </thead>\n  <tbody>\n    <tr>\n      <th>0</th>\n      <td>Y163O8161RUS</td>\n      <td>2</td>\n      <td>3200.0</td>\n      <td>Ford</td>\n      <td>Focus</td>\n      <td>1989</td>\n      <td>3182400.0</td>\n    </tr>\n    <tr>\n      <th>1</th>\n      <td>E432XX77RUS</td>\n      <td>1</td>\n      <td>6500.0</td>\n      <td>Toyota</td>\n      <td>Camry</td>\n      <td>1995</td>\n      <td>12967500.0</td>\n    </tr>\n    <tr>\n      <th>2</th>\n      <td>7184TT36RUS</td>\n      <td>1</td>\n      <td>2100.0</td>\n      <td>Ford</td>\n      <td>Focus</td>\n      <td>1984</td>\n      <td>4166400.0</td>\n    </tr>\n    <tr>\n      <th>3</th>\n      <td>X582HE161RUS</td>\n      <td>2</td>\n      <td>2000.0</td>\n      <td>Ford</td>\n      <td>Focus</td>\n      <td>2015</td>\n      <td>2015000.0</td>\n    </tr>\n    <tr>\n      <th>4</th>\n      <td>92918M178RUS</td>\n      <td>1</td>\n      <td>5700.0</td>\n      <td>Ford</td>\n      <td>Focus</td>\n      <td>2014</td>\n      <td>11479800.0</td>\n    </tr>\n    <tr>\n      <th>...</th>\n      <td>...</td>\n      <td>...</td>\n      <td>...</td>\n      <td>...</td>\n      <td>...</td>\n      <td>...</td>\n      <td>...</td>\n    </tr>\n    <tr>\n      <th>925</th>\n      <td>Y163O8000RUS</td>\n      <td>2</td>\n      <td>344.0</td>\n      <td>Ford</td>\n      <td>Focus</td>\n      <td>1234</td>\n      <td>212248.0</td>\n    </tr>\n    <tr>\n      <th>926</th>\n      <td>M103O8161RUS</td>\n      <td>1</td>\n      <td>5454.0</td>\n      <td>Lada</td>\n      <td>Kalina</td>\n      <td>1943</td>\n      <td>10597122.0</td>\n    </tr>\n    <tr>\n      <th>927</th>\n      <td>Y163O8787RUS</td>\n      <td>1</td>\n      <td>4345.0</td>\n      <td>Lada</td>\n      <td>Niva</td>\n      <td>1894</td>\n      <td>8229430.0</td>\n    </tr>\n    <tr>\n      <th>928</th>\n      <td>Y163O0061RUS</td>\n      <td>2</td>\n      <td>4343.0</td>\n      <td>Lada</td>\n      <td>Vesta</td>\n      <td>2003</td>\n      <td>4349514.5</td>\n    </tr>\n    <tr>\n      <th>929</th>\n      <td>Y103O0161RUS</td>\n      <td>1</td>\n      <td>23324.0</td>\n      <td>Ford</td>\n      <td>Mustang</td>\n      <td>2004</td>\n      <td>46741296.0</td>\n    </tr>\n  </tbody>\n</table>\n<p>930 rows × 7 columns</p>\n</div>"
     },
     "execution_count": 55,
     "metadata": {},
     "output_type": "execute_result"
    }
   ],
   "source": [
    "df['Calculation'] = loop_iloc()\n",
    "df"
   ],
   "metadata": {
    "collapsed": false
   }
  },
  {
   "cell_type": "markdown",
   "source": [
    "◦ do it using iterrows()"
   ],
   "metadata": {
    "collapsed": false
   },
   "outputs": []
  },
  {
   "cell_type": "code",
   "execution_count": 56,
   "outputs": [],
   "source": [
    "def iterrows_calc():\n",
    "    data = []\n",
    "    for index, row in df.iterrows():\n",
    "        data.append((row['Fines'] / row['Refund']) * row['Year'])\n",
    "    return data"
   ],
   "metadata": {
    "collapsed": false
   }
  },
  {
   "cell_type": "code",
   "execution_count": 57,
   "outputs": [
    {
     "name": "stdout",
     "output_type": "stream",
     "text": [
      "35.5 ms ± 1.73 ms per loop (mean ± std. dev. of 7 runs, 10 loops each)\n"
     ]
    }
   ],
   "source": [
    "%%timeit\n",
    "iterrows_calc()"
   ],
   "metadata": {
    "collapsed": false
   }
  },
  {
   "cell_type": "code",
   "execution_count": 58,
   "outputs": [
    {
     "data": {
      "text/plain": "        CarNumber  Refund    Fines    Make    Model  Year  Calculation\n0    Y163O8161RUS       2   3200.0    Ford    Focus  1989    3182400.0\n1     E432XX77RUS       1   6500.0  Toyota    Camry  1995   12967500.0\n2     7184TT36RUS       1   2100.0    Ford    Focus  1984    4166400.0\n3    X582HE161RUS       2   2000.0    Ford    Focus  2015    2015000.0\n4    92918M178RUS       1   5700.0    Ford    Focus  2014   11479800.0\n..            ...     ...      ...     ...      ...   ...          ...\n925  Y163O8000RUS       2    344.0    Ford    Focus  1234     212248.0\n926  M103O8161RUS       1   5454.0    Lada   Kalina  1943   10597122.0\n927  Y163O8787RUS       1   4345.0    Lada     Niva  1894    8229430.0\n928  Y163O0061RUS       2   4343.0    Lada    Vesta  2003    4349514.5\n929  Y103O0161RUS       1  23324.0    Ford  Mustang  2004   46741296.0\n\n[930 rows x 7 columns]",
      "text/html": "<div>\n<style scoped>\n    .dataframe tbody tr th:only-of-type {\n        vertical-align: middle;\n    }\n\n    .dataframe tbody tr th {\n        vertical-align: top;\n    }\n\n    .dataframe thead th {\n        text-align: right;\n    }\n</style>\n<table border=\"1\" class=\"dataframe\">\n  <thead>\n    <tr style=\"text-align: right;\">\n      <th></th>\n      <th>CarNumber</th>\n      <th>Refund</th>\n      <th>Fines</th>\n      <th>Make</th>\n      <th>Model</th>\n      <th>Year</th>\n      <th>Calculation</th>\n    </tr>\n  </thead>\n  <tbody>\n    <tr>\n      <th>0</th>\n      <td>Y163O8161RUS</td>\n      <td>2</td>\n      <td>3200.0</td>\n      <td>Ford</td>\n      <td>Focus</td>\n      <td>1989</td>\n      <td>3182400.0</td>\n    </tr>\n    <tr>\n      <th>1</th>\n      <td>E432XX77RUS</td>\n      <td>1</td>\n      <td>6500.0</td>\n      <td>Toyota</td>\n      <td>Camry</td>\n      <td>1995</td>\n      <td>12967500.0</td>\n    </tr>\n    <tr>\n      <th>2</th>\n      <td>7184TT36RUS</td>\n      <td>1</td>\n      <td>2100.0</td>\n      <td>Ford</td>\n      <td>Focus</td>\n      <td>1984</td>\n      <td>4166400.0</td>\n    </tr>\n    <tr>\n      <th>3</th>\n      <td>X582HE161RUS</td>\n      <td>2</td>\n      <td>2000.0</td>\n      <td>Ford</td>\n      <td>Focus</td>\n      <td>2015</td>\n      <td>2015000.0</td>\n    </tr>\n    <tr>\n      <th>4</th>\n      <td>92918M178RUS</td>\n      <td>1</td>\n      <td>5700.0</td>\n      <td>Ford</td>\n      <td>Focus</td>\n      <td>2014</td>\n      <td>11479800.0</td>\n    </tr>\n    <tr>\n      <th>...</th>\n      <td>...</td>\n      <td>...</td>\n      <td>...</td>\n      <td>...</td>\n      <td>...</td>\n      <td>...</td>\n      <td>...</td>\n    </tr>\n    <tr>\n      <th>925</th>\n      <td>Y163O8000RUS</td>\n      <td>2</td>\n      <td>344.0</td>\n      <td>Ford</td>\n      <td>Focus</td>\n      <td>1234</td>\n      <td>212248.0</td>\n    </tr>\n    <tr>\n      <th>926</th>\n      <td>M103O8161RUS</td>\n      <td>1</td>\n      <td>5454.0</td>\n      <td>Lada</td>\n      <td>Kalina</td>\n      <td>1943</td>\n      <td>10597122.0</td>\n    </tr>\n    <tr>\n      <th>927</th>\n      <td>Y163O8787RUS</td>\n      <td>1</td>\n      <td>4345.0</td>\n      <td>Lada</td>\n      <td>Niva</td>\n      <td>1894</td>\n      <td>8229430.0</td>\n    </tr>\n    <tr>\n      <th>928</th>\n      <td>Y163O0061RUS</td>\n      <td>2</td>\n      <td>4343.0</td>\n      <td>Lada</td>\n      <td>Vesta</td>\n      <td>2003</td>\n      <td>4349514.5</td>\n    </tr>\n    <tr>\n      <th>929</th>\n      <td>Y103O0161RUS</td>\n      <td>1</td>\n      <td>23324.0</td>\n      <td>Ford</td>\n      <td>Mustang</td>\n      <td>2004</td>\n      <td>46741296.0</td>\n    </tr>\n  </tbody>\n</table>\n<p>930 rows × 7 columns</p>\n</div>"
     },
     "execution_count": 58,
     "metadata": {},
     "output_type": "execute_result"
    }
   ],
   "source": [
    "df['Calculation'] = iterrows_calc()\n",
    "df"
   ],
   "metadata": {
    "collapsed": false
   }
  },
  {
   "cell_type": "markdown",
   "source": [
    "◦ do it using apply() and lambda function"
   ],
   "metadata": {
    "collapsed": false
   },
   "outputs": []
  },
  {
   "cell_type": "code",
   "execution_count": 59,
   "outputs": [
    {
     "name": "stdout",
     "output_type": "stream",
     "text": [
      "17 ms ± 2.74 ms per loop (mean ± std. dev. of 7 runs, 100 loops each)\n"
     ]
    }
   ],
   "source": [
    "%%timeit\n",
    "df['Calculation'] = df.apply(lambda row: row['Year'] * row['Fines'] / row['Refund'], axis=1)"
   ],
   "metadata": {
    "collapsed": false
   }
  },
  {
   "cell_type": "code",
   "execution_count": 60,
   "outputs": [
    {
     "data": {
      "text/plain": "        CarNumber  Refund    Fines    Make    Model  Year  Calculation\n0    Y163O8161RUS       2   3200.0    Ford    Focus  1989    3182400.0\n1     E432XX77RUS       1   6500.0  Toyota    Camry  1995   12967500.0\n2     7184TT36RUS       1   2100.0    Ford    Focus  1984    4166400.0\n3    X582HE161RUS       2   2000.0    Ford    Focus  2015    2015000.0\n4    92918M178RUS       1   5700.0    Ford    Focus  2014   11479800.0\n..            ...     ...      ...     ...      ...   ...          ...\n925  Y163O8000RUS       2    344.0    Ford    Focus  1234     212248.0\n926  M103O8161RUS       1   5454.0    Lada   Kalina  1943   10597122.0\n927  Y163O8787RUS       1   4345.0    Lada     Niva  1894    8229430.0\n928  Y163O0061RUS       2   4343.0    Lada    Vesta  2003    4349514.5\n929  Y103O0161RUS       1  23324.0    Ford  Mustang  2004   46741296.0\n\n[930 rows x 7 columns]",
      "text/html": "<div>\n<style scoped>\n    .dataframe tbody tr th:only-of-type {\n        vertical-align: middle;\n    }\n\n    .dataframe tbody tr th {\n        vertical-align: top;\n    }\n\n    .dataframe thead th {\n        text-align: right;\n    }\n</style>\n<table border=\"1\" class=\"dataframe\">\n  <thead>\n    <tr style=\"text-align: right;\">\n      <th></th>\n      <th>CarNumber</th>\n      <th>Refund</th>\n      <th>Fines</th>\n      <th>Make</th>\n      <th>Model</th>\n      <th>Year</th>\n      <th>Calculation</th>\n    </tr>\n  </thead>\n  <tbody>\n    <tr>\n      <th>0</th>\n      <td>Y163O8161RUS</td>\n      <td>2</td>\n      <td>3200.0</td>\n      <td>Ford</td>\n      <td>Focus</td>\n      <td>1989</td>\n      <td>3182400.0</td>\n    </tr>\n    <tr>\n      <th>1</th>\n      <td>E432XX77RUS</td>\n      <td>1</td>\n      <td>6500.0</td>\n      <td>Toyota</td>\n      <td>Camry</td>\n      <td>1995</td>\n      <td>12967500.0</td>\n    </tr>\n    <tr>\n      <th>2</th>\n      <td>7184TT36RUS</td>\n      <td>1</td>\n      <td>2100.0</td>\n      <td>Ford</td>\n      <td>Focus</td>\n      <td>1984</td>\n      <td>4166400.0</td>\n    </tr>\n    <tr>\n      <th>3</th>\n      <td>X582HE161RUS</td>\n      <td>2</td>\n      <td>2000.0</td>\n      <td>Ford</td>\n      <td>Focus</td>\n      <td>2015</td>\n      <td>2015000.0</td>\n    </tr>\n    <tr>\n      <th>4</th>\n      <td>92918M178RUS</td>\n      <td>1</td>\n      <td>5700.0</td>\n      <td>Ford</td>\n      <td>Focus</td>\n      <td>2014</td>\n      <td>11479800.0</td>\n    </tr>\n    <tr>\n      <th>...</th>\n      <td>...</td>\n      <td>...</td>\n      <td>...</td>\n      <td>...</td>\n      <td>...</td>\n      <td>...</td>\n      <td>...</td>\n    </tr>\n    <tr>\n      <th>925</th>\n      <td>Y163O8000RUS</td>\n      <td>2</td>\n      <td>344.0</td>\n      <td>Ford</td>\n      <td>Focus</td>\n      <td>1234</td>\n      <td>212248.0</td>\n    </tr>\n    <tr>\n      <th>926</th>\n      <td>M103O8161RUS</td>\n      <td>1</td>\n      <td>5454.0</td>\n      <td>Lada</td>\n      <td>Kalina</td>\n      <td>1943</td>\n      <td>10597122.0</td>\n    </tr>\n    <tr>\n      <th>927</th>\n      <td>Y163O8787RUS</td>\n      <td>1</td>\n      <td>4345.0</td>\n      <td>Lada</td>\n      <td>Niva</td>\n      <td>1894</td>\n      <td>8229430.0</td>\n    </tr>\n    <tr>\n      <th>928</th>\n      <td>Y163O0061RUS</td>\n      <td>2</td>\n      <td>4343.0</td>\n      <td>Lada</td>\n      <td>Vesta</td>\n      <td>2003</td>\n      <td>4349514.5</td>\n    </tr>\n    <tr>\n      <th>929</th>\n      <td>Y103O0161RUS</td>\n      <td>1</td>\n      <td>23324.0</td>\n      <td>Ford</td>\n      <td>Mustang</td>\n      <td>2004</td>\n      <td>46741296.0</td>\n    </tr>\n  </tbody>\n</table>\n<p>930 rows × 7 columns</p>\n</div>"
     },
     "execution_count": 60,
     "metadata": {},
     "output_type": "execute_result"
    }
   ],
   "source": [
    "df"
   ],
   "metadata": {
    "collapsed": false
   }
  },
  {
   "cell_type": "markdown",
   "source": [
    "◦ do it using Series objects from the dataframe"
   ],
   "metadata": {
    "collapsed": false
   },
   "outputs": []
  },
  {
   "cell_type": "code",
   "execution_count": 61,
   "outputs": [
    {
     "name": "stdout",
     "output_type": "stream",
     "text": [
      "340 µs ± 24.7 µs per loop (mean ± std. dev. of 7 runs, 1,000 loops each)\n"
     ]
    }
   ],
   "source": [
    "%%timeit\n",
    "df['Calculation'] = (df['Fines'] / df['Refund']) * df['Year']"
   ],
   "metadata": {
    "collapsed": false
   }
  },
  {
   "cell_type": "code",
   "execution_count": 62,
   "outputs": [
    {
     "data": {
      "text/plain": "        CarNumber  Refund    Fines    Make    Model  Year  Calculation\n0    Y163O8161RUS       2   3200.0    Ford    Focus  1989    3182400.0\n1     E432XX77RUS       1   6500.0  Toyota    Camry  1995   12967500.0\n2     7184TT36RUS       1   2100.0    Ford    Focus  1984    4166400.0\n3    X582HE161RUS       2   2000.0    Ford    Focus  2015    2015000.0\n4    92918M178RUS       1   5700.0    Ford    Focus  2014   11479800.0\n..            ...     ...      ...     ...      ...   ...          ...\n925  Y163O8000RUS       2    344.0    Ford    Focus  1234     212248.0\n926  M103O8161RUS       1   5454.0    Lada   Kalina  1943   10597122.0\n927  Y163O8787RUS       1   4345.0    Lada     Niva  1894    8229430.0\n928  Y163O0061RUS       2   4343.0    Lada    Vesta  2003    4349514.5\n929  Y103O0161RUS       1  23324.0    Ford  Mustang  2004   46741296.0\n\n[930 rows x 7 columns]",
      "text/html": "<div>\n<style scoped>\n    .dataframe tbody tr th:only-of-type {\n        vertical-align: middle;\n    }\n\n    .dataframe tbody tr th {\n        vertical-align: top;\n    }\n\n    .dataframe thead th {\n        text-align: right;\n    }\n</style>\n<table border=\"1\" class=\"dataframe\">\n  <thead>\n    <tr style=\"text-align: right;\">\n      <th></th>\n      <th>CarNumber</th>\n      <th>Refund</th>\n      <th>Fines</th>\n      <th>Make</th>\n      <th>Model</th>\n      <th>Year</th>\n      <th>Calculation</th>\n    </tr>\n  </thead>\n  <tbody>\n    <tr>\n      <th>0</th>\n      <td>Y163O8161RUS</td>\n      <td>2</td>\n      <td>3200.0</td>\n      <td>Ford</td>\n      <td>Focus</td>\n      <td>1989</td>\n      <td>3182400.0</td>\n    </tr>\n    <tr>\n      <th>1</th>\n      <td>E432XX77RUS</td>\n      <td>1</td>\n      <td>6500.0</td>\n      <td>Toyota</td>\n      <td>Camry</td>\n      <td>1995</td>\n      <td>12967500.0</td>\n    </tr>\n    <tr>\n      <th>2</th>\n      <td>7184TT36RUS</td>\n      <td>1</td>\n      <td>2100.0</td>\n      <td>Ford</td>\n      <td>Focus</td>\n      <td>1984</td>\n      <td>4166400.0</td>\n    </tr>\n    <tr>\n      <th>3</th>\n      <td>X582HE161RUS</td>\n      <td>2</td>\n      <td>2000.0</td>\n      <td>Ford</td>\n      <td>Focus</td>\n      <td>2015</td>\n      <td>2015000.0</td>\n    </tr>\n    <tr>\n      <th>4</th>\n      <td>92918M178RUS</td>\n      <td>1</td>\n      <td>5700.0</td>\n      <td>Ford</td>\n      <td>Focus</td>\n      <td>2014</td>\n      <td>11479800.0</td>\n    </tr>\n    <tr>\n      <th>...</th>\n      <td>...</td>\n      <td>...</td>\n      <td>...</td>\n      <td>...</td>\n      <td>...</td>\n      <td>...</td>\n      <td>...</td>\n    </tr>\n    <tr>\n      <th>925</th>\n      <td>Y163O8000RUS</td>\n      <td>2</td>\n      <td>344.0</td>\n      <td>Ford</td>\n      <td>Focus</td>\n      <td>1234</td>\n      <td>212248.0</td>\n    </tr>\n    <tr>\n      <th>926</th>\n      <td>M103O8161RUS</td>\n      <td>1</td>\n      <td>5454.0</td>\n      <td>Lada</td>\n      <td>Kalina</td>\n      <td>1943</td>\n      <td>10597122.0</td>\n    </tr>\n    <tr>\n      <th>927</th>\n      <td>Y163O8787RUS</td>\n      <td>1</td>\n      <td>4345.0</td>\n      <td>Lada</td>\n      <td>Niva</td>\n      <td>1894</td>\n      <td>8229430.0</td>\n    </tr>\n    <tr>\n      <th>928</th>\n      <td>Y163O0061RUS</td>\n      <td>2</td>\n      <td>4343.0</td>\n      <td>Lada</td>\n      <td>Vesta</td>\n      <td>2003</td>\n      <td>4349514.5</td>\n    </tr>\n    <tr>\n      <th>929</th>\n      <td>Y103O0161RUS</td>\n      <td>1</td>\n      <td>23324.0</td>\n      <td>Ford</td>\n      <td>Mustang</td>\n      <td>2004</td>\n      <td>46741296.0</td>\n    </tr>\n  </tbody>\n</table>\n<p>930 rows × 7 columns</p>\n</div>"
     },
     "execution_count": 62,
     "metadata": {},
     "output_type": "execute_result"
    }
   ],
   "source": [
    "df"
   ],
   "metadata": {
    "collapsed": false
   }
  },
  {
   "cell_type": "markdown",
   "source": [
    "◦ do it as in the previous subtask but with the method .values"
   ],
   "metadata": {
    "collapsed": false
   }
  },
  {
   "cell_type": "code",
   "execution_count": 63,
   "outputs": [
    {
     "name": "stdout",
     "output_type": "stream",
     "text": [
      "143 µs ± 14.1 µs per loop (mean ± std. dev. of 7 runs, 10,000 loops each)\n"
     ]
    }
   ],
   "source": [
    "%%timeit\n",
    "df['Calculation'] = (df['Fines'].values / df['Refund'].values) * df['Year'].values"
   ],
   "metadata": {
    "collapsed": false
   }
  },
  {
   "cell_type": "code",
   "execution_count": 64,
   "outputs": [
    {
     "data": {
      "text/plain": "        CarNumber  Refund    Fines    Make    Model  Year  Calculation\n0    Y163O8161RUS       2   3200.0    Ford    Focus  1989    3182400.0\n1     E432XX77RUS       1   6500.0  Toyota    Camry  1995   12967500.0\n2     7184TT36RUS       1   2100.0    Ford    Focus  1984    4166400.0\n3    X582HE161RUS       2   2000.0    Ford    Focus  2015    2015000.0\n4    92918M178RUS       1   5700.0    Ford    Focus  2014   11479800.0\n..            ...     ...      ...     ...      ...   ...          ...\n925  Y163O8000RUS       2    344.0    Ford    Focus  1234     212248.0\n926  M103O8161RUS       1   5454.0    Lada   Kalina  1943   10597122.0\n927  Y163O8787RUS       1   4345.0    Lada     Niva  1894    8229430.0\n928  Y163O0061RUS       2   4343.0    Lada    Vesta  2003    4349514.5\n929  Y103O0161RUS       1  23324.0    Ford  Mustang  2004   46741296.0\n\n[930 rows x 7 columns]",
      "text/html": "<div>\n<style scoped>\n    .dataframe tbody tr th:only-of-type {\n        vertical-align: middle;\n    }\n\n    .dataframe tbody tr th {\n        vertical-align: top;\n    }\n\n    .dataframe thead th {\n        text-align: right;\n    }\n</style>\n<table border=\"1\" class=\"dataframe\">\n  <thead>\n    <tr style=\"text-align: right;\">\n      <th></th>\n      <th>CarNumber</th>\n      <th>Refund</th>\n      <th>Fines</th>\n      <th>Make</th>\n      <th>Model</th>\n      <th>Year</th>\n      <th>Calculation</th>\n    </tr>\n  </thead>\n  <tbody>\n    <tr>\n      <th>0</th>\n      <td>Y163O8161RUS</td>\n      <td>2</td>\n      <td>3200.0</td>\n      <td>Ford</td>\n      <td>Focus</td>\n      <td>1989</td>\n      <td>3182400.0</td>\n    </tr>\n    <tr>\n      <th>1</th>\n      <td>E432XX77RUS</td>\n      <td>1</td>\n      <td>6500.0</td>\n      <td>Toyota</td>\n      <td>Camry</td>\n      <td>1995</td>\n      <td>12967500.0</td>\n    </tr>\n    <tr>\n      <th>2</th>\n      <td>7184TT36RUS</td>\n      <td>1</td>\n      <td>2100.0</td>\n      <td>Ford</td>\n      <td>Focus</td>\n      <td>1984</td>\n      <td>4166400.0</td>\n    </tr>\n    <tr>\n      <th>3</th>\n      <td>X582HE161RUS</td>\n      <td>2</td>\n      <td>2000.0</td>\n      <td>Ford</td>\n      <td>Focus</td>\n      <td>2015</td>\n      <td>2015000.0</td>\n    </tr>\n    <tr>\n      <th>4</th>\n      <td>92918M178RUS</td>\n      <td>1</td>\n      <td>5700.0</td>\n      <td>Ford</td>\n      <td>Focus</td>\n      <td>2014</td>\n      <td>11479800.0</td>\n    </tr>\n    <tr>\n      <th>...</th>\n      <td>...</td>\n      <td>...</td>\n      <td>...</td>\n      <td>...</td>\n      <td>...</td>\n      <td>...</td>\n      <td>...</td>\n    </tr>\n    <tr>\n      <th>925</th>\n      <td>Y163O8000RUS</td>\n      <td>2</td>\n      <td>344.0</td>\n      <td>Ford</td>\n      <td>Focus</td>\n      <td>1234</td>\n      <td>212248.0</td>\n    </tr>\n    <tr>\n      <th>926</th>\n      <td>M103O8161RUS</td>\n      <td>1</td>\n      <td>5454.0</td>\n      <td>Lada</td>\n      <td>Kalina</td>\n      <td>1943</td>\n      <td>10597122.0</td>\n    </tr>\n    <tr>\n      <th>927</th>\n      <td>Y163O8787RUS</td>\n      <td>1</td>\n      <td>4345.0</td>\n      <td>Lada</td>\n      <td>Niva</td>\n      <td>1894</td>\n      <td>8229430.0</td>\n    </tr>\n    <tr>\n      <th>928</th>\n      <td>Y163O0061RUS</td>\n      <td>2</td>\n      <td>4343.0</td>\n      <td>Lada</td>\n      <td>Vesta</td>\n      <td>2003</td>\n      <td>4349514.5</td>\n    </tr>\n    <tr>\n      <th>929</th>\n      <td>Y103O0161RUS</td>\n      <td>1</td>\n      <td>23324.0</td>\n      <td>Ford</td>\n      <td>Mustang</td>\n      <td>2004</td>\n      <td>46741296.0</td>\n    </tr>\n  </tbody>\n</table>\n<p>930 rows × 7 columns</p>\n</div>"
     },
     "execution_count": 64,
     "metadata": {},
     "output_type": "execute_result"
    }
   ],
   "source": [
    "df"
   ],
   "metadata": {
    "collapsed": false
   }
  },
  {
   "cell_type": "markdown",
   "source": [
    "## • indexing: measure the time using the magic command %%timeit in the cell\n",
    "◦ get a row for a specific CarNumber, for example, ’O136HO197RUS’"
   ],
   "metadata": {
    "collapsed": false
   },
   "outputs": []
  },
  {
   "cell_type": "code",
   "execution_count": 65,
   "outputs": [
    {
     "name": "stdout",
     "output_type": "stream",
     "text": [
      "267 µs ± 30.4 µs per loop (mean ± std. dev. of 7 runs, 1,000 loops each)\n"
     ]
    }
   ],
   "source": [
    "%%timeit\n",
    "df.loc[df['CarNumber'] == '7184TT36RUS']"
   ],
   "metadata": {
    "collapsed": false
   }
  },
  {
   "cell_type": "markdown",
   "source": [
    "◦ set the index in your dataframe with CarNumber"
   ],
   "metadata": {
    "collapsed": false
   },
   "outputs": []
  },
  {
   "cell_type": "code",
   "execution_count": 66,
   "outputs": [
    {
     "name": "stdout",
     "output_type": "stream",
     "text": [
      "170 ns ± 11.3 ns per loop (mean ± std. dev. of 7 runs, 10,000,000 loops each)\n"
     ]
    }
   ],
   "source": [
    "%%timeit\n",
    "if df.index.name != 'CarNumber':\n",
    "    df.set_index('CarNumber', inplace=True)"
   ],
   "metadata": {
    "collapsed": false
   }
  },
  {
   "cell_type": "markdown",
   "source": [
    "◦ again, get a row for the same CarNumber"
   ],
   "metadata": {
    "collapsed": false
   }
  },
  {
   "cell_type": "code",
   "execution_count": 67,
   "outputs": [
    {
     "name": "stdout",
     "output_type": "stream",
     "text": [
      "190 µs ± 17 µs per loop (mean ± std. dev. of 7 runs, 1,000 loops each)\n"
     ]
    }
   ],
   "source": [
    "%%timeit\n",
    "df.loc[df.index == '7184TT36RUS']"
   ],
   "metadata": {
    "collapsed": false
   }
  },
  {
   "cell_type": "markdown",
   "source": [
    "## • downcasting:"
   ],
   "metadata": {
    "collapsed": false
   },
   "outputs": []
  },
  {
   "cell_type": "markdown",
   "source": [
    "◦ run df.info(memory_usage=’deep’), pay attention to the Dtype and the memory usage"
   ],
   "metadata": {
    "collapsed": false
   }
  },
  {
   "cell_type": "code",
   "execution_count": 68,
   "outputs": [
    {
     "name": "stdout",
     "output_type": "stream",
     "text": [
      "<class 'pandas.core.frame.DataFrame'>\n",
      "Index: 930 entries, Y163O8161RUS to Y103O0161RUS\n",
      "Data columns (total 6 columns):\n",
      " #   Column       Non-Null Count  Dtype  \n",
      "---  ------       --------------  -----  \n",
      " 0   Refund       930 non-null    int64  \n",
      " 1   Fines        930 non-null    float64\n",
      " 2   Make         930 non-null    object \n",
      " 3   Model        919 non-null    object \n",
      " 4   Year         930 non-null    int64  \n",
      " 5   Calculation  930 non-null    float64\n",
      "dtypes: float64(2), int64(2), object(2)\n",
      "memory usage: 203.7 KB\n"
     ]
    }
   ],
   "source": [
    "df.info(memory_usage='deep')"
   ],
   "metadata": {
    "collapsed": false
   }
  },
  {
   "cell_type": "markdown",
   "source": [
    "◦ make a copy() of your initial dataframe into another dataframe optimized"
   ],
   "metadata": {
    "collapsed": false
   },
   "outputs": []
  },
  {
   "cell_type": "code",
   "execution_count": 69,
   "outputs": [],
   "source": [
    "optimized = df.copy()"
   ],
   "metadata": {
    "collapsed": false
   }
  },
  {
   "cell_type": "markdown",
   "source": [
    "◦ downcast from float64 to float32 for all the columns"
   ],
   "metadata": {
    "collapsed": false
   },
   "outputs": []
  },
  {
   "cell_type": "code",
   "execution_count": 70,
   "outputs": [
    {
     "name": "stdout",
     "output_type": "stream",
     "text": [
      "<class 'pandas.core.frame.DataFrame'>\n",
      "Index: 930 entries, Y163O8161RUS to Y103O0161RUS\n",
      "Data columns (total 6 columns):\n",
      " #   Column       Non-Null Count  Dtype  \n",
      "---  ------       --------------  -----  \n",
      " 0   Refund       930 non-null    int64  \n",
      " 1   Fines        930 non-null    float32\n",
      " 2   Make         930 non-null    object \n",
      " 3   Model        919 non-null    object \n",
      " 4   Year         930 non-null    int64  \n",
      " 5   Calculation  930 non-null    float32\n",
      "dtypes: float32(2), int64(2), object(2)\n",
      "memory usage: 43.6+ KB\n"
     ]
    }
   ],
   "source": [
    "fcols = optimized.select_dtypes('float').columns\n",
    "optimized[fcols] = optimized[fcols].apply(pd.to_numeric, downcast='float')\n",
    "optimized.info()"
   ],
   "metadata": {
    "collapsed": false
   }
  },
  {
   "cell_type": "markdown",
   "source": [
    "◦ downcast from int64 to the smallest numerical dtype possible"
   ],
   "metadata": {
    "collapsed": false
   }
  },
  {
   "cell_type": "code",
   "execution_count": 71,
   "outputs": [
    {
     "name": "stdout",
     "output_type": "stream",
     "text": [
      "<class 'pandas.core.frame.DataFrame'>\n",
      "Index: 930 entries, Y163O8161RUS to Y103O0161RUS\n",
      "Data columns (total 6 columns):\n",
      " #   Column       Non-Null Count  Dtype  \n",
      "---  ------       --------------  -----  \n",
      " 0   Refund       930 non-null    int8   \n",
      " 1   Fines        930 non-null    float32\n",
      " 2   Make         930 non-null    object \n",
      " 3   Model        919 non-null    object \n",
      " 4   Year         930 non-null    int16  \n",
      " 5   Calculation  930 non-null    float32\n",
      "dtypes: float32(2), int16(1), int8(1), object(2)\n",
      "memory usage: 31.8+ KB\n"
     ]
    }
   ],
   "source": [
    "icols = optimized.select_dtypes('integer').columns\n",
    "optimized[icols] = optimized[icols].apply(pd.to_numeric, downcast='integer')\n",
    "optimized.info()"
   ],
   "metadata": {
    "collapsed": false
   }
  },
  {
   "cell_type": "markdown",
   "source": [
    "◦ run info(memory_usage=’deep’) for your new dataframe, pay attention to the Dtype and the memory usage"
   ],
   "metadata": {
    "collapsed": false
   }
  },
  {
   "cell_type": "code",
   "execution_count": 72,
   "outputs": [
    {
     "name": "stdout",
     "output_type": "stream",
     "text": [
      "<class 'pandas.core.frame.DataFrame'>\n",
      "Index: 930 entries, Y163O8161RUS to Y103O0161RUS\n",
      "Data columns (total 6 columns):\n",
      " #   Column       Non-Null Count  Dtype  \n",
      "---  ------       --------------  -----  \n",
      " 0   Refund       930 non-null    int8   \n",
      " 1   Fines        930 non-null    float32\n",
      " 2   Make         930 non-null    object \n",
      " 3   Model        919 non-null    object \n",
      " 4   Year         930 non-null    int16  \n",
      " 5   Calculation  930 non-null    float32\n",
      "dtypes: float32(2), int16(1), int8(1), object(2)\n",
      "memory usage: 184.6 KB\n"
     ]
    }
   ],
   "source": [
    "optimized.info(memory_usage='deep')"
   ],
   "metadata": {
    "collapsed": false
   }
  },
  {
   "cell_type": "markdown",
   "source": [
    "## • categories:\n",
    "◦ change the object type columns to the type category"
   ],
   "metadata": {
    "collapsed": false
   },
   "outputs": []
  },
  {
   "cell_type": "code",
   "execution_count": 73,
   "outputs": [],
   "source": [
    "obtype = optimized.select_dtypes('object').columns\n",
    "optimized[obtype] = optimized[obtype].astype('category')"
   ],
   "metadata": {
    "collapsed": false
   }
  },
  {
   "cell_type": "markdown",
   "source": [
    "◦ This time, check the memory usage, it probably has a decrease of 2-3 times compared to the initial dataframe"
   ],
   "metadata": {
    "collapsed": false
   }
  },
  {
   "cell_type": "code",
   "execution_count": 74,
   "outputs": [
    {
     "name": "stdout",
     "output_type": "stream",
     "text": [
      "<class 'pandas.core.frame.DataFrame'>\n",
      "Index: 930 entries, Y163O8161RUS to Y103O0161RUS\n",
      "Data columns (total 6 columns):\n",
      " #   Column       Non-Null Count  Dtype   \n",
      "---  ------       --------------  -----   \n",
      " 0   Refund       930 non-null    int8    \n",
      " 1   Fines        930 non-null    float32 \n",
      " 2   Make         930 non-null    category\n",
      " 3   Model        919 non-null    category\n",
      " 4   Year         930 non-null    int16   \n",
      " 5   Calculation  930 non-null    float32 \n",
      "dtypes: category(2), float32(2), int16(1), int8(1)\n",
      "memory usage: 76.4 KB\n"
     ]
    }
   ],
   "source": [
    "optimized.info(memory_usage='deep')"
   ],
   "metadata": {
    "collapsed": false
   }
  },
  {
   "cell_type": "markdown",
   "source": [
    "## • memory clean\n",
    "◦ using %reset_selective and the library gc clean the memory of your initial dataframe only"
   ],
   "metadata": {
    "collapsed": false
   }
  },
  {
   "cell_type": "code",
   "execution_count": 75,
   "outputs": [
    {
     "data": {
      "text/plain": "486"
     },
     "execution_count": 75,
     "metadata": {},
     "output_type": "execute_result"
    }
   ],
   "source": [
    "%reset_selective -f df\n",
    "gc.collect()"
   ],
   "metadata": {
    "collapsed": false
   }
  }
 ],
 "metadata": {
  "kernelspec": {
   "display_name": "Python 3",
   "language": "python",
   "name": "python3"
  },
  "language_info": {
   "codemirror_mode": {
    "name": "ipython",
    "version": 2
   },
   "file_extension": ".py",
   "mimetype": "text/x-python",
   "name": "python",
   "nbconvert_exporter": "python",
   "pygments_lexer": "ipython2",
   "version": "2.7.6"
  }
 },
 "nbformat": 4,
 "nbformat_minor": 0
}
