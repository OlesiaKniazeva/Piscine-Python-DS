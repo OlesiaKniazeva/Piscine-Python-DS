{
 "cells": [
  {
   "cell_type": "code",
   "execution_count": null,
   "metadata": {
    "collapsed": true
   },
   "outputs": [],
   "source": [
    "import pandas as pd\n",
    "import sqlite3\n",
    "import matplotlib.pyplot as plt\n",
    "from mpl_toolkits.axes_grid1 import make_axes_locatable"
   ]
  },
  {
   "cell_type": "markdown",
   "source": [
    "## • analyze only the users and not the admins\n",
    "## • you can choose the color palette that you like for both of the graphs that you will need to draw in this exercise\n",
    "## • use the table checker for your query\n",
    "## • use absolute values of the commits, not the averages\n",
    "## • sort the dataframes by the total number of commits made by a user"
   ],
   "metadata": {
    "collapsed": false
   },
   "outputs": []
  },
  {
   "cell_type": "markdown",
   "source": [
    "## • at the end of your Jupyter Notebook create a markdown cell and insert the questions\n",
    "(answer them looking only at the graphs):\n",
    "◦ “Which user has the most commits on Tue?” The answer: user_*.\n",
    "◦ “Which user has the most commits on Thu?” The answer: user_*.\n",
    "◦ “On which weekday do the users not like making a lot of commits?” The answer, for example: Mon.\n",
    "◦ “Which user at which hour made the largest number of commits?” The answer, for example: user_1, 15."
   ],
   "metadata": {
    "collapsed": false
   }
  }
 ],
 "metadata": {
  "kernelspec": {
   "display_name": "Python 3",
   "language": "python",
   "name": "python3"
  },
  "language_info": {
   "codemirror_mode": {
    "name": "ipython",
    "version": 2
   },
   "file_extension": ".py",
   "mimetype": "text/x-python",
   "name": "python",
   "nbconvert_exporter": "python",
   "pygments_lexer": "ipython2",
   "version": "2.7.6"
  }
 },
 "nbformat": 4,
 "nbformat_minor": 0
}
