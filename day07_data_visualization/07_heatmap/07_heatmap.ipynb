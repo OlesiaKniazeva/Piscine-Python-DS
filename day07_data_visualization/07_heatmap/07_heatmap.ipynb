{
 "cells": [
  {
   "cell_type": "code",
   "execution_count": 1,
   "metadata": {
    "collapsed": true
   },
   "outputs": [
    {
     "ename": "ModuleNotFoundError",
     "evalue": "No module named 'pandas'",
     "output_type": "error",
     "traceback": [
      "\u001B[0;31m---------------------------------------------------------------------------\u001B[0m",
      "\u001B[0;31mModuleNotFoundError\u001B[0m                       Traceback (most recent call last)",
      "Input \u001B[0;32mIn [1]\u001B[0m, in \u001B[0;36m<module>\u001B[0;34m\u001B[0m\n\u001B[0;32m----> 1\u001B[0m \u001B[38;5;28;01mimport\u001B[39;00m \u001B[38;5;21;01mpandas\u001B[39;00m \u001B[38;5;28;01mas\u001B[39;00m \u001B[38;5;21;01mpd\u001B[39;00m\n\u001B[1;32m      2\u001B[0m \u001B[38;5;28;01mimport\u001B[39;00m \u001B[38;5;21;01msqlite3\u001B[39;00m\n\u001B[1;32m      3\u001B[0m \u001B[38;5;28;01mimport\u001B[39;00m \u001B[38;5;21;01mmatplotlib\u001B[39;00m\u001B[38;5;21;01m.\u001B[39;00m\u001B[38;5;21;01mpyplot\u001B[39;00m \u001B[38;5;28;01mas\u001B[39;00m \u001B[38;5;21;01mplt\u001B[39;00m\n",
      "\u001B[0;31mModuleNotFoundError\u001B[0m: No module named 'pandas'"
     ]
    }
   ],
   "source": [
    "import pandas as pd\n",
    "import sqlite3\n",
    "import matplotlib.pyplot as plt\n",
    "from mpl_toolkits.axes_grid1 import make_axes_locatable"
   ]
  },
  {
   "cell_type": "markdown",
   "source": [
    "## • analyze only the users and not the admins\n",
    "## • you can choose the color palette that you like for both of the graphs that you will need to draw in this exercise\n",
    "## • use the table checker for your query\n",
    "## • use absolute values of the commits, not the averages\n",
    "## • sort the dataframes by the total number of commits made by a user"
   ],
   "metadata": {
    "collapsed": false
   },
   "outputs": []
  },
  {
   "cell_type": "code",
   "execution_count": null,
   "outputs": [],
   "source": [
    "con = sqlite3.connect('../data/checking-logs.sqlite.sqlite')\n",
    "query1 = \"\"\"\n",
    "        SELECT timestamp, uid\n",
    "        FROM checker\n",
    "        WHERE uid LIKE 'user_%'\n",
    "        \"\"\"\n",
    "df = pd.io.sql.read_sql(query1, con, parse_dates='timestamp')\n",
    "df2 = df.copy()\n",
    "df['day'] = df['timestamp'].dt.dayofweek\n",
    "df = df.groupby(['uid', 'day']).count().reset_index()\n",
    "re = df.copy()\n",
    "df"
   ],
   "metadata": {
    "collapsed": false
   }
  },
  {
   "cell_type": "code",
   "execution_count": null,
   "outputs": [],
   "source": [
    "df2['time'] = df2['timestamp'].dt.hour\n",
    "df2 = df2.groupby(['uid', 'time']).count().reset_index()\n",
    "df2.loc[len(df2.index)] = ['user_1', 2, 0]\n",
    "df2.loc[len(df2.index)] = ['user_1', 4, 0]\n",
    "df2"
   ],
   "metadata": {
    "collapsed": false
   }
  },
  {
   "cell_type": "code",
   "execution_count": null,
   "outputs": [],
   "source": [
    "re = re.groupby('uid').agg({'timestamp': 'sum'})\n",
    "re = re.sort_values('timestamp', ascending=False).reset_index()\n",
    "list_user = re['uid'].tolist()\n",
    "list_user"
   ],
   "metadata": {
    "collapsed": false
   }
  },
  {
   "cell_type": "code",
   "execution_count": null,
   "outputs": [],
   "source": [
    "df2 = pd.pivot(df2, index='time', columns='uid', values='timestamp')\n",
    "df2 = df2.fillna(0)\n",
    "df2 = df2.reindex(list_user, axis=1)\n",
    "df2"
   ],
   "metadata": {
    "collapsed": false
   }
  },
  {
   "cell_type": "code",
   "execution_count": null,
   "outputs": [],
   "source": [
    "df = pd.pivot(df, index='day', columns='uid', values='timestamp')\n",
    "df = df.fillna(0)\n",
    "df = df.reindex(list_user, axis=1)\n",
    "df"
   ],
   "metadata": {
    "collapsed": false
   }
  },
  {
   "cell_type": "code",
   "execution_count": null,
   "outputs": [],
   "source": [
    "date_labels = ['Mon', 'Tue', 'Wed', 'Thu', 'Fri', 'Sat', 'Sun']\n",
    "\n",
    "fig, ax = plt.subplots(figsize=(15, 10))\n",
    "im = ax.imshow(df, cmap='YlOrRd')\n",
    "ax.set_xticks(range(0, len(list_user)), list_user, rotation=90)\n",
    "ax.set_yticks(range(0, len(date_labels)), date_labels)\n",
    "ax_divider = make_axes_locatable(ax)\n",
    "cax1 = ax_divider.append_axes('right', size='7%', pad='2%')\n",
    "cb = fig.colorbar(im, cax=cax1)\n",
    "\n",
    "fig2, ax2 = plt.subplots(figsize=(15, 10))\n",
    "im2 = ax2.imshow(df2, cmap='plasma')\n",
    "ax2.set_xticks(range(0, len(list_user)), list_user, rotation=90)\n",
    "ax2.set_yticks(range(0, 24))\n",
    "ax2_divider = make_axes_locatable(ax2)\n",
    "cax2 = ax2_divider.append_axes('right', size='7%', pad='2%')\n",
    "cb = fig.colorbar(im2, cax=cax2)"
   ],
   "metadata": {
    "collapsed": false
   }
  },
  {
   "cell_type": "markdown",
   "source": [
    "## • at the end of your Jupyter Notebook create a markdown cell and insert the questions\n",
    "(answer them looking only at the graphs):\n",
    "◦ “Which user has the most commits on Tue?”\n",
    "    The answer: user_2.\n",
    "◦ “Which user has the most commits on Thu?”\n",
    "    The answer: user_4.\n",
    "◦ “On which weekday do the users not like making a lot of commits?”\n",
    "    The answer: Fri.\n",
    "◦ “Which user at which hour made the largest number of commits?”\n",
    "    The answer, for example: user_4, 21."
   ],
   "metadata": {
    "collapsed": false
   }
  },
  {
   "cell_type": "code",
   "execution_count": null,
   "outputs": [],
   "source": [
    "con.close()"
   ],
   "metadata": {
    "collapsed": false
   }
  }
 ],
 "metadata": {
  "kernelspec": {
   "display_name": "Python 3",
   "language": "python",
   "name": "python3"
  },
  "language_info": {
   "codemirror_mode": {
    "name": "ipython",
    "version": 2
   },
   "file_extension": ".py",
   "mimetype": "text/x-python",
   "name": "python",
   "nbconvert_exporter": "python",
   "pygments_lexer": "ipython2",
   "version": "2.7.6"
  }
 },
 "nbformat": 4,
 "nbformat_minor": 0
}
