{
 "cells": [
  {
   "cell_type": "code",
   "execution_count": 8,
   "outputs": [
    {
     "ename": "ModuleNotFoundError",
     "evalue": "No module named 'pandas'",
     "output_type": "error",
     "traceback": [
      "\u001B[0;31m---------------------------------------------------------------------------\u001B[0m",
      "\u001B[0;31mModuleNotFoundError\u001B[0m                       Traceback (most recent call last)",
      "Input \u001B[0;32mIn [8]\u001B[0m, in \u001B[0;36m<module>\u001B[0;34m\u001B[0m\n\u001B[0;32m----> 1\u001B[0m \u001B[38;5;28;01mimport\u001B[39;00m \u001B[38;5;21;01mpandas\u001B[39;00m \u001B[38;5;28;01mas\u001B[39;00m \u001B[38;5;21;01mpd\u001B[39;00m\n\u001B[1;32m      2\u001B[0m \u001B[38;5;28;01mimport\u001B[39;00m \u001B[38;5;21;01msqlite3\u001B[39;00m\n\u001B[1;32m      3\u001B[0m \u001B[38;5;28;01mfrom\u001B[39;00m \u001B[38;5;21;01mpandas\u001B[39;00m\u001B[38;5;21;01m.\u001B[39;00m\u001B[38;5;21;01mplotting\u001B[39;00m \u001B[38;5;28;01mimport\u001B[39;00m scatter_matrix\n",
      "\u001B[0;31mModuleNotFoundError\u001B[0m: No module named 'pandas'"
     ]
    }
   ],
   "source": [
    "import pandas as pd\n",
    "import sqlite3\n",
    "from pandas.plotting import scatter_matrix"
   ],
   "metadata": {
    "collapsed": false
   }
  },
  {
   "cell_type": "markdown",
   "source": [
    "## • create a dataframe where each user of the test group has the average difference, number of pageviews and number of commits\n",
    "## • do not take project1 into account for calculations of the average difference and the number of commits\n",
    "## • take the number of commits from the checker table"
   ],
   "metadata": {
    "collapsed": false
   },
   "outputs": []
  },
  {
   "cell_type": "code",
   "execution_count": null,
   "outputs": [],
   "source": [
    "con = sqlite3.connect('../data/checking-logs.sqlite.sqlite')\n",
    "query = \"\"\"SELECT AVG((strftime('%s', first_commit_ts) - deadlines) / 3600) AS avg_diff, pageviews, num_commits\n",
    "            FROM test JOIN (SELECT uid, COUNT(datetime) AS pageviews\n",
    "                            FROM pageviews\n",
    "                            GROUP BY pageviews.uid) AS pageview_count_table ON test.uid = pageview_count_table.uid\n",
    "                      JOIN deadlines ON test.labname = deadlines.labs\n",
    "                      JOIN (SELECT uid,  COUNT(timestamp) AS num_commits\n",
    "                            FROM checker\n",
    "                            WHERE labname != 'project1'\n",
    "                            GROUP BY uid) AS commits_count_table ON test.uid =\n",
    "                              commits_count_table.uid\n",
    "            WHERE labname IS NOT 'project1'\n",
    "            GROUP BY test.uid\n",
    "        \"\"\"\n",
    "\n",
    "df = pd.io.sql.read_sql(query, con, parse_dates='timestamp')\n",
    "df"
   ],
   "metadata": {
    "collapsed": false
   }
  },
  {
   "cell_type": "markdown",
   "source": [
    "## • the figsize is still the same, you can choose whatever fontsize you like as well as the color palette\n",
    "## • the size of the dots should be 200\n",
    "## • the width of the lines of the diagonal graphs (kde) should be 3"
   ],
   "metadata": {
    "collapsed": false
   }
  },
  {
   "cell_type": "code",
   "execution_count": null,
   "outputs": [],
   "source": [
    "scatter_matrix(df, figsize=(15,8), density_kwds={'linewidth':3}, diagonal='kde', s=200, color='y', alpha=1)"
   ],
   "metadata": {
    "collapsed": false
   }
  },
  {
   "cell_type": "markdown",
   "source": [
    "## • at the end of your Jupyter Notebook, create a markdown cell and insert the questions:"
   ],
   "metadata": {
    "collapsed": false
   },
   "outputs": []
  },
  {
   "cell_type": "markdown",
   "source": [
    "◦ “Can we say that if a user has a low number of pageviews then they likely have a low number of commits?”"
   ],
   "metadata": {
    "collapsed": false
   }
  },
  {
   "cell_type": "markdown",
   "source": [
    "No"
   ],
   "metadata": {
    "collapsed": false
   }
  },
  {
   "cell_type": "markdown",
   "source": [
    "◦ “Can we say that if a user has a low number of pageviews then they likely have a small average difference between the first commit and the lab deadline?”"
   ],
   "metadata": {
    "collapsed": false
   },
   "outputs": []
  },
  {
   "cell_type": "markdown",
   "source": [
    "No"
   ],
   "metadata": {
    "collapsed": false
   }
  },
  {
   "cell_type": "markdown",
   "source": [
    "◦ “Can we say that there are many users with a low number of commits and a few with a high number of commits”?"
   ],
   "metadata": {
    "collapsed": false
   },
   "outputs": []
  },
  {
   "cell_type": "markdown",
   "source": [
    "Yes"
   ],
   "metadata": {
    "collapsed": false
   }
  },
  {
   "cell_type": "markdown",
   "source": [
    "◦ “Can we say that there are many users with a small average difference and a few with a large average difference”?"
   ],
   "metadata": {
    "collapsed": false
   }
  },
  {
   "cell_type": "markdown",
   "source": [
    "No"
   ],
   "metadata": {
    "collapsed": false
   }
  },
  {
   "cell_type": "code",
   "execution_count": null,
   "outputs": [],
   "source": [
    "con.close()"
   ],
   "metadata": {
    "collapsed": false
   }
  }
 ],
 "metadata": {
  "kernelspec": {
   "display_name": "Python 3",
   "language": "python",
   "name": "python3"
  },
  "language_info": {
   "codemirror_mode": {
    "name": "ipython",
    "version": 2
   },
   "file_extension": ".py",
   "mimetype": "text/x-python",
   "name": "python",
   "nbconvert_exporter": "python",
   "pygments_lexer": "ipython2",
   "version": "2.7.6"
  }
 },
 "nbformat": 4,
 "nbformat_minor": 0
}
